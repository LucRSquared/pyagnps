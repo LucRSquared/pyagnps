{
 "cells": [
  {
   "cell_type": "code",
   "execution_count": 3,
   "metadata": {},
   "outputs": [],
   "source": [
    "import sys\n",
    "sys.path.append('..')\n",
    "\n",
    "from pyagnps import soil_data_market as sdm"
   ]
  },
  {
   "cell_type": "markdown",
   "metadata": {},
   "source": [
    "### Define a bounding box\n",
    "This is a bounding box around Goodwin Creek in Panola County, Mississippi\n",
    "The coordinates are given according to the EPSG:4326 CRS."
   ]
  },
  {
   "cell_type": "code",
   "execution_count": 4,
   "metadata": {},
   "outputs": [],
   "source": [
    "bbox = (-89.94724, 34.22708, -89.76632, 34.31553) # min_lon, min_lat, max_lon, max_lat"
   ]
  },
  {
   "cell_type": "markdown",
   "metadata": {},
   "source": [
    "### Query the SSURGO database and collect the data as a GeoDataFrame"
   ]
  },
  {
   "cell_type": "code",
   "execution_count": 5,
   "metadata": {},
   "outputs": [
    {
     "ename": "NameError",
     "evalue": "name 'gdf' is not defined",
     "output_type": "error",
     "traceback": [
      "\u001b[1;31m---------------------------------------------------------------------------\u001b[0m",
      "\u001b[1;31mNameError\u001b[0m                                 Traceback (most recent call last)",
      "\u001b[1;32mc:\\Users\\Luc\\projects\\pyagnps\\src\\notebooks\\soil_shapefile_download.ipynb Cell 5\u001b[0m in \u001b[0;36m<cell line: 1>\u001b[1;34m()\u001b[0m\n\u001b[1;32m----> <a href='vscode-notebook-cell:/c%3A/Users/Luc/projects/pyagnps/src/notebooks/soil_shapefile_download.ipynb#ch0000003?line=0'>1</a>\u001b[0m gdf \u001b[39m=\u001b[39m sdm\u001b[39m.\u001b[39;49mdownload_soil_geodataframe(bbox)\n",
      "File \u001b[1;32mc:\\Users\\Luc\\projects\\pyagnps\\src\\notebooks\\..\\pyagnps\\soil_data_market.py:29\u001b[0m, in \u001b[0;36mdownload_soil_geodataframe\u001b[1;34m(bbox)\u001b[0m\n\u001b[0;32m     26\u001b[0m url \u001b[39m=\u001b[39m \u001b[39m\"\u001b[39m\u001b[39mhttps://sdmdataaccess.sc.egov.usda.gov/TABULAR/post.rest\u001b[39m\u001b[39m\"\u001b[39m\n\u001b[0;32m     27\u001b[0m soil_response \u001b[39m=\u001b[39m requests\u001b[39m.\u001b[39mpost(url, json\u001b[39m=\u001b[39mbody)\u001b[39m.\u001b[39mjson()\n\u001b[1;32m---> 29\u001b[0m \u001b[39mreturn\u001b[39;00m gdf\n",
      "\u001b[1;31mNameError\u001b[0m: name 'gdf' is not defined"
     ]
    }
   ],
   "source": [
    "gdf = sdm.download_soil_geodataframe(bbox)"
   ]
  },
  {
   "cell_type": "code",
   "execution_count": null,
   "metadata": {},
   "outputs": [],
   "source": []
  }
 ],
 "metadata": {
  "kernelspec": {
   "display_name": "Python 3.10.5 ('pyagnps')",
   "language": "python",
   "name": "python3"
  },
  "language_info": {
   "codemirror_mode": {
    "name": "ipython",
    "version": 3
   },
   "file_extension": ".py",
   "mimetype": "text/x-python",
   "name": "python",
   "nbconvert_exporter": "python",
   "pygments_lexer": "ipython3",
   "version": "3.10.5"
  },
  "orig_nbformat": 4,
  "vscode": {
   "interpreter": {
    "hash": "37752bae382788ba21ac34794a64f75d413ac70376ad909676c173e7f43b872d"
   }
  }
 },
 "nbformat": 4,
 "nbformat_minor": 2
}
