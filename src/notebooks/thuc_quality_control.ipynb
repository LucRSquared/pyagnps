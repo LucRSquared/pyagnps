{
 "cells": [
  {
   "cell_type": "markdown",
   "metadata": {},
   "source": [
    "# TopAGNPS watershed delineation quality control\n",
    "\n",
    "- After TopAGNPS has delineated a watershed, the final result is checked for quality control:\n",
    "    - Cells coverage vs. initial THUC boundary\n",
    "    - Check if delineation reached the edge of the DEM"
   ]
  },
  {
   "cell_type": "code",
   "execution_count": 6,
   "metadata": {},
   "outputs": [],
   "source": [
    "import sys\n",
    "sys.path.append('..')\n",
    "import geopandas as gpd\n",
    "\n",
    "from pyagnps import topagnps, utils"
   ]
  },
  {
   "cell_type": "markdown",
   "metadata": {},
   "source": [
    "## Paths to TopAGNPS runs and THUC shapefile"
   ]
  },
  {
   "cell_type": "code",
   "execution_count": 2,
   "metadata": {},
   "outputs": [],
   "source": [
    "path_to_thucs = 'C:/Users/Luc/projects/pyagnps/inputs/thucs/tophuc_S_40000.gpkg'\n",
    "thucs = gpd.read_file(path_to_thucs)"
   ]
  },
  {
   "cell_type": "code",
   "execution_count": 3,
   "metadata": {},
   "outputs": [
    {
     "data": {
      "text/html": [
       "<div>\n",
       "<style scoped>\n",
       "    .dataframe tbody tr th:only-of-type {\n",
       "        vertical-align: middle;\n",
       "    }\n",
       "\n",
       "    .dataframe tbody tr th {\n",
       "        vertical-align: top;\n",
       "    }\n",
       "\n",
       "    .dataframe thead th {\n",
       "        text-align: right;\n",
       "    }\n",
       "</style>\n",
       "<table border=\"1\" class=\"dataframe\">\n",
       "  <thead>\n",
       "    <tr style=\"text-align: right;\">\n",
       "      <th></th>\n",
       "      <th>tophucid</th>\n",
       "      <th>drainage_area_sqkm</th>\n",
       "      <th>outlethuc12</th>\n",
       "      <th>outlethuc12_hutype</th>\n",
       "      <th>receivinghuc12</th>\n",
       "      <th>contained_hucs</th>\n",
       "      <th>num_contained_hucs</th>\n",
       "      <th>foreign_inflows</th>\n",
       "      <th>num_foreign_inflows</th>\n",
       "      <th>totophuc</th>\n",
       "      <th>bbox_area_sqkm</th>\n",
       "      <th>tophucid_bbox_container</th>\n",
       "      <th>geometry</th>\n",
       "    </tr>\n",
       "  </thead>\n",
       "  <tbody>\n",
       "    <tr>\n",
       "      <th>1167</th>\n",
       "      <td>1175</td>\n",
       "      <td>1394.19</td>\n",
       "      <td>070801041806</td>\n",
       "      <td>S</td>\n",
       "      <td>071100010601</td>\n",
       "      <td>070801041704,070801041701,070801041803,0708010...</td>\n",
       "      <td>12</td>\n",
       "      <td>070801041302,070801041605,070801071006,0708010...</td>\n",
       "      <td>7</td>\n",
       "      <td>1177</td>\n",
       "      <td>2802.375316</td>\n",
       "      <td>None</td>\n",
       "      <td>POLYGON ((-91.28058 40.38634, -91.28122 40.385...</td>\n",
       "    </tr>\n",
       "  </tbody>\n",
       "</table>\n",
       "</div>"
      ],
      "text/plain": [
       "     tophucid  drainage_area_sqkm   outlethuc12 outlethuc12_hutype  \\\n",
       "1167     1175             1394.19  070801041806                  S   \n",
       "\n",
       "     receivinghuc12                                     contained_hucs  \\\n",
       "1167   071100010601  070801041704,070801041701,070801041803,0708010...   \n",
       "\n",
       "      num_contained_hucs                                    foreign_inflows  \\\n",
       "1167                  12  070801041302,070801041605,070801071006,0708010...   \n",
       "\n",
       "      num_foreign_inflows totophuc  bbox_area_sqkm tophucid_bbox_container  \\\n",
       "1167                    7     1177     2802.375316                    None   \n",
       "\n",
       "                                               geometry  \n",
       "1167  POLYGON ((-91.28058 40.38634, -91.28122 40.385...  "
      ]
     },
     "execution_count": 3,
     "metadata": {},
     "output_type": "execute_result"
    }
   ],
   "source": [
    "thuc_id = '1175'\n",
    "\n",
    "thuc_select = thucs[thucs['tophucid']==thuc_id]\n",
    "thuc_select"
   ]
  },
  {
   "cell_type": "markdown",
   "metadata": {},
   "source": [
    "## Specification of the folder containing the TopAGNPS delineations and the name of the delineation run"
   ]
  },
  {
   "cell_type": "code",
   "execution_count": 4,
   "metadata": {},
   "outputs": [],
   "source": [
    "thuc_dir_path = 'C:/Users/Luc/projects/pyagnps/outputs/topagnps'\n",
    "thucid_dir_name = f'thuc_{thuc_id}_hydrodem_shifted_98966_cm_unwalled_4800_m'\n",
    "thuc_topagnps_path = f'{thuc_dir_path}/{thucid_dir_name}'\n",
    "path_to_cell_IDs_asc = f'{thuc_topagnps_path}/AnnAGNPS_Cell_IDs.asc'\n",
    "\n",
    "path_to_topagnps_wrn = f'{thuc_topagnps_path}/TopAGNPS_wrn.CSV'"
   ]
  },
  {
   "cell_type": "code",
   "execution_count": 113,
   "metadata": {},
   "outputs": [],
   "source": [
    "results = topagnps.quality_control_areas_vs_boundary(path_to_cell_IDs_asc, thuc_select)"
   ]
  }
 ],
 "metadata": {
  "kernelspec": {
   "display_name": "Python 3.10.5 ('pyagnps')",
   "language": "python",
   "name": "python3"
  },
  "language_info": {
   "codemirror_mode": {
    "name": "ipython",
    "version": 3
   },
   "file_extension": ".py",
   "mimetype": "text/x-python",
   "name": "python",
   "nbconvert_exporter": "python",
   "pygments_lexer": "ipython3",
   "version": "3.10.5"
  },
  "orig_nbformat": 4,
  "vscode": {
   "interpreter": {
    "hash": "37752bae382788ba21ac34794a64f75d413ac70376ad909676c173e7f43b872d"
   }
  }
 },
 "nbformat": 4,
 "nbformat_minor": 2
}
