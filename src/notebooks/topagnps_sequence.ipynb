{
 "cells": [
  {
   "cell_type": "markdown",
   "metadata": {},
   "source": [
    "# TopAGNPS run sequence\n",
    "\n",
    "- This notebook executes the commands to:\n",
    "    - Run the preprocessing step of TopAGNPS from presribed boundary\n",
    "    - Identify the outlet\n",
    "    - Finish the computation"
   ]
  },
  {
   "cell_type": "code",
   "execution_count": 1,
   "metadata": {},
   "outputs": [],
   "source": [
    "import sys\n",
    "sys.path.append('..')\n",
    "import geopandas as gpd\n",
    "\n",
    "from pyagnps import topagnps\n"
   ]
  },
  {
   "cell_type": "markdown",
   "metadata": {},
   "source": [
    "## Define paths and select geometry for DEM selection"
   ]
  },
  {
   "cell_type": "code",
   "execution_count": 2,
   "metadata": {},
   "outputs": [],
   "source": [
    "path_to_thucs = '../../inputs/thucs/tophuc_S_40000.gpkg'\n",
    "root_dir = '../../outputs/topagnps/'\n",
    "# path_to_input_raster = '../../inputs/TNM_DEM/USGS_13_n41w092_20220303.tif'\n",
    "# path_to_input_raster = '../../inputs/TNM_DEM/HRNHDPlusRasters0708/hydrodem.tif'\n",
    "path_to_input_raster = 'D:/AIMS/NHDPlusHR_raster_tests/hydrodem_shifted_98966_cm_unwalled_4800_m_topagnps.tif'\n",
    "# path_to_input_raster = 'D:/AIMS/NHDPlusHR_raster_tests/hydrodem_shifted_98867_cm_unwalled_topagnps_meters_float32.tif'"
   ]
  },
  {
   "cell_type": "code",
   "execution_count": 3,
   "metadata": {},
   "outputs": [],
   "source": [
    "thucs = gpd.read_file(path_to_thucs)"
   ]
  },
  {
   "cell_type": "code",
   "execution_count": 38,
   "metadata": {},
   "outputs": [
    {
     "data": {
      "text/html": [
       "<div>\n",
       "<style scoped>\n",
       "    .dataframe tbody tr th:only-of-type {\n",
       "        vertical-align: middle;\n",
       "    }\n",
       "\n",
       "    .dataframe tbody tr th {\n",
       "        vertical-align: top;\n",
       "    }\n",
       "\n",
       "    .dataframe thead th {\n",
       "        text-align: right;\n",
       "    }\n",
       "</style>\n",
       "<table border=\"1\" class=\"dataframe\">\n",
       "  <thead>\n",
       "    <tr style=\"text-align: right;\">\n",
       "      <th></th>\n",
       "      <th>tophucid</th>\n",
       "      <th>drainage_area_sqkm</th>\n",
       "      <th>outlethuc12</th>\n",
       "      <th>outlethuc12_hutype</th>\n",
       "      <th>receivinghuc12</th>\n",
       "      <th>contained_hucs</th>\n",
       "      <th>num_contained_hucs</th>\n",
       "      <th>foreign_inflows</th>\n",
       "      <th>num_foreign_inflows</th>\n",
       "      <th>totophuc</th>\n",
       "      <th>bbox_area_sqkm</th>\n",
       "      <th>tophucid_bbox_container</th>\n",
       "      <th>geometry</th>\n",
       "    </tr>\n",
       "  </thead>\n",
       "  <tbody>\n",
       "    <tr>\n",
       "      <th>1167</th>\n",
       "      <td>1175</td>\n",
       "      <td>1394.19</td>\n",
       "      <td>070801041806</td>\n",
       "      <td>S</td>\n",
       "      <td>071100010601</td>\n",
       "      <td>070801041704,070801041701,070801041803,0708010...</td>\n",
       "      <td>12</td>\n",
       "      <td>070801041302,070801041605,070801071006,0708010...</td>\n",
       "      <td>7</td>\n",
       "      <td>1177</td>\n",
       "      <td>2802.375316</td>\n",
       "      <td>None</td>\n",
       "      <td>POLYGON ((-91.28058 40.38634, -91.28122 40.385...</td>\n",
       "    </tr>\n",
       "  </tbody>\n",
       "</table>\n",
       "</div>"
      ],
      "text/plain": [
       "     tophucid  drainage_area_sqkm   outlethuc12 outlethuc12_hutype  \\\n",
       "1167     1175             1394.19  070801041806                  S   \n",
       "\n",
       "     receivinghuc12                                     contained_hucs  \\\n",
       "1167   071100010601  070801041704,070801041701,070801041803,0708010...   \n",
       "\n",
       "      num_contained_hucs                                    foreign_inflows  \\\n",
       "1167                  12  070801041302,070801041605,070801071006,0708010...   \n",
       "\n",
       "      num_foreign_inflows totophuc  bbox_area_sqkm tophucid_bbox_container  \\\n",
       "1167                    7     1177     2802.375316                    None   \n",
       "\n",
       "                                               geometry  \n",
       "1167  POLYGON ((-91.28058 40.38634, -91.28122 40.385...  "
      ]
     },
     "execution_count": 38,
     "metadata": {},
     "output_type": "execute_result"
    }
   ],
   "source": [
    "thuc_id = '1175'\n",
    "# thucid_dir_name = f'thuc_{thuc_id}'\n",
    "thucid_dir_name = f'thuc_{thuc_id}_hydrodem_shifted_98966_cm_unwalled_4800_m_test'\n",
    "thuc_select = thucs[thucs['tophucid']==thuc_id]\n",
    "thuc_select"
   ]
  },
  {
   "cell_type": "markdown",
   "metadata": {},
   "source": [
    "## Download/Read DEM and write to `.asc` file"
   ]
  },
  {
   "cell_type": "code",
   "execution_count": 40,
   "metadata": {},
   "outputs": [
    {
     "name": "stderr",
     "output_type": "stream",
     "text": [
      "c:\\Users\\Luc\\anaconda3\\envs\\pyagnps\\lib\\site-packages\\rasterio\\windows.py:310: RasterioDeprecationWarning: The height, width, and precision parameters are unused, deprecated, and will be removed in 2.0.0.\n",
      "  warnings.warn(\n"
     ]
    },
    {
     "name": "stdout",
     "output_type": "stream",
     "text": [
      "nan\n",
      "<class 'numpy.float64'>\n"
     ]
    }
   ],
   "source": [
    "import importlib\n",
    "importlib.reload(topagnps);\n",
    "\n",
    "path_to_dir = topagnps.create_topagnps_directory(root_dir, thucid_dir_name)\n",
    "\n",
    "# dem, path_to_asc = topagnps.download_dem(thuc_select, path_to_dir, name=thucid_dir_name, resolution_m=10, buffer_m=500)\n",
    "dem, path_to_asc = topagnps.get_dem_from_raster(thuc_select, path_to_input_raster, path_to_dir, name=thucid_dir_name, resolution_m=10, buffer_m=500, keeptif=True)"
   ]
  },
  {
   "cell_type": "code",
   "execution_count": 33,
   "metadata": {},
   "outputs": [
    {
     "data": {
      "text/plain": [
       "-2147483648.0"
      ]
     },
     "execution_count": 33,
     "metadata": {},
     "output_type": "execute_result"
    }
   ],
   "source": [
    "dem.rio.nodata"
   ]
  },
  {
   "cell_type": "markdown",
   "metadata": {},
   "source": [
    "## Define `TOPAGNPS.XML` control file"
   ]
  },
  {
   "cell_type": "markdown",
   "metadata": {},
   "source": [
    "Define the parameters for the preprocessing step"
   ]
  },
  {
   "cell_type": "code",
   "execution_count": 34,
   "metadata": {},
   "outputs": [],
   "source": [
    "dem_filename = path_to_asc.rsplit('/',1)[-1] # Part of the string after the last / = \"thuc_1173_rest_10_m.asc\"\n",
    "\n",
    "topagnpsXML = {'DEMPROC': 2,\n",
    "               'FORMAT': 0,\n",
    "               'CSA': 10,\n",
    "               'MSCL': 250,\n",
    "               'KEEPFILES': 1,\n",
    "               'FILENAME': dem_filename}\n",
    "\n",
    "topagnps.create_topagnps_xml_control_file(topagnpsXML, path_to_dir+'/TOPAGNPS.XML')"
   ]
  },
  {
   "cell_type": "markdown",
   "metadata": {},
   "source": [
    "## Run TopAGNPS (pre-processing step)"
   ]
  },
  {
   "cell_type": "code",
   "execution_count": 35,
   "metadata": {},
   "outputs": [],
   "source": [
    "path_to_TOPAGNPS_bin = '../../../src/bins/TopAGNPS_v6.00.b.017_release_64-bit_Windows.exe' # absolute or with respect to a sub directory in path_to_dir\n",
    "\n",
    "topagnps.run_topagnps(path_to_dir, path_to_TOPAGNPS_bin)"
   ]
  },
  {
   "cell_type": "markdown",
   "metadata": {},
   "source": [
    "## Find outlet using `UPAREA.ASC` file and the t-huc geometry"
   ]
  },
  {
   "cell_type": "code",
   "execution_count": 36,
   "metadata": {},
   "outputs": [
    {
     "name": "stdout",
     "output_type": "stream",
     "text": [
      "385430.0 1938660.0 4754 1068\n",
      "ESRI:102039\n"
     ]
    }
   ],
   "source": [
    "xout, yout, rowout, colout, raster_crs = topagnps.find_outlet_uparea_shape_intersection(path_to_dir+'/UPAREA.ASC', thuc_select)\n",
    "print(xout, yout, rowout, colout)\n",
    "print(raster_crs)"
   ]
  },
  {
   "cell_type": "markdown",
   "metadata": {},
   "source": [
    "## Finish computation"
   ]
  },
  {
   "cell_type": "code",
   "execution_count": 37,
   "metadata": {},
   "outputs": [],
   "source": [
    "topagnpsXML = {'DEMPROC': 0,\n",
    "               'FORMAT': 0,\n",
    "               'CSA': 10,\n",
    "               'MSCL': 250,\n",
    "               'KEEPFILES': 1,\n",
    "               'OUTROW': rowout,\n",
    "               'OUTCOL': colout,\n",
    "               'READOUT': 1,\n",
    "               'FILENAME': dem_filename}\n",
    "\n",
    "topagnps.create_topagnps_xml_control_file(topagnpsXML, path_to_dir+'/TOPAGNPS.XML')\n",
    "topagnps.run_topagnps(path_to_dir, path_to_TOPAGNPS_bin)"
   ]
  },
  {
   "cell_type": "code",
   "execution_count": 65,
   "metadata": {},
   "outputs": [],
   "source": [
    "import pandas as pd\n",
    "\n",
    "df = pd.read_csv('C:/Users/Luc/projects/pyagnps/inputs/thucs/lmrb.csv')"
   ]
  },
  {
   "cell_type": "code",
   "execution_count": 68,
   "metadata": {},
   "outputs": [],
   "source": [
    "df = df[['tophucid']]"
   ]
  },
  {
   "cell_type": "code",
   "execution_count": 70,
   "metadata": {},
   "outputs": [],
   "source": [
    "df.loc[df['tophucid']==521,'done']=True"
   ]
  },
  {
   "cell_type": "code",
   "execution_count": 91,
   "metadata": {},
   "outputs": [],
   "source": [
    "import pyagnps.utils as utils\n",
    "\n",
    "import importlib\n",
    "\n",
    "importlib.reload(utils);"
   ]
  },
  {
   "cell_type": "code",
   "execution_count": null,
   "metadata": {},
   "outputs": [],
   "source": [
    "keep_files =['AgFlow_LS_Factor.asc',\n",
    "             'AgFlow_LS_Factor.prj',\n",
    "             'AnnAGNPS_Cell_IDs.asc',\n",
    "             'AnnAGNPS_Cell_IDs.prj',\n",
    "             'AnnAGNPS_Reach_IDs.asc',\n",
    "             'AnnAGNPS_Reach_IDs.prj',\n",
    "             'FLOVEC.ASC',\n",
    "             'FLOVEC.PRJ',\n",
    "             'NETFUL.ASC',\n",
    "             'NETFUL.PRJ',\n",
    "             'UPAREA.ASC',\n",
    "             'UPAREA.PRJ',\n",
    "             'AgFlow_Reach_Data.csv',\n",
    "             'AnnAGNPS_Cell_Data_Section.csv',\n",
    "             'AnnAGNPS_Reach_Data_Section.csv',\n",
    "             'TopAGNPS_log.CSV',\n",
    "             'TopAGNPS_status.CSV',\n",
    "             'TopAGNPS_wrn.CSV',\n",
    "             'TOPAGNPS.XML']\n",
    "\n",
    "path_to_dir = 'C:/Users/Luc/projects/pyagnps/outputs/topagnps/thuc_1169_del'\n",
    "\n",
    "dem_name = 'thuc_1169_res_10_m'\n",
    "\n",
    "keep_files.append(f'{dem_name}.asc')\n",
    "keep_files.append(f'{dem_name}.prj')\n",
    "\n",
    "file_del_errors = utils.remove_all_files_from_dir_except_from_list(path_to_dir, keep_files)\n",
    "# need to append dem name"
   ]
  }
 ],
 "metadata": {
  "kernelspec": {
   "display_name": "Python 3.10.5 ('pyagnps')",
   "language": "python",
   "name": "python3"
  },
  "language_info": {
   "codemirror_mode": {
    "name": "ipython",
    "version": 3
   },
   "file_extension": ".py",
   "mimetype": "text/x-python",
   "name": "python",
   "nbconvert_exporter": "python",
   "pygments_lexer": "ipython3",
   "version": "3.10.5"
  },
  "orig_nbformat": 4,
  "vscode": {
   "interpreter": {
    "hash": "37752bae382788ba21ac34794a64f75d413ac70376ad909676c173e7f43b872d"
   }
  }
 },
 "nbformat": 4,
 "nbformat_minor": 2
}
