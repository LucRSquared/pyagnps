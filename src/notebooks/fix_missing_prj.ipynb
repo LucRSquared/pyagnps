{
 "cells": [
  {
   "cell_type": "markdown",
   "metadata": {},
   "source": [
    "This notebook will check for missing projection files and replace them with another"
   ]
  },
  {
   "cell_type": "code",
   "execution_count": 5,
   "metadata": {},
   "outputs": [],
   "source": [
    "import os, shutil"
   ]
  },
  {
   "cell_type": "code",
   "execution_count": 8,
   "metadata": {},
   "outputs": [],
   "source": [
    "missing_files = ['AnnAGNPS_Cell_IDs.PRJ',\n",
    "                 'AnnAGNPS_Reach_IDs.PRJ']\n",
    "\n",
    "replacement_file = 'FLOVEC.PRJ'"
   ]
  },
  {
   "cell_type": "code",
   "execution_count": 13,
   "metadata": {},
   "outputs": [],
   "source": [
    "thuc_dir = 'C:/Users/Luc/projects/pyagnps/outputs/topagnps/'\n",
    "\n",
    "for root, dirs, files in os.walk(thuc_dir):\n",
    "    for mf in missing_files:\n",
    "        if (mf not in files) and (replacement_file in files):\n",
    "            shutil.copy(f'{root}/{replacement_file}', f'{root}/{mf}')"
   ]
  },
  {
   "cell_type": "code",
   "execution_count": 15,
   "metadata": {},
   "outputs": [],
   "source": [
    "for root, dirs, files in os.walk(thuc_dir):\n",
    "    if (not dirs) and (not files):\n",
    "        os.rmdir(root)"
   ]
  }
 ],
 "metadata": {
  "kernelspec": {
   "display_name": "Python 3.10.5 ('pyagnps')",
   "language": "python",
   "name": "python3"
  },
  "language_info": {
   "codemirror_mode": {
    "name": "ipython",
    "version": 3
   },
   "file_extension": ".py",
   "mimetype": "text/x-python",
   "name": "python",
   "nbconvert_exporter": "python",
   "pygments_lexer": "ipython3",
   "version": "3.10.5"
  },
  "orig_nbformat": 4,
  "vscode": {
   "interpreter": {
    "hash": "37752bae382788ba21ac34794a64f75d413ac70376ad909676c173e7f43b872d"
   }
  }
 },
 "nbformat": 4,
 "nbformat_minor": 2
}
