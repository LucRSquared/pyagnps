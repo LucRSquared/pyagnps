{
 "cells": [
  {
   "cell_type": "code",
   "execution_count": 2,
   "metadata": {},
   "outputs": [],
   "source": [
    "from pathlib import Path\n",
    "import pandas as pd"
   ]
  },
  {
   "cell_type": "code",
   "execution_count": 3,
   "metadata": {},
   "outputs": [],
   "source": [
    "path_to_all_soil_gNATSGO_result = Path('D:/AIMS/Datasets/Soil/DATABASE_POPULATION_TASKS/SDM_QUERY_AND_NITA_PROCESSING/ALL_US_v1_SSURGO_STATSGO2/test_gNATSGO_table_queries/query_gNATSGO_rvindicator_all.csv')"
   ]
  },
  {
   "cell_type": "code",
   "execution_count": 5,
   "metadata": {},
   "outputs": [],
   "source": [
    "df = pd.read_csv(path_to_all_soil_gNATSGO_result, low_memory=False)"
   ]
  },
  {
   "cell_type": "code",
   "execution_count": 22,
   "metadata": {},
   "outputs": [
    {
     "data": {
      "text/html": [
       "<div>\n",
       "<style scoped>\n",
       "    .dataframe tbody tr th:only-of-type {\n",
       "        vertical-align: middle;\n",
       "    }\n",
       "\n",
       "    .dataframe tbody tr th {\n",
       "        vertical-align: top;\n",
       "    }\n",
       "\n",
       "    .dataframe thead th {\n",
       "        text-align: right;\n",
       "    }\n",
       "</style>\n",
       "<table border=\"1\" class=\"dataframe\">\n",
       "  <thead>\n",
       "    <tr style=\"text-align: right;\">\n",
       "      <th></th>\n",
       "      <th>saverest</th>\n",
       "      <th>areasymbol</th>\n",
       "      <th>areaname</th>\n",
       "      <th>musym</th>\n",
       "      <th>mukey</th>\n",
       "      <th>hydgrp</th>\n",
       "      <th>kwfact</th>\n",
       "      <th>albedodry_r</th>\n",
       "      <th>restrictiondepthr</th>\n",
       "      <th>partdensity</th>\n",
       "      <th>...</th>\n",
       "      <th>fragvol</th>\n",
       "      <th>sandvf_r</th>\n",
       "      <th>caco3_r</th>\n",
       "      <th>ksat_r</th>\n",
       "      <th>wthirdbar_r</th>\n",
       "      <th>wfifteenbar_r</th>\n",
       "      <th>om_r</th>\n",
       "      <th>ph1to1h2o_r</th>\n",
       "      <th>comppct_r</th>\n",
       "      <th>rvindicator</th>\n",
       "    </tr>\n",
       "  </thead>\n",
       "  <tbody>\n",
       "  </tbody>\n",
       "</table>\n",
       "<p>0 rows × 27 columns</p>\n",
       "</div>"
      ],
      "text/plain": [
       "Empty DataFrame\n",
       "Columns: [saverest, areasymbol, areaname, musym, mukey, hydgrp, kwfact, albedodry_r, restrictiondepthr, partdensity, compname, texdesc, hzdepb_r, dbovendry_r, claytotal_r, silttotal_r, sandtotal_r, fragvol, sandvf_r, caco3_r, ksat_r, wthirdbar_r, wfifteenbar_r, om_r, ph1to1h2o_r, comppct_r, rvindicator]\n",
       "Index: []\n",
       "\n",
       "[0 rows x 27 columns]"
      ]
     },
     "execution_count": 22,
     "metadata": {},
     "output_type": "execute_result"
    }
   ],
   "source": [
    "list_of_mukey_rvindicator_no = df.loc[df['rvindicator']=='No','mukey'].tolist()\n",
    "\n",
    "df.loc[(df['rvindicator']=='No') & (df['rvindicator']=='Yes')]"
   ]
  },
  {
   "cell_type": "code",
   "execution_count": 23,
   "metadata": {},
   "outputs": [
    {
     "data": {
      "text/plain": [
       "False"
      ]
     },
     "execution_count": 23,
     "metadata": {},
     "output_type": "execute_result"
    }
   ],
   "source": [
    "'567304' in list_of_mukey_rvindicator_no"
   ]
  }
 ],
 "metadata": {
  "kernelspec": {
   "display_name": ".venv",
   "language": "python",
   "name": "python3"
  },
  "language_info": {
   "codemirror_mode": {
    "name": "ipython",
    "version": 3
   },
   "file_extension": ".py",
   "mimetype": "text/x-python",
   "name": "python",
   "nbconvert_exporter": "python",
   "pygments_lexer": "ipython3",
   "version": "3.11.2"
  },
  "orig_nbformat": 4
 },
 "nbformat": 4,
 "nbformat_minor": 2
}
