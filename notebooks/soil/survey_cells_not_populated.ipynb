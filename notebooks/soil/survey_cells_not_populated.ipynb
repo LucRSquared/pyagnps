{
 "cells": [
  {
   "cell_type": "code",
   "execution_count": 1,
   "metadata": {},
   "outputs": [],
   "source": [
    "import socket\n",
    "import time\n",
    "import json\n",
    "from pathlib import Path\n",
    "\n",
    "from tqdm import tqdm\n",
    "\n",
    "import geopandas as gpd\n",
    "import pandas as pd\n",
    "\n",
    "from pyagnps import soil_data_market as sdm\n",
    "from pyagnps.utils import log_to_file, get_current_time\n",
    "\n",
    "from sqlalchemy import create_engine, text as sql_text\n",
    "from sqlalchemy.orm import sessionmaker\n",
    "from sqlalchemy.exc import SQLAlchemyError"
   ]
  },
  {
   "cell_type": "code",
   "execution_count": 2,
   "metadata": {},
   "outputs": [],
   "source": [
    "# DATABASE SETUP\n",
    "credentials = Path(\"../../inputs/db_credentials.json\")\n",
    "with open(credentials, \"r\") as f:\n",
    "    credentials = json.load(f)\n",
    "\n",
    "user = credentials[\"user\"]\n",
    "password = credentials[\"password\"]\n",
    "host = credentials[\"host\"]\n",
    "port = credentials[\"port\"]\n",
    "database = credentials[\"database\"]\n",
    "\n",
    "engine = create_engine(f\"postgresql://{user}:{password}@{host}:{port}/{database}\")"
   ]
  },
  {
   "cell_type": "code",
   "execution_count": 3,
   "metadata": {},
   "outputs": [],
   "source": [
    "path_to_thucs = Path(\n",
    "    \"D:/AIMS/Datasets/THUCS_TopAGNPS_Delineations/40k_SM/tophuc_S_M_40000_closed_holes_with_container_thuc_merged_bbox_area_first_kept.gpkg\"\n",
    ")\n",
    "\n",
    "\n",
    "thucs = gpd.read_file(\n",
    "    path_to_thucs\n",
    ")  # GeoDataFrame containing the thucs and their geometry\n",
    "thucs = thucs.sort_values(by=[\"bbox_area_sqkm\"], ascending=False)\n",
    "\n",
    "runlist = thucs['tophucid'].to_list()"
   ]
  },
  {
   "cell_type": "code",
   "execution_count": 4,
   "metadata": {},
   "outputs": [
    {
     "name": "stderr",
     "output_type": "stream",
     "text": [
      "100%|██████████| 4800/4800 [12:58<00:00,  6.17it/s] \n"
     ]
    }
   ],
   "source": [
    "cells_without_soil = {}\n",
    "\n",
    "for thuc_id in tqdm(runlist):\n",
    "\n",
    "    # thuc_id = f'{i:04.0f}'\n",
    "    \n",
    "    # Query for cells where soil is not populated\n",
    "    # query_geom = f\"SELECT * FROM thuc_{thuc_id}_annagnps_cell_ids LIMIT 1\"\n",
    "    query_cds = f\"SELECT cell_id FROM thuc_{thuc_id}_annagnps_cell_data_section WHERE soil_id is NULL\"\n",
    "    query_total_count = f\"SELECT COUNT(cell_id) FROM thuc_{thuc_id}_annagnps_cell_data_section\"\n",
    "\n",
    "    try:\n",
    "        with engine.connect() as conn:\n",
    "            cell_data_section = pd.read_sql(sql=sql_text(query_cds), con=conn)\n",
    "            total_count = pd.read_sql(sql=sql_text(query_total_count), con=conn)\n",
    "            # cells = gpd.read_postgis(sql=sql_text(query), con=conn, geom_col=\"geom\")\n",
    "\n",
    "            # utm = cells.estimate_utm_crs()\n",
    "            # cells = cells.to_crs(utm)\n",
    "\n",
    "        no_soil_cells = cell_data_section['cell_id'].to_list()\n",
    "\n",
    "        if no_soil_cells:\n",
    "            cells_without_soil[thuc_id] = {'total_cells' : total_count['count'].values[0],\n",
    "                                        'cells_without_soil': no_soil_cells,\n",
    "                                        'no_pop_frac': total_count['count'].values[0]/len(no_soil_cells)}\n",
    "    except:\n",
    "        continue\n"
   ]
  },
  {
   "cell_type": "code",
   "execution_count": 6,
   "metadata": {},
   "outputs": [],
   "source": [
    "# for tid, tdata in cells_without_soil.items():\n",
    "    # print(f\"{tid}, frac_no_pop: {tdata['no_pop_frac']}\")"
   ]
  },
  {
   "cell_type": "code",
   "execution_count": 7,
   "metadata": {},
   "outputs": [
    {
     "data": {
      "text/plain": [
       "1740"
      ]
     },
     "execution_count": 7,
     "metadata": {},
     "output_type": "execute_result"
    }
   ],
   "source": [
    "len(cells_without_soil)"
   ]
  },
  {
   "cell_type": "code",
   "execution_count": 10,
   "metadata": {},
   "outputs": [],
   "source": [
    "df_redo = pd.DataFrame({'tophucid': list(cells_without_soil.keys())})"
   ]
  },
  {
   "cell_type": "code",
   "execution_count": 12,
   "metadata": {},
   "outputs": [],
   "source": [
    "df_redo.to_csv('../../tmp/thuc_redo_soil.csv', index=False)"
   ]
  }
 ],
 "metadata": {
  "kernelspec": {
   "display_name": ".venv",
   "language": "python",
   "name": "python3"
  },
  "language_info": {
   "codemirror_mode": {
    "name": "ipython",
    "version": 3
   },
   "file_extension": ".py",
   "mimetype": "text/x-python",
   "name": "python",
   "nbconvert_exporter": "python",
   "pygments_lexer": "ipython3",
   "version": "3.11.2"
  },
  "orig_nbformat": 4
 },
 "nbformat": 4,
 "nbformat_minor": 2
}
