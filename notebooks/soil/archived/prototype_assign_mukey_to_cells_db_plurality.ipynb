{
 "cells": [
  {
   "cell_type": "code",
   "execution_count": 1,
   "metadata": {},
   "outputs": [],
   "source": [
    "import json\n",
    "from pathlib import Path\n",
    "\n",
    "import geopandas as gpd\n",
    "from sqlalchemy import create_engine, text as sql_text\n",
    "\n",
    "from pyagnps import soil_data_market as sdm"
   ]
  },
  {
   "cell_type": "code",
   "execution_count": 2,
   "metadata": {},
   "outputs": [],
   "source": [
    "import importlib\n",
    "\n",
    "importlib.reload(sdm);"
   ]
  },
  {
   "cell_type": "code",
   "execution_count": 3,
   "metadata": {},
   "outputs": [],
   "source": [
    "credentials = Path('../../inputs/db_credentials.json')\n",
    "with open(credentials, 'r') as f:\n",
    "    credentials = json.load(f)\n",
    "\n",
    "user     = credentials['user']\n",
    "password = credentials['password']\n",
    "host     = credentials['host']\n",
    "port     = credentials['port']\n",
    "database = credentials['database']"
   ]
  },
  {
   "cell_type": "code",
   "execution_count": 5,
   "metadata": {},
   "outputs": [],
   "source": [
    "# path_to_storage_geo_ssurgo = Path('D:/AIMS/Datasets/Soil/SSURGO/thuc_ssurgo_clips/')\n",
    "path_to_storage_geo_ssurgo = Path('../../outputs/shapefiles/thuc_ssurgo_clips/')\n",
    "path_to_storage_geo_ssurgo.mkdir(parents=True, exist_ok=True)"
   ]
  },
  {
   "attachments": {},
   "cell_type": "markdown",
   "metadata": {},
   "source": [
    "Query the cells to attribute soil data to"
   ]
  },
  {
   "cell_type": "code",
   "execution_count": 6,
   "metadata": {},
   "outputs": [],
   "source": [
    "thuc_id = '1002'"
   ]
  },
  {
   "cell_type": "code",
   "execution_count": 7,
   "metadata": {},
   "outputs": [],
   "source": [
    "SRID = 4326\n",
    "# lat, lon = 38.0446312, -87.8245648\n",
    "lat, lon = 38.9327257,-87.8815463\n",
    "\n",
    "# query = f'SELECT * FROM thuc_cell_geo({lon}, {lat}, thuc_near_run_id({lon},{lat}))' ;\n",
    "\n",
    "query = f\"SELECT * FROM thuc_{thuc_id}_annagnps_cell_ids\""
   ]
  },
  {
   "cell_type": "code",
   "execution_count": 8,
   "metadata": {},
   "outputs": [],
   "source": [
    "# create a SQLAlchemy engine object\n",
    "engine = create_engine(f'postgresql://{user}:{password}@{host}:{port}/{database}')"
   ]
  },
  {
   "cell_type": "code",
   "execution_count": 9,
   "metadata": {},
   "outputs": [],
   "source": [
    "with engine.connect() as conn:\n",
    "    cells = gpd.read_postgis(sql=sql_text(query), con=conn, geom_col='geom')"
   ]
  },
  {
   "cell_type": "code",
   "execution_count": 10,
   "metadata": {},
   "outputs": [],
   "source": [
    "# path_to_thucs = Path('../../inputs/thucs/tophuc_S_M_40000_closed_holes_with_container_thuc_merged_bbox_area_first_kept.gpkg')\n",
    "# thucs = gpd.read_file(path_to_thucs)\n",
    "\n",
    "# path_to_cells = Path('../../outputs/topagnps/johnson_long_creek/AnnAGNPS_Cell_IDs.gpkg')\n",
    "\n",
    "# cells = gpd.read_file(path_to_cells)\n",
    "# cells = cells.rename(columns={'DN': 'dn', 'geometry': 'geom'})\n",
    "# cells = cells.set_geometry('geom')"
   ]
  },
  {
   "cell_type": "code",
   "execution_count": 11,
   "metadata": {},
   "outputs": [],
   "source": [
    "utm = cells.estimate_utm_crs()"
   ]
  },
  {
   "attachments": {},
   "cell_type": "markdown",
   "metadata": {},
   "source": [
    "Download SSURGO soil data layer for the area"
   ]
  },
  {
   "cell_type": "code",
   "execution_count": 12,
   "metadata": {},
   "outputs": [],
   "source": [
    "bbox = cells.envelope.buffer(60).to_crs(epsg=4326).total_bounds"
   ]
  },
  {
   "cell_type": "code",
   "execution_count": 14,
   "metadata": {},
   "outputs": [
    {
     "name": "stderr",
     "output_type": "stream",
     "text": [
      "  2%|▏         | 3/150 [00:31<25:33, 10.43s/it]\n"
     ]
    },
    {
     "ename": "JSONDecodeError",
     "evalue": "Expecting value: line 1 column 1 (char 0)",
     "output_type": "error",
     "traceback": [
      "\u001b[1;31m---------------------------------------------------------------------------\u001b[0m",
      "\u001b[1;31mJSONDecodeError\u001b[0m                           Traceback (most recent call last)",
      "File \u001b[1;32mc:\\Users\\Luc\\projects\\pyagnps\\.venv\\Lib\\site-packages\\requests\\models.py:971\u001b[0m, in \u001b[0;36mResponse.json\u001b[1;34m(self, **kwargs)\u001b[0m\n\u001b[0;32m    970\u001b[0m \u001b[39mtry\u001b[39;00m:\n\u001b[1;32m--> 971\u001b[0m     \u001b[39mreturn\u001b[39;00m complexjson\u001b[39m.\u001b[39;49mloads(\u001b[39mself\u001b[39;49m\u001b[39m.\u001b[39;49mtext, \u001b[39m*\u001b[39;49m\u001b[39m*\u001b[39;49mkwargs)\n\u001b[0;32m    972\u001b[0m \u001b[39mexcept\u001b[39;00m JSONDecodeError \u001b[39mas\u001b[39;00m e:\n\u001b[0;32m    973\u001b[0m     \u001b[39m# Catch JSON-related errors and raise as requests.JSONDecodeError\u001b[39;00m\n\u001b[0;32m    974\u001b[0m     \u001b[39m# This aliases json.JSONDecodeError and simplejson.JSONDecodeError\u001b[39;00m\n",
      "File \u001b[1;32mc:\\Users\\Luc\\projects\\pyagnps\\.venv\\Lib\\site-packages\\simplejson\\__init__.py:514\u001b[0m, in \u001b[0;36mloads\u001b[1;34m(s, encoding, cls, object_hook, parse_float, parse_int, parse_constant, object_pairs_hook, use_decimal, allow_nan, **kw)\u001b[0m\n\u001b[0;32m    510\u001b[0m \u001b[39mif\u001b[39;00m (\u001b[39mcls\u001b[39m \u001b[39mis\u001b[39;00m \u001b[39mNone\u001b[39;00m \u001b[39mand\u001b[39;00m encoding \u001b[39mis\u001b[39;00m \u001b[39mNone\u001b[39;00m \u001b[39mand\u001b[39;00m object_hook \u001b[39mis\u001b[39;00m \u001b[39mNone\u001b[39;00m \u001b[39mand\u001b[39;00m\n\u001b[0;32m    511\u001b[0m         parse_int \u001b[39mis\u001b[39;00m \u001b[39mNone\u001b[39;00m \u001b[39mand\u001b[39;00m parse_float \u001b[39mis\u001b[39;00m \u001b[39mNone\u001b[39;00m \u001b[39mand\u001b[39;00m\n\u001b[0;32m    512\u001b[0m         parse_constant \u001b[39mis\u001b[39;00m \u001b[39mNone\u001b[39;00m \u001b[39mand\u001b[39;00m object_pairs_hook \u001b[39mis\u001b[39;00m \u001b[39mNone\u001b[39;00m\n\u001b[0;32m    513\u001b[0m         \u001b[39mand\u001b[39;00m \u001b[39mnot\u001b[39;00m use_decimal \u001b[39mand\u001b[39;00m \u001b[39mnot\u001b[39;00m allow_nan \u001b[39mand\u001b[39;00m \u001b[39mnot\u001b[39;00m kw):\n\u001b[1;32m--> 514\u001b[0m     \u001b[39mreturn\u001b[39;00m _default_decoder\u001b[39m.\u001b[39;49mdecode(s)\n\u001b[0;32m    515\u001b[0m \u001b[39mif\u001b[39;00m \u001b[39mcls\u001b[39m \u001b[39mis\u001b[39;00m \u001b[39mNone\u001b[39;00m:\n",
      "File \u001b[1;32mc:\\Users\\Luc\\projects\\pyagnps\\.venv\\Lib\\site-packages\\simplejson\\decoder.py:386\u001b[0m, in \u001b[0;36mJSONDecoder.decode\u001b[1;34m(self, s, _w, _PY3)\u001b[0m\n\u001b[0;32m    385\u001b[0m     s \u001b[39m=\u001b[39m \u001b[39mstr\u001b[39m(s, \u001b[39mself\u001b[39m\u001b[39m.\u001b[39mencoding)\n\u001b[1;32m--> 386\u001b[0m obj, end \u001b[39m=\u001b[39m \u001b[39mself\u001b[39;49m\u001b[39m.\u001b[39;49mraw_decode(s)\n\u001b[0;32m    387\u001b[0m end \u001b[39m=\u001b[39m _w(s, end)\u001b[39m.\u001b[39mend()\n",
      "File \u001b[1;32mc:\\Users\\Luc\\projects\\pyagnps\\.venv\\Lib\\site-packages\\simplejson\\decoder.py:416\u001b[0m, in \u001b[0;36mJSONDecoder.raw_decode\u001b[1;34m(self, s, idx, _w, _PY3)\u001b[0m\n\u001b[0;32m    415\u001b[0m         idx \u001b[39m+\u001b[39m\u001b[39m=\u001b[39m \u001b[39m3\u001b[39m\n\u001b[1;32m--> 416\u001b[0m \u001b[39mreturn\u001b[39;00m \u001b[39mself\u001b[39;49m\u001b[39m.\u001b[39;49mscan_once(s, idx\u001b[39m=\u001b[39;49m_w(s, idx)\u001b[39m.\u001b[39;49mend())\n",
      "\u001b[1;31mJSONDecodeError\u001b[0m: Expecting value: line 1 column 1 (char 0)",
      "\nDuring handling of the above exception, another exception occurred:\n",
      "\u001b[1;31mJSONDecodeError\u001b[0m                           Traceback (most recent call last)",
      "Cell \u001b[1;32mIn[14], line 1\u001b[0m\n\u001b[1;32m----> 1\u001b[0m geo_soil \u001b[39m=\u001b[39m sdm\u001b[39m.\u001b[39;49mdownload_soil_geodataframe_tiles(bbox, tile_size\u001b[39m=\u001b[39;49m\u001b[39m0.1\u001b[39;49m)\n",
      "File \u001b[1;32m~\\projects\\pyagnps\\src\\pyagnps\\soil_data_market.py:133\u001b[0m, in \u001b[0;36mdownload_soil_geodataframe_tiles\u001b[1;34m(bbox, tile_size, explode_geometries)\u001b[0m\n\u001b[0;32m    131\u001b[0m gdf_list \u001b[39m=\u001b[39m []\n\u001b[0;32m    132\u001b[0m \u001b[39mfor\u001b[39;00m sub_box \u001b[39min\u001b[39;00m tqdm(sub_boxes):\n\u001b[1;32m--> 133\u001b[0m     sub_gdf \u001b[39m=\u001b[39m download_soil_geodataframe(sub_box)\n\u001b[0;32m    134\u001b[0m     gdf_list\u001b[39m.\u001b[39mappend(sub_gdf)\n\u001b[0;32m    136\u001b[0m gdf_list \u001b[39m=\u001b[39m [gdf_tmp \u001b[39mfor\u001b[39;00m gdf_tmp \u001b[39min\u001b[39;00m gdf_list \u001b[39mif\u001b[39;00m gdf_tmp \u001b[39mis\u001b[39;00m \u001b[39mnot\u001b[39;00m \u001b[39mNone\u001b[39;00m]\n",
      "File \u001b[1;32m~\\projects\\pyagnps\\src\\pyagnps\\soil_data_market.py:32\u001b[0m, in \u001b[0;36mdownload_soil_geodataframe\u001b[1;34m(bbox)\u001b[0m\n\u001b[0;32m     29\u001b[0m url \u001b[39m=\u001b[39m \u001b[39m\"\u001b[39m\u001b[39mhttps://sdmdataaccess.sc.egov.usda.gov/TABULAR/post.rest\u001b[39m\u001b[39m\"\u001b[39m\n\u001b[0;32m     31\u001b[0m \u001b[39m# Send the query and collect the response\u001b[39;00m\n\u001b[1;32m---> 32\u001b[0m soil_response \u001b[39m=\u001b[39m requests\u001b[39m.\u001b[39;49mpost(url, json\u001b[39m=\u001b[39;49mbody)\u001b[39m.\u001b[39;49mjson()\n\u001b[0;32m     34\u001b[0m \u001b[39mif\u001b[39;00m \u001b[39mnot\u001b[39;00m soil_response:\n\u001b[0;32m     35\u001b[0m     \u001b[39mreturn\u001b[39;00m \u001b[39mNone\u001b[39;00m\n",
      "File \u001b[1;32mc:\\Users\\Luc\\projects\\pyagnps\\.venv\\Lib\\site-packages\\requests\\models.py:975\u001b[0m, in \u001b[0;36mResponse.json\u001b[1;34m(self, **kwargs)\u001b[0m\n\u001b[0;32m    971\u001b[0m     \u001b[39mreturn\u001b[39;00m complexjson\u001b[39m.\u001b[39mloads(\u001b[39mself\u001b[39m\u001b[39m.\u001b[39mtext, \u001b[39m*\u001b[39m\u001b[39m*\u001b[39mkwargs)\n\u001b[0;32m    972\u001b[0m \u001b[39mexcept\u001b[39;00m JSONDecodeError \u001b[39mas\u001b[39;00m e:\n\u001b[0;32m    973\u001b[0m     \u001b[39m# Catch JSON-related errors and raise as requests.JSONDecodeError\u001b[39;00m\n\u001b[0;32m    974\u001b[0m     \u001b[39m# This aliases json.JSONDecodeError and simplejson.JSONDecodeError\u001b[39;00m\n\u001b[1;32m--> 975\u001b[0m     \u001b[39mraise\u001b[39;00m RequestsJSONDecodeError(e\u001b[39m.\u001b[39mmsg, e\u001b[39m.\u001b[39mdoc, e\u001b[39m.\u001b[39mpos)\n",
      "\u001b[1;31mJSONDecodeError\u001b[0m: Expecting value: line 1 column 1 (char 0)"
     ]
    }
   ],
   "source": [
    "geo_soil = sdm.download_soil_geodataframe_tiles(bbox, tile_size=0.1)"
   ]
  },
  {
   "cell_type": "code",
   "execution_count": 16,
   "metadata": {},
   "outputs": [],
   "source": [
    "geo_soil = geo_soil.to_crs(utm)\n",
    "geo_soil = geo_soil.to_file(path_to_storage_geo_ssurgo / f'thuc_{thuc_id}_geo_ssurgo.gpkg', driver='GPKG')"
   ]
  },
  {
   "cell_type": "code",
   "execution_count": 11,
   "metadata": {},
   "outputs": [],
   "source": [
    "geo_soil = gpd.read_file(path_to_storage_geo_ssurgo / f'thuc_{thuc_id}_geo_ssurgo.gpkg')"
   ]
  },
  {
   "attachments": {},
   "cell_type": "markdown",
   "metadata": {},
   "source": [
    "Check that the soil covers the cells"
   ]
  },
  {
   "cell_type": "code",
   "execution_count": 12,
   "metadata": {},
   "outputs": [],
   "source": [
    "# Convert soil and cells to same CRS\n",
    "cells = cells.to_crs(utm)"
   ]
  },
  {
   "cell_type": "code",
   "execution_count": 28,
   "metadata": {},
   "outputs": [],
   "source": [
    "if not(cells.within(geo_soil.unary_union.envelope).all()):\n",
    "    print('Not all cells are covered by the soil geometry file')\n",
    "else:\n",
    "    print('OK to proceed')"
   ]
  },
  {
   "attachments": {},
   "cell_type": "markdown",
   "metadata": {},
   "source": [
    "Apply `Soil_ID` to each cell"
   ]
  },
  {
   "cell_type": "code",
   "execution_count": 13,
   "metadata": {},
   "outputs": [],
   "source": [
    "cells = sdm.assign_attr_plurality_vector_layer(cells, geo_soil, attr='mukey', bin_id='dn')"
   ]
  },
  {
   "cell_type": "code",
   "execution_count": 14,
   "metadata": {},
   "outputs": [
    {
     "data": {
      "text/html": [
       "<div>\n",
       "<style scoped>\n",
       "    .dataframe tbody tr th:only-of-type {\n",
       "        vertical-align: middle;\n",
       "    }\n",
       "\n",
       "    .dataframe tbody tr th {\n",
       "        vertical-align: top;\n",
       "    }\n",
       "\n",
       "    .dataframe thead th {\n",
       "        text-align: right;\n",
       "    }\n",
       "</style>\n",
       "<table border=\"1\" class=\"dataframe\">\n",
       "  <thead>\n",
       "    <tr style=\"text-align: right;\">\n",
       "      <th></th>\n",
       "      <th>fid</th>\n",
       "      <th>cell_id</th>\n",
       "      <th>geom</th>\n",
       "      <th>soil_id</th>\n",
       "    </tr>\n",
       "  </thead>\n",
       "  <tbody>\n",
       "    <tr>\n",
       "      <th>584077</th>\n",
       "      <td>584078</td>\n",
       "      <td>22</td>\n",
       "      <td>POLYGON ((696888.788 3577880.539, 696888.788 3...</td>\n",
       "      <td>808562</td>\n",
       "    </tr>\n",
       "    <tr>\n",
       "      <th>584078</th>\n",
       "      <td>584079</td>\n",
       "      <td>23</td>\n",
       "      <td>POLYGON ((697698.788 3577700.539, 697698.788 3...</td>\n",
       "      <td>568708</td>\n",
       "    </tr>\n",
       "    <tr>\n",
       "      <th>584076</th>\n",
       "      <td>584077</td>\n",
       "      <td>31</td>\n",
       "      <td>POLYGON ((696888.788 3578240.539, 696888.788 3...</td>\n",
       "      <td>808541</td>\n",
       "    </tr>\n",
       "    <tr>\n",
       "      <th>584074</th>\n",
       "      <td>584075</td>\n",
       "      <td>32</td>\n",
       "      <td>POLYGON ((696918.788 3577880.539, 696918.788 3...</td>\n",
       "      <td>808562</td>\n",
       "    </tr>\n",
       "    <tr>\n",
       "      <th>584071</th>\n",
       "      <td>584072</td>\n",
       "      <td>32</td>\n",
       "      <td>POLYGON ((696888.788 3577910.539, 696888.788 3...</td>\n",
       "      <td>808562</td>\n",
       "    </tr>\n",
       "    <tr>\n",
       "      <th>...</th>\n",
       "      <td>...</td>\n",
       "      <td>...</td>\n",
       "      <td>...</td>\n",
       "      <td>...</td>\n",
       "    </tr>\n",
       "    <tr>\n",
       "      <th>584033</th>\n",
       "      <td>584034</td>\n",
       "      <td>1395753</td>\n",
       "      <td>POLYGON ((698028.788 3578810.539, 698028.788 3...</td>\n",
       "      <td>633319</td>\n",
       "    </tr>\n",
       "    <tr>\n",
       "      <th>584060</th>\n",
       "      <td>584061</td>\n",
       "      <td>1395753</td>\n",
       "      <td>POLYGON ((697758.788 3578540.539, 697758.788 3...</td>\n",
       "      <td>633319</td>\n",
       "    </tr>\n",
       "    <tr>\n",
       "      <th>584050</th>\n",
       "      <td>584051</td>\n",
       "      <td>1395753</td>\n",
       "      <td>POLYGON ((697908.788 3578690.539, 697908.788 3...</td>\n",
       "      <td>633319</td>\n",
       "    </tr>\n",
       "    <tr>\n",
       "      <th>584065</th>\n",
       "      <td>584066</td>\n",
       "      <td>1395761</td>\n",
       "      <td>POLYGON ((698028.788 3578540.539, 698028.788 3...</td>\n",
       "      <td>2693455</td>\n",
       "    </tr>\n",
       "    <tr>\n",
       "      <th>584070</th>\n",
       "      <td>584071</td>\n",
       "      <td>1395762</td>\n",
       "      <td>POLYGON ((698028.788 3578600.539, 698028.788 3...</td>\n",
       "      <td>633319</td>\n",
       "    </tr>\n",
       "  </tbody>\n",
       "</table>\n",
       "<p>584079 rows × 4 columns</p>\n",
       "</div>"
      ],
      "text/plain": [
       "           fid  cell_id                                               geom  \\\n",
       "584077  584078       22  POLYGON ((696888.788 3577880.539, 696888.788 3...   \n",
       "584078  584079       23  POLYGON ((697698.788 3577700.539, 697698.788 3...   \n",
       "584076  584077       31  POLYGON ((696888.788 3578240.539, 696888.788 3...   \n",
       "584074  584075       32  POLYGON ((696918.788 3577880.539, 696918.788 3...   \n",
       "584071  584072       32  POLYGON ((696888.788 3577910.539, 696888.788 3...   \n",
       "...        ...      ...                                                ...   \n",
       "584033  584034  1395753  POLYGON ((698028.788 3578810.539, 698028.788 3...   \n",
       "584060  584061  1395753  POLYGON ((697758.788 3578540.539, 697758.788 3...   \n",
       "584050  584051  1395753  POLYGON ((697908.788 3578690.539, 697908.788 3...   \n",
       "584065  584066  1395761  POLYGON ((698028.788 3578540.539, 698028.788 3...   \n",
       "584070  584071  1395762  POLYGON ((698028.788 3578600.539, 698028.788 3...   \n",
       "\n",
       "        soil_id  \n",
       "584077   808562  \n",
       "584078   568708  \n",
       "584076   808541  \n",
       "584074   808562  \n",
       "584071   808562  \n",
       "...         ...  \n",
       "584033   633319  \n",
       "584060   633319  \n",
       "584050   633319  \n",
       "584065  2693455  \n",
       "584070   633319  \n",
       "\n",
       "[584079 rows x 4 columns]"
      ]
     },
     "execution_count": 14,
     "metadata": {},
     "output_type": "execute_result"
    }
   ],
   "source": [
    "cells = cells.rename(columns={'dn': 'cell_id', 'mukey': 'soil_id'})\n",
    "cells.sort_values(by='cell_id')"
   ]
  },
  {
   "cell_type": "code",
   "execution_count": 31,
   "metadata": {},
   "outputs": [],
   "source": [
    "# cells.explore(column='soil_id')"
   ]
  },
  {
   "cell_type": "code",
   "execution_count": 15,
   "metadata": {},
   "outputs": [],
   "source": [
    "data_to_update = cells[['cell_id', 'soil_id']].to_dict(orient='records')"
   ]
  },
  {
   "attachments": {},
   "cell_type": "markdown",
   "metadata": {},
   "source": [
    "Attribute `soil_id` to every `cell_id` in the database"
   ]
  },
  {
   "cell_type": "code",
   "execution_count": 17,
   "metadata": {},
   "outputs": [],
   "source": [
    "from sqlalchemy import create_engine\n",
    "from sqlalchemy.orm import sessionmaker\n",
    "from sqlalchemy.exc import SQLAlchemyError\n",
    "\n",
    "# create a SQLAlchemy engine object\n",
    "engine = create_engine(f'postgresql://{user}:{password}@{host}:{port}/{database}')\n",
    "\n",
    "# create a session factory\n",
    "Session = sessionmaker(bind=engine)\n",
    "\n",
    "# create a new session\n",
    "session = Session()\n",
    "\n",
    "# create a transaction\n",
    "transaction = session.begin()\n",
    "\n",
    "try:\n",
    "    # execute your update query here\n",
    "    query = f\"UPDATE thuc_{thuc_id}_annagnps_cell_data_section SET soil_id = :soil_id WHERE cell_id = :cell_id\"\n",
    "\n",
    "    session.execute(sql_text(query), data_to_update)\n",
    "\n",
    "    # commit the transaction\n",
    "    transaction.commit()\n",
    "\n",
    "except SQLAlchemyError as e:\n",
    "    # rollback the transaction on error\n",
    "    transaction.rollback()\n",
    "    print(e)\n",
    "\n",
    "finally:\n",
    "    # close the session\n",
    "    session.close()"
   ]
  }
 ],
 "metadata": {
  "kernelspec": {
   "display_name": "venv",
   "language": "python",
   "name": "python3"
  },
  "language_info": {
   "codemirror_mode": {
    "name": "ipython",
    "version": 3
   },
   "file_extension": ".py",
   "mimetype": "text/x-python",
   "name": "python",
   "nbconvert_exporter": "python",
   "pygments_lexer": "ipython3",
   "version": "3.11.2"
  },
  "orig_nbformat": 4
 },
 "nbformat": 4,
 "nbformat_minor": 2
}
