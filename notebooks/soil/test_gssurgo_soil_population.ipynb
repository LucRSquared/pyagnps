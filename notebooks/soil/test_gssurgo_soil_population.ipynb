{
 "cells": [
  {
   "cell_type": "code",
   "execution_count": null,
   "metadata": {},
   "outputs": [],
   "source": [
    "import socket\n",
    "import time\n",
    "import json\n",
    "from pathlib import Path\n",
    "\n",
    "from tqdm import tqdm\n",
    "\n",
    "import geopandas as gpd\n",
    "import pandas as pd\n",
    "\n",
    "from pyagnps import soil_data_market as sdm\n",
    "from pyagnps.utils import log_to_file, get_current_time\n",
    "\n",
    "from sqlalchemy import create_engine, text as sql_text\n",
    "from sqlalchemy.orm import sessionmaker\n",
    "from sqlalchemy.exc import SQLAlchemyError"
   ]
  },
  {
   "cell_type": "code",
   "execution_count": null,
   "metadata": {},
   "outputs": [],
   "source": [
    "# DATABASE SETUP\n",
    "credentials = Path(\"../../inputs/db_credentials.json\")\n",
    "with open(credentials, \"r\") as f:\n",
    "    credentials = json.load(f)\n",
    "\n",
    "user = credentials[\"user\"]\n",
    "password = credentials[\"password\"]\n",
    "host = credentials[\"host\"]\n",
    "port = credentials[\"port\"]\n",
    "database = credentials[\"database\"]"
   ]
  },
  {
   "cell_type": "code",
   "execution_count": null,
   "metadata": {},
   "outputs": [],
   "source": [
    "# path_to_thucs = Path(\n",
    "#     \"D:/AIMS/Datasets/THUCS_TopAGNPS_Delineations/40k_SM/tophuc_S_M_40000_closed_holes_with_container_thuc_merged_bbox_area_first_kept.gpkg\"\n",
    "# )\n",
    "\n",
    "path_to_thucs = Path('../../inputs/thucs/tophuc_S_M_40000_closed_holes_with_container_thuc_merged_bbox_area_first_kept.gpkg')\n",
    "\n",
    "path_to_gssurgo_gdb = Path(\"D:/AIMS/Datasets/Soil/gSSURGO/gSSURGO_CONUS_202210.gdb\")\n",
    "\n",
    "ssurgo_files_dir = Path('../../tmp/')"
   ]
  },
  {
   "cell_type": "code",
   "execution_count": null,
   "metadata": {},
   "outputs": [],
   "source": [
    "nodename = socket.gethostname()"
   ]
  },
  {
   "cell_type": "code",
   "execution_count": null,
   "metadata": {},
   "outputs": [],
   "source": [
    "ssurgo_files_dir.mkdir(parents=True, exist_ok=True)"
   ]
  },
  {
   "cell_type": "code",
   "execution_count": null,
   "metadata": {},
   "outputs": [],
   "source": [
    "# create a SQLAlchemy engine object\n",
    "engine = create_engine(f\"postgresql://{user}:{password}@{host}:{port}/{database}\")"
   ]
  },
  {
   "cell_type": "code",
   "execution_count": null,
   "metadata": {},
   "outputs": [],
   "source": [
    "thucs = gpd.read_file(\n",
    "    path_to_thucs\n",
    ")  # GeoDataFrame containing the thucs and their geometry\n",
    "thucs = thucs.sort_values(by=[\"bbox_area_sqkm\"], ascending=False)"
   ]
  },
  {
   "cell_type": "code",
   "execution_count": null,
   "metadata": {},
   "outputs": [],
   "source": [
    "thuc_id = '1957' #'1804' '1962' '1311'"
   ]
  },
  {
   "cell_type": "code",
   "execution_count": null,
   "metadata": {},
   "outputs": [],
   "source": [
    "thucs[thucs['tophucid']==thuc_id].explore()"
   ]
  },
  {
   "cell_type": "code",
   "execution_count": null,
   "metadata": {},
   "outputs": [],
   "source": [
    "# Make sure the path exists\n",
    "thucid_dir_name = f\"thuc_{thuc_id}_ssurgo\"\n",
    "thuc_dir = ssurgo_files_dir / thucid_dir_name\n",
    "\n",
    "if thuc_dir.exists():\n",
    "    now = get_current_time()\n",
    "    print(f\"{now}: {nodename}: {thuc_id}: SKIPPING\")\n",
    "else:\n",
    "    thuc_dir.mkdir(parents=True)"
   ]
  },
  {
   "cell_type": "code",
   "execution_count": null,
   "metadata": {},
   "outputs": [],
   "source": [
    "# Collect thuc cells geometry from database\n",
    "try:\n",
    "    now = get_current_time()\n",
    "    print(f\"{now}: {nodename}: {thuc_id}: Querying cells from database...\")\n",
    "\n",
    "    query = f\"SELECT * FROM thuc_{thuc_id}_annagnps_cell_ids\"\n",
    "\n",
    "    with engine.connect() as conn:\n",
    "        cells = gpd.read_postgis(sql=sql_text(query), con=conn, geom_col=\"geom\")\n",
    "\n",
    "    utm = cells.estimate_utm_crs()\n",
    "    cells = cells.to_crs(utm)\n",
    "\n",
    "except Exception as e:\n",
    "    now = get_current_time()\n",
    "    print(f\"{now}: {nodename}: {thuc_id}: {e}\")"
   ]
  },
  {
   "cell_type": "code",
   "execution_count": null,
   "metadata": {},
   "outputs": [],
   "source": [
    "cells.explore()"
   ]
  },
  {
   "cell_type": "code",
   "execution_count": null,
   "metadata": {},
   "outputs": [],
   "source": [
    "# cells.to_file(f'../../tmp/thuc_{thuc_id}_ssurgo/cells_{thuc_id}.gpkg', driver='GPKG')"
   ]
  },
  {
   "cell_type": "code",
   "execution_count": null,
   "metadata": {},
   "outputs": [],
   "source": [
    "try:\n",
    "    now = get_current_time()\n",
    "    print(f\"{now}: {nodename}: {thuc_id}: Getting gSSURGO data\")\n",
    "    \n",
    "    geo_soil = gpd.read_file(path_to_gssurgo_gdb, driver='OpenFileGDB', layer='MUPOLYGON', bbox=cells)\n",
    "    geo_soil = geo_soil.to_crs(utm)\n",
    "\n",
    "except Exception as e:\n",
    "    now = get_current_time()\n",
    "    print(f\"{now}: {nodename}: {thuc_id}: {e}\")"
   ]
  },
  {
   "cell_type": "code",
   "execution_count": null,
   "metadata": {},
   "outputs": [],
   "source": [
    "import folium\n",
    "\n",
    "m = folium.Map()\n",
    "\n",
    "folium.GeoJson(geo_soil.to_crs('epsg:4326').to_json()).add_to(m)\n",
    "folium.GeoJson(cells.to_crs('epsg:4326').to_json()).add_to(m)"
   ]
  },
  {
   "cell_type": "code",
   "execution_count": null,
   "metadata": {},
   "outputs": [],
   "source": [
    "m"
   ]
  },
  {
   "cell_type": "code",
   "execution_count": null,
   "metadata": {},
   "outputs": [],
   "source": [
    "geo_soil.explore()"
   ]
  },
  {
   "cell_type": "code",
   "execution_count": null,
   "metadata": {},
   "outputs": [],
   "source": [
    "# geo_soil.to_file(f'../../tmp/thuc_{thuc_id}_ssurgo/gssurgo_{thuc_id}.gpkg', driver='GPKG')"
   ]
  },
  {
   "cell_type": "code",
   "execution_count": null,
   "metadata": {},
   "outputs": [],
   "source": [
    "cells = cells.overlay(geo_soil, how='intersection')"
   ]
  },
  {
   "cell_type": "code",
   "execution_count": null,
   "metadata": {},
   "outputs": [],
   "source": [
    "cells.head(n=3)"
   ]
  },
  {
   "cell_type": "code",
   "execution_count": null,
   "metadata": {},
   "outputs": [],
   "source": [
    "cells = cells.dissolve(by='dn').reset_index()"
   ]
  },
  {
   "cell_type": "code",
   "execution_count": null,
   "metadata": {},
   "outputs": [],
   "source": [
    "cells"
   ]
  },
  {
   "cell_type": "code",
   "execution_count": null,
   "metadata": {},
   "outputs": [],
   "source": [
    "cells = cells[['dn', 'geometry']]"
   ]
  },
  {
   "cell_type": "code",
   "execution_count": null,
   "metadata": {},
   "outputs": [],
   "source": [
    "cells = cells.rename(columns={'geometry': 'geom'})\n",
    "cells = cells.set_geometry('geom')"
   ]
  },
  {
   "cell_type": "code",
   "execution_count": null,
   "metadata": {},
   "outputs": [],
   "source": [
    "cells.head(n=3)"
   ]
  },
  {
   "cell_type": "code",
   "execution_count": null,
   "metadata": {},
   "outputs": [],
   "source": [
    "# cells.to_file(f'../../tmp/thuc_{thuc_id}_ssurgo/cells_in_gssurgo_{thuc_id}.gpkg', driver='GPKG')"
   ]
  },
  {
   "cell_type": "code",
   "execution_count": null,
   "metadata": {},
   "outputs": [],
   "source": [
    "geo_soil.head()"
   ]
  },
  {
   "attachments": {},
   "cell_type": "markdown",
   "metadata": {},
   "source": [
    "Plurality analysis"
   ]
  },
  {
   "cell_type": "code",
   "execution_count": null,
   "metadata": {},
   "outputs": [],
   "source": [
    "cells = sdm.assign_attr_plurality_vector_layer(cells, geo_soil, attr=\"MUKEY\", bin_id=\"dn\")\n",
    "cells = cells.rename(columns={\"dn\": \"cell_id\", \"MUKEY\": \"soil_id\"})"
   ]
  },
  {
   "cell_type": "code",
   "execution_count": null,
   "metadata": {},
   "outputs": [],
   "source": [
    "cells"
   ]
  },
  {
   "attachments": {},
   "cell_type": "markdown",
   "metadata": {},
   "source": [
    "Populating Soil_ID in db"
   ]
  },
  {
   "cell_type": "code",
   "execution_count": null,
   "metadata": {},
   "outputs": [],
   "source": [
    "data_to_update = cells[[\"cell_id\", \"soil_id\"]].to_dict(orient=\"records\")"
   ]
  },
  {
   "cell_type": "code",
   "execution_count": null,
   "metadata": {},
   "outputs": [],
   "source": [
    "# create a session factory\n",
    "Session = sessionmaker(bind=engine)\n",
    "# create a new session\n",
    "session = Session()\n",
    "# create a transaction\n",
    "transaction = session.begin()\n",
    "\n",
    "try:\n",
    "    # execute your update query here\n",
    "    query = f\"UPDATE thuc_{thuc_id}_annagnps_cell_data_section SET soil_id = :soil_id WHERE cell_id = :cell_id\"\n",
    "    print('Populating...')\n",
    "    session.execute(sql_text(query), data_to_update)\n",
    "    # commit the transaction\n",
    "    transaction.commit()\n",
    "\n",
    "except SQLAlchemyError as e:\n",
    "    goodsofar = False\n",
    "    # rollback the transaction on error\n",
    "    transaction.rollback()\n",
    "    now = get_current_time()\n",
    "    print(f\"{now}: {nodename}: {thuc_id}: Failed to update DB, rolling back...\")\n",
    "\n",
    "finally:\n",
    "    # close the session\n",
    "    session.close()\n",
    "    print('Done!')"
   ]
  }
 ],
 "metadata": {
  "kernelspec": {
   "display_name": ".venv",
   "language": "python",
   "name": "python3"
  },
  "language_info": {
   "codemirror_mode": {
    "name": "ipython",
    "version": 3
   },
   "file_extension": ".py",
   "mimetype": "text/x-python",
   "name": "python",
   "nbconvert_exporter": "python",
   "pygments_lexer": "ipython3",
   "version": "3.11.2"
  },
  "orig_nbformat": 4
 },
 "nbformat": 4,
 "nbformat_minor": 2
}
