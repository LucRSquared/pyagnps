{
 "cells": [
  {
   "cell_type": "code",
   "execution_count": 2,
   "metadata": {},
   "outputs": [
    {
     "name": "stdout",
     "output_type": "stream",
     "text": [
      "Please install GDAL (see install_gdal.py). The subannagnps module will not work without it\n",
      "Please install GDAL (see install_gdal.py). The topagnps module will not work without it\n"
     ]
    }
   ],
   "source": [
    "from pyagnps import climate\n",
    "from pathlib import Path\n",
    "\n",
    "import xarray as xr\n",
    "\n",
    "import numpy as np\n",
    "import geopandas as gpd"
   ]
  },
  {
   "cell_type": "code",
   "execution_count": 3,
   "metadata": {},
   "outputs": [],
   "source": [
    "path_to_daily_files = Path(\n",
    "    \"C:/Users/Luc/projects/pyagnps/inputs/climate/FORA_DAILY\"\n",
    ")\n",
    "\n",
    "lon_test = [-90, -80, -70]\n",
    "lat_test = [35, 36, 37]\n",
    "\n",
    "coords = [(lon, lat) for lon, lat in zip(lon_test, lat_test)]\n",
    "\n",
    "clms = climate.ClimateAnnAGNPSCoords(coords=coords,\n",
    "                                     start=\"2020-01-02\",\n",
    "                                     end=\"2020-01-04\",\n",
    "                                     date_mode=\"daily\")\n",
    "\n",
    "output_dir = Path(\"C:/Users/Luc/projects/pyagnps/outputs/climate/test_aggregated_nldas\")\n",
    "\n",
    "dfs = clms.read_nldas_daily_generate_climate_daily(path_to_daily_files,\n",
    "                                                   augment=True,\n",
    "                                                   return_dataframes=True,\n",
    "                                                   output_dir=output_dir,\n",
    "                                                   saveformat=\"csv\")\n"
   ]
  },
  {
   "cell_type": "code",
   "execution_count": 11,
   "metadata": {},
   "outputs": [
    {
     "data": {
      "text/html": [
       "<div>\n",
       "<style scoped>\n",
       "    .dataframe tbody tr th:only-of-type {\n",
       "        vertical-align: middle;\n",
       "    }\n",
       "\n",
       "    .dataframe tbody tr th {\n",
       "        vertical-align: top;\n",
       "    }\n",
       "\n",
       "    .dataframe thead th {\n",
       "        text-align: right;\n",
       "    }\n",
       "</style>\n",
       "<table border=\"1\" class=\"dataframe\">\n",
       "  <thead>\n",
       "    <tr style=\"text-align: right;\">\n",
       "      <th></th>\n",
       "      <th>Month</th>\n",
       "      <th>Day</th>\n",
       "      <th>Year</th>\n",
       "      <th>Max_Air_Temperature</th>\n",
       "      <th>Min_Air_Temperature</th>\n",
       "      <th>Precip</th>\n",
       "      <th>Dew_Point</th>\n",
       "      <th>Sky_Cover</th>\n",
       "      <th>Wind_Speed</th>\n",
       "      <th>Wind_Direction</th>\n",
       "      <th>Solar_Radiation</th>\n",
       "      <th>Storm_Type_ID</th>\n",
       "      <th>Potential_ET</th>\n",
       "      <th>Actual_ET</th>\n",
       "      <th>Actual_EI</th>\n",
       "      <th>Input_Units_Code</th>\n",
       "    </tr>\n",
       "    <tr>\n",
       "      <th>time</th>\n",
       "      <th></th>\n",
       "      <th></th>\n",
       "      <th></th>\n",
       "      <th></th>\n",
       "      <th></th>\n",
       "      <th></th>\n",
       "      <th></th>\n",
       "      <th></th>\n",
       "      <th></th>\n",
       "      <th></th>\n",
       "      <th></th>\n",
       "      <th></th>\n",
       "      <th></th>\n",
       "      <th></th>\n",
       "      <th></th>\n",
       "      <th></th>\n",
       "    </tr>\n",
       "  </thead>\n",
       "  <tbody>\n",
       "    <tr>\n",
       "      <th>2020-01-02</th>\n",
       "      <td>1</td>\n",
       "      <td>2</td>\n",
       "      <td>2020</td>\n",
       "      <td>12.309998</td>\n",
       "      <td>5.820007</td>\n",
       "      <td>32.521000</td>\n",
       "      <td>9.804993</td>\n",
       "      <td>None</td>\n",
       "      <td>3.853616</td>\n",
       "      <td>344.844299</td>\n",
       "      <td>25.638168</td>\n",
       "      <td>None</td>\n",
       "      <td>0.5965</td>\n",
       "      <td>None</td>\n",
       "      <td>None</td>\n",
       "      <td>1</td>\n",
       "    </tr>\n",
       "    <tr>\n",
       "      <th>2020-01-03</th>\n",
       "      <td>1</td>\n",
       "      <td>3</td>\n",
       "      <td>2020</td>\n",
       "      <td>16.339996</td>\n",
       "      <td>11.679993</td>\n",
       "      <td>8.980801</td>\n",
       "      <td>13.537079</td>\n",
       "      <td>None</td>\n",
       "      <td>0.716115</td>\n",
       "      <td>115.208221</td>\n",
       "      <td>52.420589</td>\n",
       "      <td>None</td>\n",
       "      <td>0.7058</td>\n",
       "      <td>None</td>\n",
       "      <td>None</td>\n",
       "      <td>1</td>\n",
       "    </tr>\n",
       "    <tr>\n",
       "      <th>2020-01-04</th>\n",
       "      <td>1</td>\n",
       "      <td>4</td>\n",
       "      <td>2020</td>\n",
       "      <td>14.260010</td>\n",
       "      <td>5.040009</td>\n",
       "      <td>0.000000</td>\n",
       "      <td>7.968597</td>\n",
       "      <td>None</td>\n",
       "      <td>4.139148</td>\n",
       "      <td>135.936890</td>\n",
       "      <td>0.000000</td>\n",
       "      <td>None</td>\n",
       "      <td>0.0638</td>\n",
       "      <td>None</td>\n",
       "      <td>None</td>\n",
       "      <td>1</td>\n",
       "    </tr>\n",
       "  </tbody>\n",
       "</table>\n",
       "</div>"
      ],
      "text/plain": [
       "            Month  Day  Year  Max_Air_Temperature  Min_Air_Temperature  \\\n",
       "time                                                                     \n",
       "2020-01-02      1    2  2020            12.309998             5.820007   \n",
       "2020-01-03      1    3  2020            16.339996            11.679993   \n",
       "2020-01-04      1    4  2020            14.260010             5.040009   \n",
       "\n",
       "               Precip  Dew_Point Sky_Cover  Wind_Speed  Wind_Direction  \\\n",
       "time                                                                     \n",
       "2020-01-02  32.521000   9.804993      None    3.853616      344.844299   \n",
       "2020-01-03   8.980801  13.537079      None    0.716115      115.208221   \n",
       "2020-01-04   0.000000   7.968597      None    4.139148      135.936890   \n",
       "\n",
       "            Solar_Radiation Storm_Type_ID  Potential_ET Actual_ET Actual_EI  \\\n",
       "time                                                                          \n",
       "2020-01-02        25.638168          None        0.5965      None      None   \n",
       "2020-01-03        52.420589          None        0.7058      None      None   \n",
       "2020-01-04         0.000000          None        0.0638      None      None   \n",
       "\n",
       "            Input_Units_Code  \n",
       "time                          \n",
       "2020-01-02                 1  \n",
       "2020-01-03                 1  \n",
       "2020-01-04                 1  "
      ]
     },
     "execution_count": 11,
     "metadata": {},
     "output_type": "execute_result"
    }
   ],
   "source": [
    "dfs[37401]['climate_data']"
   ]
  },
  {
   "cell_type": "code",
   "execution_count": 12,
   "metadata": {},
   "outputs": [],
   "source": [
    "import pandas as pd"
   ]
  },
  {
   "cell_type": "code",
   "execution_count": 17,
   "metadata": {},
   "outputs": [],
   "source": [
    "début = pd.Timestamp(\"2020-01-02\")\n",
    "fin = pd.Timestamp(\"2020-01-03\")"
   ]
  },
  {
   "cell_type": "code",
   "execution_count": 15,
   "metadata": {},
   "outputs": [],
   "source": [
    "da = dfs[37401]['climate_data'].copy()"
   ]
  },
  {
   "cell_type": "code",
   "execution_count": 18,
   "metadata": {},
   "outputs": [
    {
     "data": {
      "text/html": [
       "<div>\n",
       "<style scoped>\n",
       "    .dataframe tbody tr th:only-of-type {\n",
       "        vertical-align: middle;\n",
       "    }\n",
       "\n",
       "    .dataframe tbody tr th {\n",
       "        vertical-align: top;\n",
       "    }\n",
       "\n",
       "    .dataframe thead th {\n",
       "        text-align: right;\n",
       "    }\n",
       "</style>\n",
       "<table border=\"1\" class=\"dataframe\">\n",
       "  <thead>\n",
       "    <tr style=\"text-align: right;\">\n",
       "      <th></th>\n",
       "      <th>Month</th>\n",
       "      <th>Day</th>\n",
       "      <th>Year</th>\n",
       "      <th>Max_Air_Temperature</th>\n",
       "      <th>Min_Air_Temperature</th>\n",
       "      <th>Precip</th>\n",
       "      <th>Dew_Point</th>\n",
       "      <th>Sky_Cover</th>\n",
       "      <th>Wind_Speed</th>\n",
       "      <th>Wind_Direction</th>\n",
       "      <th>Solar_Radiation</th>\n",
       "      <th>Storm_Type_ID</th>\n",
       "      <th>Potential_ET</th>\n",
       "      <th>Actual_ET</th>\n",
       "      <th>Actual_EI</th>\n",
       "      <th>Input_Units_Code</th>\n",
       "    </tr>\n",
       "    <tr>\n",
       "      <th>time</th>\n",
       "      <th></th>\n",
       "      <th></th>\n",
       "      <th></th>\n",
       "      <th></th>\n",
       "      <th></th>\n",
       "      <th></th>\n",
       "      <th></th>\n",
       "      <th></th>\n",
       "      <th></th>\n",
       "      <th></th>\n",
       "      <th></th>\n",
       "      <th></th>\n",
       "      <th></th>\n",
       "      <th></th>\n",
       "      <th></th>\n",
       "      <th></th>\n",
       "    </tr>\n",
       "  </thead>\n",
       "  <tbody>\n",
       "    <tr>\n",
       "      <th>2020-01-02</th>\n",
       "      <td>1</td>\n",
       "      <td>2</td>\n",
       "      <td>2020</td>\n",
       "      <td>12.309998</td>\n",
       "      <td>5.820007</td>\n",
       "      <td>32.521000</td>\n",
       "      <td>9.804993</td>\n",
       "      <td>None</td>\n",
       "      <td>3.853616</td>\n",
       "      <td>344.844299</td>\n",
       "      <td>25.638168</td>\n",
       "      <td>None</td>\n",
       "      <td>0.5965</td>\n",
       "      <td>None</td>\n",
       "      <td>None</td>\n",
       "      <td>1</td>\n",
       "    </tr>\n",
       "    <tr>\n",
       "      <th>2020-01-03</th>\n",
       "      <td>1</td>\n",
       "      <td>3</td>\n",
       "      <td>2020</td>\n",
       "      <td>16.339996</td>\n",
       "      <td>11.679993</td>\n",
       "      <td>8.980801</td>\n",
       "      <td>13.537079</td>\n",
       "      <td>None</td>\n",
       "      <td>0.716115</td>\n",
       "      <td>115.208221</td>\n",
       "      <td>52.420589</td>\n",
       "      <td>None</td>\n",
       "      <td>0.7058</td>\n",
       "      <td>None</td>\n",
       "      <td>None</td>\n",
       "      <td>1</td>\n",
       "    </tr>\n",
       "  </tbody>\n",
       "</table>\n",
       "</div>"
      ],
      "text/plain": [
       "            Month  Day  Year  Max_Air_Temperature  Min_Air_Temperature  \\\n",
       "time                                                                     \n",
       "2020-01-02      1    2  2020            12.309998             5.820007   \n",
       "2020-01-03      1    3  2020            16.339996            11.679993   \n",
       "\n",
       "               Precip  Dew_Point Sky_Cover  Wind_Speed  Wind_Direction  \\\n",
       "time                                                                     \n",
       "2020-01-02  32.521000   9.804993      None    3.853616      344.844299   \n",
       "2020-01-03   8.980801  13.537079      None    0.716115      115.208221   \n",
       "\n",
       "            Solar_Radiation Storm_Type_ID  Potential_ET Actual_ET Actual_EI  \\\n",
       "time                                                                          \n",
       "2020-01-02        25.638168          None        0.5965      None      None   \n",
       "2020-01-03        52.420589          None        0.7058      None      None   \n",
       "\n",
       "            Input_Units_Code  \n",
       "time                          \n",
       "2020-01-02                 1  \n",
       "2020-01-03                 1  "
      ]
     },
     "execution_count": 18,
     "metadata": {},
     "output_type": "execute_result"
    }
   ],
   "source": [
    "df_period = da[\n",
    "    (da.index >= début) & (da.index <= fin)\n",
    "]\n",
    "df_period"
   ]
  },
  {
   "cell_type": "code",
   "execution_count": 8,
   "metadata": {},
   "outputs": [],
   "source": [
    "clms.update_coords_start_end_dates(start=\"2020-01-03\",\n",
    "                                   end=\"2020-01-03\",\n",
    "                                   date_mode=\"daily\")\n",
    "dfs2 = clms.generate_annagnps_daily_climate_data_from_nldas_daily(return_dataframes=True,\n",
    "                                                   output_dir=output_dir,\n",
    "                                                   saveformat=\"csv\")"
   ]
  },
  {
   "cell_type": "code",
   "execution_count": 10,
   "metadata": {},
   "outputs": [
    {
     "data": {
      "text/html": [
       "<div>\n",
       "<style scoped>\n",
       "    .dataframe tbody tr th:only-of-type {\n",
       "        vertical-align: middle;\n",
       "    }\n",
       "\n",
       "    .dataframe tbody tr th {\n",
       "        vertical-align: top;\n",
       "    }\n",
       "\n",
       "    .dataframe thead th {\n",
       "        text-align: right;\n",
       "    }\n",
       "</style>\n",
       "<table border=\"1\" class=\"dataframe\">\n",
       "  <thead>\n",
       "    <tr style=\"text-align: right;\">\n",
       "      <th></th>\n",
       "      <th>Month</th>\n",
       "      <th>Day</th>\n",
       "      <th>Year</th>\n",
       "      <th>Max_Air_Temperature</th>\n",
       "      <th>Min_Air_Temperature</th>\n",
       "      <th>Precip</th>\n",
       "      <th>Dew_Point</th>\n",
       "      <th>Sky_Cover</th>\n",
       "      <th>Wind_Speed</th>\n",
       "      <th>Wind_Direction</th>\n",
       "      <th>Solar_Radiation</th>\n",
       "      <th>Storm_Type_ID</th>\n",
       "      <th>Potential_ET</th>\n",
       "      <th>Actual_ET</th>\n",
       "      <th>Actual_EI</th>\n",
       "      <th>Input_Units_Code</th>\n",
       "    </tr>\n",
       "    <tr>\n",
       "      <th>time</th>\n",
       "      <th></th>\n",
       "      <th></th>\n",
       "      <th></th>\n",
       "      <th></th>\n",
       "      <th></th>\n",
       "      <th></th>\n",
       "      <th></th>\n",
       "      <th></th>\n",
       "      <th></th>\n",
       "      <th></th>\n",
       "      <th></th>\n",
       "      <th></th>\n",
       "      <th></th>\n",
       "      <th></th>\n",
       "      <th></th>\n",
       "      <th></th>\n",
       "    </tr>\n",
       "  </thead>\n",
       "  <tbody>\n",
       "    <tr>\n",
       "      <th>2020-01-03</th>\n",
       "      <td>1</td>\n",
       "      <td>3</td>\n",
       "      <td>2020</td>\n",
       "      <td>16.339996</td>\n",
       "      <td>11.679993</td>\n",
       "      <td>8.980801</td>\n",
       "      <td>13.537079</td>\n",
       "      <td>None</td>\n",
       "      <td>0.716115</td>\n",
       "      <td>115.208221</td>\n",
       "      <td>52.420589</td>\n",
       "      <td>None</td>\n",
       "      <td>0.7058</td>\n",
       "      <td>None</td>\n",
       "      <td>None</td>\n",
       "      <td>1</td>\n",
       "    </tr>\n",
       "  </tbody>\n",
       "</table>\n",
       "</div>"
      ],
      "text/plain": [
       "            Month  Day  Year  Max_Air_Temperature  Min_Air_Temperature  \\\n",
       "time                                                                     \n",
       "2020-01-03      1    3  2020            16.339996            11.679993   \n",
       "\n",
       "              Precip  Dew_Point Sky_Cover  Wind_Speed  Wind_Direction  \\\n",
       "time                                                                    \n",
       "2020-01-03  8.980801  13.537079      None    0.716115      115.208221   \n",
       "\n",
       "            Solar_Radiation Storm_Type_ID  Potential_ET Actual_ET Actual_EI  \\\n",
       "time                                                                          \n",
       "2020-01-03        52.420589          None        0.7058      None      None   \n",
       "\n",
       "            Input_Units_Code  \n",
       "time                          \n",
       "2020-01-03                 1  "
      ]
     },
     "execution_count": 10,
     "metadata": {},
     "output_type": "execute_result"
    }
   ],
   "source": [
    "dfs2[37401]['climate_data']"
   ]
  },
  {
   "cell_type": "code",
   "execution_count": 12,
   "metadata": {},
   "outputs": [
    {
     "data": {
      "text/plain": [
       "{37401: {'climate_data':             Month  Day  Year  Max_Air_Temperature  Min_Air_Temperature  \\\n",
       "  time                                                                     \n",
       "  2020-01-03      1    3  2020            12.309998             5.820007   \n",
       "  2020-01-04      1    4  2020            16.339996            11.679993   \n",
       "  2020-01-05      1    5  2020            14.260010             5.040009   \n",
       "  \n",
       "                 Precip  Dew_Point Sky_Cover  Wind_Speed  Wind_Direction  \\\n",
       "  time                                                                     \n",
       "  2020-01-03  32.521000   9.804993      None    3.853616      344.844299   \n",
       "  2020-01-04   8.980801  13.537079      None    0.716115      115.208221   \n",
       "  2020-01-05   0.000000   7.968597      None    4.139148      135.936890   \n",
       "  \n",
       "              Solar_Radiation Storm_Type_ID  Potential_ET Actual_ET Actual_EI  \\\n",
       "  time                                                                          \n",
       "  2020-01-03        25.638168          None        0.5965      None      None   \n",
       "  2020-01-04        52.420589          None        0.7058      None      None   \n",
       "  2020-01-05         0.000000          None        0.0638      None      None   \n",
       "  \n",
       "              Input_Units_Code  \n",
       "  time                          \n",
       "  2020-01-03                 1  \n",
       "  2020-01-04                 1  \n",
       "  2020-01-05                 1  ,\n",
       "  'coords': (np.float32(-89.9375), np.float32(35.0625))},\n",
       " 41113: {'climate_data':             Month  Day  Year  Max_Air_Temperature  Min_Air_Temperature  \\\n",
       "  time                                                                     \n",
       "  2020-01-03      1    3  2020            12.279999             4.010010   \n",
       "  2020-01-04      1    4  2020            13.670013            10.510010   \n",
       "  2020-01-05      1    5  2020            12.230011             3.899994   \n",
       "  \n",
       "                 Precip  Dew_Point Sky_Cover  Wind_Speed  Wind_Direction  \\\n",
       "  time                                                                     \n",
       "  2020-01-03  15.507599   9.176239      None    4.110689         1.75998   \n",
       "  2020-01-04   8.183200  11.562500      None    1.404719       128.59346   \n",
       "  2020-01-05   0.000000   6.377136      None    4.090394       113.98687   \n",
       "  \n",
       "              Solar_Radiation Storm_Type_ID  Potential_ET Actual_ET Actual_EI  \\\n",
       "  time                                                                          \n",
       "  2020-01-03        31.141500          None        0.6031      None      None   \n",
       "  2020-01-04        30.207916          None        0.5402      None      None   \n",
       "  2020-01-05         0.000000          None        0.0615      None      None   \n",
       "  \n",
       "              Input_Units_Code  \n",
       "  time                          \n",
       "  2020-01-03                 1  \n",
       "  2020-01-04                 1  \n",
       "  2020-01-05                 1  ,\n",
       "  'coords': (np.float32(-89.9375), np.float32(36.0625))},\n",
       " 44825: {'climate_data':             Month  Day  Year  Max_Air_Temperature  Min_Air_Temperature  \\\n",
       "  time                                                                     \n",
       "  2020-01-03      1    3  2020            13.130005             2.549988   \n",
       "  2020-01-04      1    4  2020            12.290009             9.970001   \n",
       "  2020-01-05      1    5  2020            11.149994             2.070007   \n",
       "  \n",
       "                Precip  Dew_Point Sky_Cover  Wind_Speed  Wind_Direction  \\\n",
       "  time                                                                    \n",
       "  2020-01-03  5.657400   8.496246      None    4.967808       13.088629   \n",
       "  2020-01-04  7.175799  10.581665      None    2.393733       91.047241   \n",
       "  2020-01-05  0.000000   4.041443      None    3.790607      103.135422   \n",
       "  \n",
       "              Solar_Radiation Storm_Type_ID  Potential_ET Actual_ET Actual_EI  \\\n",
       "  time                                                                          \n",
       "  2020-01-03        62.664829          None        1.0285      None      None   \n",
       "  2020-01-04        30.005587          None        0.6518      None      None   \n",
       "  2020-01-05         0.000000          None        0.0090      None      None   \n",
       "  \n",
       "              Input_Units_Code  \n",
       "  time                          \n",
       "  2020-01-03                 1  \n",
       "  2020-01-04                 1  \n",
       "  2020-01-05                 1  ,\n",
       "  'coords': (np.float32(-89.9375), np.float32(37.0625))},\n",
       " 37481: {'climate_data':             Month  Day  Year  Max_Air_Temperature  Min_Air_Temperature  \\\n",
       "  time                                                                     \n",
       "  2020-01-03      1    3  2020            10.859985             2.570007   \n",
       "  2020-01-04      1    4  2020            18.640015             5.019989   \n",
       "  2020-01-05      1    5  2020            18.640015            15.809998   \n",
       "  \n",
       "                 Precip  Dew_Point Sky_Cover  Wind_Speed  Wind_Direction  \\\n",
       "  time                                                                     \n",
       "  2020-01-03   7.494600   6.265442      None    1.406074       19.347734   \n",
       "  2020-01-04  19.498598  13.020416      None    1.394430       31.087072   \n",
       "  2020-01-05   4.748800  16.292847      None    3.706400       45.515316   \n",
       "  \n",
       "              Solar_Radiation Storm_Type_ID  Potential_ET Actual_ET Actual_EI  \\\n",
       "  time                                                                          \n",
       "  2020-01-03        52.816006          None        1.4822      None      None   \n",
       "  2020-01-04        59.803589          None        0.9999      None      None   \n",
       "  2020-01-05         0.000000          None        0.0292      None      None   \n",
       "  \n",
       "              Input_Units_Code  \n",
       "  time                          \n",
       "  2020-01-03                 1  \n",
       "  2020-01-04                 1  \n",
       "  2020-01-05                 1  ,\n",
       "  'coords': (np.float32(-79.9375), np.float32(35.0625))},\n",
       " 41193: {'climate_data':             Month  Day  Year  Max_Air_Temperature  Min_Air_Temperature  \\\n",
       "  time                                                                     \n",
       "  2020-01-03      1    3  2020            10.940002             0.869995   \n",
       "  2020-01-04      1    4  2020            13.670013             3.899994   \n",
       "  2020-01-05      1    5  2020            13.769989            13.359985   \n",
       "  \n",
       "                 Precip  Dew_Point Sky_Cover  Wind_Speed  Wind_Direction  \\\n",
       "  time                                                                     \n",
       "  2020-01-03   7.723200   4.538330      None    4.001711       42.028896   \n",
       "  2020-01-04  23.277401  10.071228      None    2.976414       47.456535   \n",
       "  2020-01-05   2.577000  13.554291      None    4.697213       45.073929   \n",
       "  \n",
       "              Solar_Radiation Storm_Type_ID  Potential_ET Actual_ET Actual_EI  \\\n",
       "  time                                                                          \n",
       "  2020-01-03        77.804337          None        2.1325      None      None   \n",
       "  2020-01-04        41.151920          None        0.8096      None      None   \n",
       "  2020-01-05         0.000000          None        0.0289      None      None   \n",
       "  \n",
       "              Input_Units_Code  \n",
       "  time                          \n",
       "  2020-01-03                 1  \n",
       "  2020-01-04                 1  \n",
       "  2020-01-05                 1  ,\n",
       "  'coords': (np.float32(-79.9375), np.float32(36.0625))},\n",
       " 44905: {'climate_data':             Month  Day  Year  Max_Air_Temperature  Min_Air_Temperature  \\\n",
       "  time                                                                     \n",
       "  2020-01-03      1    3  2020            11.279999             0.299988   \n",
       "  2020-01-04      1    4  2020            12.130005             5.809998   \n",
       "  2020-01-05      1    5  2020            12.230011            11.190002   \n",
       "  \n",
       "              Precip  Dew_Point Sky_Cover  Wind_Speed  Wind_Direction  \\\n",
       "  time                                                                  \n",
       "  2020-01-03  4.8092   5.528320      None    4.162161       35.671036   \n",
       "  2020-01-04  6.8720   9.598328      None    3.630728       37.511665   \n",
       "  2020-01-05  0.9788  12.029999      None    3.792449       41.181866   \n",
       "  \n",
       "              Solar_Radiation Storm_Type_ID  Potential_ET Actual_ET Actual_EI  \\\n",
       "  time                                                                          \n",
       "  2020-01-03       102.043175          None        2.3694      None      None   \n",
       "  2020-01-04        30.215082          None        0.7287      None      None   \n",
       "  2020-01-05         0.000000          None       -0.0043      None      None   \n",
       "  \n",
       "              Input_Units_Code  \n",
       "  time                          \n",
       "  2020-01-03                 1  \n",
       "  2020-01-04                 1  \n",
       "  2020-01-05                 1  ,\n",
       "  'coords': (np.float32(-79.9375), np.float32(37.0625))},\n",
       " 37561: {'climate_data':             Month  Day  Year  Max_Air_Temperature  Min_Air_Temperature  \\\n",
       "  time                                                                     \n",
       "  2020-01-03      1    3  2020                  NaN                  NaN   \n",
       "  2020-01-04      1    4  2020                  NaN                  NaN   \n",
       "  2020-01-05      1    5  2020                  NaN                  NaN   \n",
       "  \n",
       "              Precip  Dew_Point Sky_Cover  Wind_Speed  Wind_Direction  \\\n",
       "  time                                                                  \n",
       "  2020-01-03     0.0        NaN      None         NaN             NaN   \n",
       "  2020-01-04     0.0        NaN      None         NaN             NaN   \n",
       "  2020-01-05     0.0        NaN      None         NaN             NaN   \n",
       "  \n",
       "              Solar_Radiation Storm_Type_ID  Potential_ET Actual_ET Actual_EI  \\\n",
       "  time                                                                          \n",
       "  2020-01-03              NaN          None           0.0      None      None   \n",
       "  2020-01-04              NaN          None           0.0      None      None   \n",
       "  2020-01-05              NaN          None           0.0      None      None   \n",
       "  \n",
       "              Input_Units_Code  \n",
       "  time                          \n",
       "  2020-01-03                 1  \n",
       "  2020-01-04                 1  \n",
       "  2020-01-05                 1  ,\n",
       "  'coords': (np.float32(-69.9375), np.float32(35.0625))},\n",
       " 41273: {'climate_data':             Month  Day  Year  Max_Air_Temperature  Min_Air_Temperature  \\\n",
       "  time                                                                     \n",
       "  2020-01-03      1    3  2020                  NaN                  NaN   \n",
       "  2020-01-04      1    4  2020                  NaN                  NaN   \n",
       "  2020-01-05      1    5  2020                  NaN                  NaN   \n",
       "  \n",
       "              Precip  Dew_Point Sky_Cover  Wind_Speed  Wind_Direction  \\\n",
       "  time                                                                  \n",
       "  2020-01-03     0.0        NaN      None         NaN             NaN   \n",
       "  2020-01-04     0.0        NaN      None         NaN             NaN   \n",
       "  2020-01-05     0.0        NaN      None         NaN             NaN   \n",
       "  \n",
       "              Solar_Radiation Storm_Type_ID  Potential_ET Actual_ET Actual_EI  \\\n",
       "  time                                                                          \n",
       "  2020-01-03              NaN          None           0.0      None      None   \n",
       "  2020-01-04              NaN          None           0.0      None      None   \n",
       "  2020-01-05              NaN          None           0.0      None      None   \n",
       "  \n",
       "              Input_Units_Code  \n",
       "  time                          \n",
       "  2020-01-03                 1  \n",
       "  2020-01-04                 1  \n",
       "  2020-01-05                 1  ,\n",
       "  'coords': (np.float32(-69.9375), np.float32(36.0625))},\n",
       " 44985: {'climate_data':             Month  Day  Year  Max_Air_Temperature  Min_Air_Temperature  \\\n",
       "  time                                                                     \n",
       "  2020-01-03      1    3  2020                  NaN                  NaN   \n",
       "  2020-01-04      1    4  2020                  NaN                  NaN   \n",
       "  2020-01-05      1    5  2020                  NaN                  NaN   \n",
       "  \n",
       "              Precip  Dew_Point Sky_Cover  Wind_Speed  Wind_Direction  \\\n",
       "  time                                                                  \n",
       "  2020-01-03     0.0        NaN      None         NaN             NaN   \n",
       "  2020-01-04     0.0        NaN      None         NaN             NaN   \n",
       "  2020-01-05     0.0        NaN      None         NaN             NaN   \n",
       "  \n",
       "              Solar_Radiation Storm_Type_ID  Potential_ET Actual_ET Actual_EI  \\\n",
       "  time                                                                          \n",
       "  2020-01-03              NaN          None           0.0      None      None   \n",
       "  2020-01-04              NaN          None           0.0      None      None   \n",
       "  2020-01-05              NaN          None           0.0      None      None   \n",
       "  \n",
       "              Input_Units_Code  \n",
       "  time                          \n",
       "  2020-01-03                 1  \n",
       "  2020-01-04                 1  \n",
       "  2020-01-05                 1  ,\n",
       "  'coords': (np.float32(-69.9375), np.float32(37.0625))}}"
      ]
     },
     "execution_count": 12,
     "metadata": {},
     "output_type": "execute_result"
    }
   ],
   "source": [
    "dfs"
   ]
  },
  {
   "cell_type": "code",
   "execution_count": 29,
   "metadata": {},
   "outputs": [
    {
     "data": {
      "text/plain": [
       "(np.float32(-89.9375), np.float32(35.0625))"
      ]
     },
     "execution_count": 29,
     "metadata": {},
     "output_type": "execute_result"
    }
   ],
   "source": [
    "dfs[37401]['coords']"
   ]
  },
  {
   "cell_type": "code",
   "execution_count": 30,
   "metadata": {},
   "outputs": [
    {
     "data": {
      "text/plain": [
       "(281, 81, 37401)"
      ]
     },
     "execution_count": 30,
     "metadata": {},
     "output_type": "execute_result"
    }
   ],
   "source": [
    "get_grid_position(-89.9375,35.0625)"
   ]
  },
  {
   "cell_type": "code",
   "execution_count": 31,
   "metadata": {},
   "outputs": [
    {
     "data": {
      "text/plain": [
       "281"
      ]
     },
     "execution_count": 31,
     "metadata": {},
     "output_type": "execute_result"
    }
   ],
   "source": [
    "37401 % 464"
   ]
  },
  {
   "cell_type": "code",
   "execution_count": null,
   "metadata": {},
   "outputs": [],
   "source": []
  },
  {
   "cell_type": "code",
   "execution_count": 37,
   "metadata": {},
   "outputs": [
    {
     "data": {
      "text/plain": [
       "80"
      ]
     },
     "execution_count": 37,
     "metadata": {},
     "output_type": "execute_result"
    }
   ],
   "source": [
    "37401 // 464"
   ]
  },
  {
   "cell_type": "code",
   "execution_count": 112,
   "metadata": {},
   "outputs": [],
   "source": [
    "def lon_lat_from_station_id(station_id, \n",
    "                            lon_min=-124.9375, lon_max=-67.0625, \n",
    "                            lat_min=25.0625, lat_max=52.9375, \n",
    "                            total_columns=464, total_rows=224):\n",
    "    # Write the inverse function of the get_grid_position function\n",
    "\n",
    "    # Calculate the step size for longitude and latitude\n",
    "    # lon_step = 0.125 # (lon_max - lon_min) / total_columns\n",
    "    # lat_step = 0.125 # (lat_max - lat_min) / total_rows\n",
    "\n",
    "    # Calculate the step size for longitude and latitude\n",
    "    lon_step = (lon_max - lon_min) / (total_columns - 1)\n",
    "    lat_step = (lat_max - lat_min) / (total_rows - 1)\n",
    "\n",
    "    row = max((station_id // total_columns), 1)\n",
    "    column = total_columns if (station_id % total_columns) == 0 else (station_id % total_columns)\n",
    "\n",
    "    # Calculate the longitude and latitude\n",
    "    lon = lon_min + (column - 1) * lon_step\n",
    "    lat = lat_min + (row - 1) * lat_step\n",
    "\n",
    "    return column, row, lon, lat"
   ]
  },
  {
   "cell_type": "code",
   "execution_count": 113,
   "metadata": {},
   "outputs": [
    {
     "data": {
      "text/plain": [
       "(464, 224, -67.0625, 52.9375)"
      ]
     },
     "execution_count": 113,
     "metadata": {},
     "output_type": "execute_result"
    }
   ],
   "source": [
    "lon_lat_from_station_id(103936)\n",
    "# lon_lat_from_station_id(37401)"
   ]
  },
  {
   "cell_type": "code",
   "execution_count": 114,
   "metadata": {},
   "outputs": [
    {
     "data": {
      "text/plain": [
       "(464, 224, 103936)"
      ]
     },
     "execution_count": 114,
     "metadata": {},
     "output_type": "execute_result"
    }
   ],
   "source": [
    "get_grid_position(-67.0625, 52.9375)"
   ]
  },
  {
   "cell_type": "code",
   "execution_count": 61,
   "metadata": {},
   "outputs": [],
   "source": [
    "lon_min=-124.9375\n",
    "lon_max=-67.0625\n",
    "lat_min=25.0625\n",
    "lat_max=52.9375\n",
    "total_columns=464\n",
    "total_rows=224"
   ]
  },
  {
   "cell_type": "code",
   "execution_count": 64,
   "metadata": {},
   "outputs": [],
   "source": [
    "def get_grid_position(lon, lat, \n",
    "                      lon_min=-124.9375, lon_max=-67.0625, \n",
    "                      lat_min=25.0625, lat_max=52.9375, \n",
    "                      total_columns=464, total_rows=224):\n",
    "    \"\"\"\n",
    "    Calculate the grid position of a given longitude and latitude within a specified range.\n",
    "    Defaults to NLDAS-2 grid\n",
    "\n",
    "    Args:\n",
    "        lon (float): The longitude value.\n",
    "        lat (float): The latitude value.\n",
    "        lon_min (float, optional): The minimum longitude value of the range. Defaults to -124.9375.\n",
    "        lon_max (float, optional): The maximum longitude value of the range. Defaults to -67.0625.\n",
    "        lat_min (float, optional): The minimum latitude value of the range. Defaults to 25.0625.\n",
    "        lat_max (float, optional): The maximum latitude value of the range. Defaults to 52.9375.\n",
    "        total_columns (int, optional): The total number of columns in the grid. Defaults to 464.\n",
    "        total_rows (int, optional): The total number of rows in the grid. Defaults to 224.\n",
    "\n",
    "    Returns:\n",
    "        tuple: A tuple containing the column, row, and unique ID of the grid position.\n",
    "            - column (int): The column index of the grid position.\n",
    "            - row (int): The row index of the grid position.\n",
    "            - station_id (int): The unique ID of the grid position.\n",
    "    \"\"\"\n",
    "    \n",
    "    # Calculate the step size for longitude and latitude\n",
    "    lon_step = (lon_max - lon_min) / (total_columns - 1)\n",
    "    lat_step = (lat_max - lat_min) / (total_rows - 1)\n",
    "    \n",
    "    # Calculate the column and row\n",
    "    column = int((lon - lon_min) / lon_step) + 1\n",
    "    row = int((lat - lat_min) / lat_step) + 1\n",
    "\n",
    "    # Calculate the unique ID\n",
    "    station_id = (row - 1) * total_columns + column\n",
    "    \n",
    "    return column, row, station_id"
   ]
  },
  {
   "cell_type": "code",
   "execution_count": 69,
   "metadata": {},
   "outputs": [
    {
     "data": {
      "text/plain": [
       "(464, 224, 103936)"
      ]
     },
     "execution_count": 69,
     "metadata": {},
     "output_type": "execute_result"
    }
   ],
   "source": [
    "# get_grid_position(-124.9375, 25.0625)\n",
    "get_grid_position(lon_max, lat_max)"
   ]
  },
  {
   "cell_type": "code",
   "execution_count": 23,
   "metadata": {},
   "outputs": [
    {
     "data": {
      "text/plain": [
       "3"
      ]
     },
     "execution_count": 23,
     "metadata": {},
     "output_type": "execute_result"
    }
   ],
   "source": [
    "15 % 12"
   ]
  },
  {
   "cell_type": "code",
   "execution_count": 27,
   "metadata": {},
   "outputs": [
    {
     "data": {
      "text/plain": [
       "(-90.01293103448276, 35.88895089285714)"
      ]
     },
     "execution_count": 27,
     "metadata": {},
     "output_type": "execute_result"
    }
   ],
   "source": [
    "lon_lat_from_station_id(41113)"
   ]
  }
 ],
 "metadata": {
  "kernelspec": {
   "display_name": ".venv",
   "language": "python",
   "name": "python3"
  },
  "language_info": {
   "codemirror_mode": {
    "name": "ipython",
    "version": 3
   },
   "file_extension": ".py",
   "mimetype": "text/x-python",
   "name": "python",
   "nbconvert_exporter": "python",
   "pygments_lexer": "ipython3",
   "version": "3.11.4"
  }
 },
 "nbformat": 4,
 "nbformat_minor": 2
}
