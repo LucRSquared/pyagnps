{
 "cells": [
  {
   "cell_type": "code",
   "execution_count": 1,
   "metadata": {},
   "outputs": [],
   "source": [
    "import xarray as xr"
   ]
  },
  {
   "cell_type": "code",
   "execution_count": 2,
   "metadata": {},
   "outputs": [],
   "source": [
    "from pydap.client import open_url\n",
    "from pydap.cas.urs import setup_session\n",
    "\n",
    "# url = 'https://goldsmr4.gesdisc.eosdis.nasa.gov/opendap/MERRA2/M2T1NXSLV.5.12.4/2016/06/MERRA2_400.tavg1_2d_slv_Nx.20160601.nc4'\n",
    "url = 'https://hydro1.gesdisc.eosdis.nasa.gov/opendap/hyrax/NLDAS/NLDAS_NOAH0125_H.2.0/1997/012/NLDAS_NOAH0125_H.A19970112.0400.020.nc?Evap[0:1:0][0:1:223][0:1:463]'\n",
    "\n",
    "username = \"lucrsquared\"\n",
    "password = \"7BLpf3j7YnnA\"\n",
    "\n",
    "session = setup_session(username, password)"
   ]
  },
  {
   "cell_type": "code",
   "execution_count": 3,
   "metadata": {},
   "outputs": [],
   "source": [
    "ds = open_url(url=url, session=session)"
   ]
  },
  {
   "cell_type": "code",
   "execution_count": 4,
   "metadata": {},
   "outputs": [
    {
     "data": {
      "text/plain": [
       "<DatasetType with children 'Evap'>"
      ]
     },
     "execution_count": 4,
     "metadata": {},
     "output_type": "execute_result"
    }
   ],
   "source": [
    "ds"
   ]
  },
  {
   "cell_type": "code",
   "execution_count": 20,
   "metadata": {},
   "outputs": [
    {
     "data": {
      "text/plain": [
       "(1, 224, 464)"
      ]
     },
     "execution_count": 20,
     "metadata": {},
     "output_type": "execute_result"
    }
   ],
   "source": [
    "ds['Evap'].shape"
   ]
  },
  {
   "cell_type": "code",
   "execution_count": 22,
   "metadata": {},
   "outputs": [
    {
     "ename": "HTTPError",
     "evalue": "302 Found\n<!DOCTYPE HTML PUBLIC \"-//IETF//DTD HTML 2.0//EN\">\n<html><head>\n<title>302 Found</title>\n</head><body>\n<h1>Found</h1>\n<p>The document has moved <a href=\"https://urs.earthdata.nasa.gov/oauth/authorize/?scope=uid&amp;app_type=401&amp;client_id=e2WVk8Pw6weeLUKZYOxvTQ&amp;response_type=code&amp;redirect_uri=https%3A%2F%2Fhydro1.gesdisc.eosdis.nasa.gov%2Fdata-redirect&amp;state=aHR0cHM6Ly9oeWRybzEuZ2VzZGlzYy5lb3NkaXMubmFzYS5nb3Yvb3BlbmRhcC9oeXJheC9OTERBUy9OTERBU19OT0FIMDEyNV9ILjIuMC8xOTk3LzAxMi9OTERBU19OT0FIMDEyNV9ILkExOTk3MDExMi4wNDAwLjAyMC5uYy5kb2RzP0V2YXAuRXZhcCU1QjA6MTowJTVEJTVCNToxOjUlNUQlNUIxMDoxOjE5JTVE\">here</a>.</p>\n</body></html>\n\nThis is redirect error. These should not usually raise an error in pydap beacuse redirects are handled implicitly. If it failed it is likely due to a circular redirect.",
     "output_type": "error",
     "traceback": [
      "\u001b[1;31m---------------------------------------------------------------------------\u001b[0m",
      "\u001b[1;31mHTTPError\u001b[0m                                 Traceback (most recent call last)",
      "\u001b[1;32mc:\\Users\\Luc\\projects\\pyagnps\\notebooks\\climate\\test_nldas_opendap.ipynb Cell 6\u001b[0m line \u001b[0;36m1\n\u001b[1;32m----> <a href='vscode-notebook-cell:/c%3A/Users/Luc/projects/pyagnps/notebooks/climate/test_nldas_opendap.ipynb#X13sZmlsZQ%3D%3D?line=0'>1</a>\u001b[0m ds[\u001b[39m'\u001b[39;49m\u001b[39mEvap\u001b[39;49m\u001b[39m'\u001b[39;49m][\u001b[39m0\u001b[39;49m,\u001b[39m5\u001b[39;49m:\u001b[39m6\u001b[39;49m,\u001b[39m10\u001b[39;49m:\u001b[39m20\u001b[39;49m]\n",
      "File \u001b[1;32mc:\\Users\\Luc\\projects\\pyagnps\\.venv\\Lib\\site-packages\\pydap\\model.py:748\u001b[0m, in \u001b[0;36mGridType.__getitem__\u001b[1;34m(self, key)\u001b[0m\n\u001b[0;32m    746\u001b[0m     \u001b[39mif\u001b[39;00m \u001b[39mtype\u001b[39m(\u001b[39mself\u001b[39m\u001b[39m.\u001b[39mdata)\u001b[39m.\u001b[39m\u001b[39m__name__\u001b[39m \u001b[39m==\u001b[39m \u001b[39m'\u001b[39m\u001b[39mBaseProxyDap4\u001b[39m\u001b[39m'\u001b[39m:\n\u001b[0;32m    747\u001b[0m         \u001b[39mpass\u001b[39;00m\n\u001b[1;32m--> 748\u001b[0m     var\u001b[39m.\u001b[39mdata \u001b[39m=\u001b[39m \u001b[39mself\u001b[39;49m[var\u001b[39m.\u001b[39;49mname]\u001b[39m.\u001b[39;49mdata[slice_]\n\u001b[0;32m    749\u001b[0m \u001b[39mreturn\u001b[39;00m out\n",
      "File \u001b[1;32mc:\\Users\\Luc\\projects\\pyagnps\\.venv\\Lib\\site-packages\\pydap\\handlers\\dap.py:253\u001b[0m, in \u001b[0;36mBaseProxyDap2.__getitem__\u001b[1;34m(self, index)\u001b[0m\n\u001b[0;32m    250\u001b[0m logger\u001b[39m.\u001b[39minfo(\u001b[39m\"\u001b[39m\u001b[39mFetching URL: \u001b[39m\u001b[39m%s\u001b[39;00m\u001b[39m\"\u001b[39m \u001b[39m%\u001b[39m url)\n\u001b[0;32m    251\u001b[0m r \u001b[39m=\u001b[39m pydap\u001b[39m.\u001b[39mnet\u001b[39m.\u001b[39mGET(url, \u001b[39mself\u001b[39m\u001b[39m.\u001b[39mapplication, \u001b[39mself\u001b[39m\u001b[39m.\u001b[39msession, timeout\u001b[39m=\u001b[39m\u001b[39mself\u001b[39m\u001b[39m.\u001b[39mtimeout, verify\u001b[39m=\u001b[39m\u001b[39mself\u001b[39m\u001b[39m.\u001b[39mverify)\n\u001b[1;32m--> 253\u001b[0m pydap\u001b[39m.\u001b[39;49mnet\u001b[39m.\u001b[39;49mraise_for_status(r)\n\u001b[0;32m    254\u001b[0m dds, data \u001b[39m=\u001b[39m safe_dds_and_data(r, \u001b[39mself\u001b[39m\u001b[39m.\u001b[39muser_charset)\n\u001b[0;32m    256\u001b[0m \u001b[39m# Parse received dataset:\u001b[39;00m\n",
      "File \u001b[1;32mc:\\Users\\Luc\\projects\\pyagnps\\.venv\\Lib\\site-packages\\pydap\\net.py:52\u001b[0m, in \u001b[0;36mraise_for_status\u001b[1;34m(response)\u001b[0m\n\u001b[0;32m     46\u001b[0m \u001b[39mexcept\u001b[39;00m \u001b[39mAttributeError\u001b[39;00m:\n\u001b[0;32m     47\u001b[0m     \u001b[39m# With this status_code, response.text could\u001b[39;00m\n\u001b[0;32m     48\u001b[0m     \u001b[39m# be ill-defined. If the redirect does not set\u001b[39;00m\n\u001b[0;32m     49\u001b[0m     \u001b[39m# an encoding (i.e. response.charset is None).\u001b[39;00m\n\u001b[0;32m     50\u001b[0m     \u001b[39m# Set the text to empty string:\u001b[39;00m\n\u001b[0;32m     51\u001b[0m     text \u001b[39m=\u001b[39m \u001b[39m'\u001b[39m\u001b[39m'\u001b[39m\n\u001b[1;32m---> 52\u001b[0m \u001b[39mraise\u001b[39;00m HTTPError(\n\u001b[0;32m     53\u001b[0m     detail\u001b[39m=\u001b[39m(response\u001b[39m.\u001b[39mstatus \u001b[39m+\u001b[39m \u001b[39m'\u001b[39m\u001b[39m\\n\u001b[39;00m\u001b[39m'\u001b[39m \u001b[39m+\u001b[39m text \u001b[39m+\u001b[39m \u001b[39m'\u001b[39m\u001b[39m\\n\u001b[39;00m\u001b[39m'\u001b[39m \u001b[39m+\u001b[39m\n\u001b[0;32m     54\u001b[0m             \u001b[39m'\u001b[39m\u001b[39mThis is redirect error. These should not usually raise \u001b[39m\u001b[39m'\u001b[39m \u001b[39m+\u001b[39m\n\u001b[0;32m     55\u001b[0m             \u001b[39m'\u001b[39m\u001b[39man error in pydap beacuse redirects are handled \u001b[39m\u001b[39m'\u001b[39m \u001b[39m+\u001b[39m\n\u001b[0;32m     56\u001b[0m             \u001b[39m'\u001b[39m\u001b[39mimplicitly. If it failed it is likely due to a \u001b[39m\u001b[39m'\u001b[39m \u001b[39m+\u001b[39m\n\u001b[0;32m     57\u001b[0m             \u001b[39m'\u001b[39m\u001b[39mcircular redirect.\u001b[39m\u001b[39m'\u001b[39m),\n\u001b[0;32m     58\u001b[0m     headers\u001b[39m=\u001b[39mresponse\u001b[39m.\u001b[39mheaders,\n\u001b[0;32m     59\u001b[0m     comment\u001b[39m=\u001b[39mresponse\u001b[39m.\u001b[39mbody)\n",
      "\u001b[1;31mHTTPError\u001b[0m: 302 Found\n<!DOCTYPE HTML PUBLIC \"-//IETF//DTD HTML 2.0//EN\">\n<html><head>\n<title>302 Found</title>\n</head><body>\n<h1>Found</h1>\n<p>The document has moved <a href=\"https://urs.earthdata.nasa.gov/oauth/authorize/?scope=uid&amp;app_type=401&amp;client_id=e2WVk8Pw6weeLUKZYOxvTQ&amp;response_type=code&amp;redirect_uri=https%3A%2F%2Fhydro1.gesdisc.eosdis.nasa.gov%2Fdata-redirect&amp;state=aHR0cHM6Ly9oeWRybzEuZ2VzZGlzYy5lb3NkaXMubmFzYS5nb3Yvb3BlbmRhcC9oeXJheC9OTERBUy9OTERBU19OT0FIMDEyNV9ILjIuMC8xOTk3LzAxMi9OTERBU19OT0FIMDEyNV9ILkExOTk3MDExMi4wNDAwLjAyMC5uYy5kb2RzP0V2YXAuRXZhcCU1QjA6MTowJTVEJTVCNToxOjUlNUQlNUIxMDoxOjE5JTVE\">here</a>.</p>\n</body></html>\n\nThis is redirect error. These should not usually raise an error in pydap beacuse redirects are handled implicitly. If it failed it is likely due to a circular redirect."
     ]
    }
   ],
   "source": [
    "ds['Evap'][0,5:6,10:20]"
   ]
  },
  {
   "cell_type": "code",
   "execution_count": 17,
   "metadata": {},
   "outputs": [
    {
     "data": {
      "text/plain": [
       "<GridType with array 'Evap' and maps 'time', 'lat', 'lon'>"
      ]
     },
     "execution_count": 17,
     "metadata": {},
     "output_type": "execute_result"
    }
   ],
   "source": [
    "ds.Evap.da"
   ]
  },
  {
   "cell_type": "code",
   "execution_count": 29,
   "metadata": {},
   "outputs": [
    {
     "ename": "ValueError",
     "evalue": "unrecognized engine pydap must be one of: ['netcdf4', 'h5netcdf', 'scipy', 'rasterio', 'store']",
     "output_type": "error",
     "traceback": [
      "\u001b[1;31m---------------------------------------------------------------------------\u001b[0m",
      "\u001b[1;31mValueError\u001b[0m                                Traceback (most recent call last)",
      "\u001b[1;32mc:\\Users\\Luc\\projects\\pyagnps\\notebooks\\climate\\test_nldas_opendap.ipynb Cell 6\u001b[0m line \u001b[0;36m1\n\u001b[1;32m----> <a href='vscode-notebook-cell:/c%3A/Users/Luc/projects/pyagnps/notebooks/climate/test_nldas_opendap.ipynb#W6sZmlsZQ%3D%3D?line=0'>1</a>\u001b[0m da \u001b[39m=\u001b[39m xr\u001b[39m.\u001b[39;49mopen_dataset(ds, engine\u001b[39m=\u001b[39;49m\u001b[39m'\u001b[39;49m\u001b[39mpydap\u001b[39;49m\u001b[39m'\u001b[39;49m)\n",
      "File \u001b[1;32mc:\\Users\\Luc\\projects\\pyagnps\\.venv\\Lib\\site-packages\\xarray\\backends\\api.py:559\u001b[0m, in \u001b[0;36mopen_dataset\u001b[1;34m(filename_or_obj, engine, chunks, cache, decode_cf, mask_and_scale, decode_times, decode_timedelta, use_cftime, concat_characters, decode_coords, drop_variables, inline_array, chunked_array_type, from_array_kwargs, backend_kwargs, **kwargs)\u001b[0m\n\u001b[0;32m    556\u001b[0m \u001b[39mif\u001b[39;00m from_array_kwargs \u001b[39mis\u001b[39;00m \u001b[39mNone\u001b[39;00m:\n\u001b[0;32m    557\u001b[0m     from_array_kwargs \u001b[39m=\u001b[39m {}\n\u001b[1;32m--> 559\u001b[0m backend \u001b[39m=\u001b[39m plugins\u001b[39m.\u001b[39;49mget_backend(engine)\n\u001b[0;32m    561\u001b[0m decoders \u001b[39m=\u001b[39m _resolve_decoders_kwargs(\n\u001b[0;32m    562\u001b[0m     decode_cf,\n\u001b[0;32m    563\u001b[0m     open_backend_dataset_parameters\u001b[39m=\u001b[39mbackend\u001b[39m.\u001b[39mopen_dataset_parameters,\n\u001b[1;32m   (...)\u001b[0m\n\u001b[0;32m    569\u001b[0m     decode_coords\u001b[39m=\u001b[39mdecode_coords,\n\u001b[0;32m    570\u001b[0m )\n\u001b[0;32m    572\u001b[0m overwrite_encoded_chunks \u001b[39m=\u001b[39m kwargs\u001b[39m.\u001b[39mpop(\u001b[39m\"\u001b[39m\u001b[39moverwrite_encoded_chunks\u001b[39m\u001b[39m\"\u001b[39m, \u001b[39mNone\u001b[39;00m)\n",
      "File \u001b[1;32mc:\\Users\\Luc\\projects\\pyagnps\\.venv\\Lib\\site-packages\\xarray\\backends\\plugins.py:205\u001b[0m, in \u001b[0;36mget_backend\u001b[1;34m(engine)\u001b[0m\n\u001b[0;32m    203\u001b[0m     engines \u001b[39m=\u001b[39m list_engines()\n\u001b[0;32m    204\u001b[0m     \u001b[39mif\u001b[39;00m engine \u001b[39mnot\u001b[39;00m \u001b[39min\u001b[39;00m engines:\n\u001b[1;32m--> 205\u001b[0m         \u001b[39mraise\u001b[39;00m \u001b[39mValueError\u001b[39;00m(\n\u001b[0;32m    206\u001b[0m             \u001b[39mf\u001b[39m\u001b[39m\"\u001b[39m\u001b[39munrecognized engine \u001b[39m\u001b[39m{\u001b[39;00mengine\u001b[39m}\u001b[39;00m\u001b[39m must be one of: \u001b[39m\u001b[39m{\u001b[39;00m\u001b[39mlist\u001b[39m(engines)\u001b[39m}\u001b[39;00m\u001b[39m\"\u001b[39m\n\u001b[0;32m    207\u001b[0m         )\n\u001b[0;32m    208\u001b[0m     backend \u001b[39m=\u001b[39m engines[engine]\n\u001b[0;32m    209\u001b[0m \u001b[39melif\u001b[39;00m \u001b[39misinstance\u001b[39m(engine, \u001b[39mtype\u001b[39m) \u001b[39mand\u001b[39;00m \u001b[39missubclass\u001b[39m(engine, BackendEntrypoint):\n",
      "\u001b[1;31mValueError\u001b[0m: unrecognized engine pydap must be one of: ['netcdf4', 'h5netcdf', 'scipy', 'rasterio', 'store']"
     ]
    }
   ],
   "source": [
    "da = xr.open_dataset(ds, engine='pydap')"
   ]
  },
  {
   "cell_type": "code",
   "execution_count": 23,
   "metadata": {},
   "outputs": [
    {
     "ename": "HTTPError",
     "evalue": "302 Found\n<!DOCTYPE HTML PUBLIC \"-//IETF//DTD HTML 2.0//EN\">\n<html><head>\n<title>302 Found</title>\n</head><body>\n<h1>Found</h1>\n<p>The document has moved <a href=\"https://urs.earthdata.nasa.gov/oauth/authorize/?scope=uid&amp;app_type=401&amp;client_id=e2WVk8Pw6weeLUKZYOxvTQ&amp;response_type=code&amp;redirect_uri=https%3A%2F%2Fhydro1.gesdisc.eosdis.nasa.gov%2Fdata-redirect&amp;state=aHR0cHM6Ly9oeWRybzEuZ2VzZGlzYy5lb3NkaXMubmFzYS5nb3Yvb3BlbmRhcC9oeXJheC9OTERBUy9OTERBU19OT0FIMDEyNV9ILjIuMC8xOTk3LzAxMi9OTERBU19OT0FIMDEyNV9ILkExOTk3MDExMi4wNDAwLjAyMC5uYy5kb2RzP2xvbiU1QjA6MTo0NjMlNUQ\">here</a>.</p>\n</body></html>\n\nThis is redirect error. These should not usually raise an error in pydap beacuse redirects are handled implicitly. If it failed it is likely due to a circular redirect.",
     "output_type": "error",
     "traceback": [
      "\u001b[1;31m---------------------------------------------------------------------------\u001b[0m",
      "\u001b[1;31mHTTPError\u001b[0m                                 Traceback (most recent call last)",
      "\u001b[1;32mc:\\Users\\Luc\\projects\\pyagnps\\notebooks\\climate\\test_nldas_opendap.ipynb Cell 5\u001b[0m line \u001b[0;36m2\n\u001b[0;32m      <a href='vscode-notebook-cell:/c%3A/Users/Luc/projects/pyagnps/notebooks/climate/test_nldas_opendap.ipynb#W4sZmlsZQ%3D%3D?line=0'>1</a>\u001b[0m store \u001b[39m=\u001b[39m xr\u001b[39m.\u001b[39mbackends\u001b[39m.\u001b[39mPydapDataStore\u001b[39m.\u001b[39mopen(url, session\u001b[39m=\u001b[39msession)\n\u001b[1;32m----> <a href='vscode-notebook-cell:/c%3A/Users/Luc/projects/pyagnps/notebooks/climate/test_nldas_opendap.ipynb#W4sZmlsZQ%3D%3D?line=1'>2</a>\u001b[0m ds \u001b[39m=\u001b[39m xr\u001b[39m.\u001b[39;49mopen_dataset(store)\n",
      "File \u001b[1;32mc:\\Users\\Luc\\projects\\pyagnps\\.venv\\Lib\\site-packages\\xarray\\backends\\api.py:573\u001b[0m, in \u001b[0;36mopen_dataset\u001b[1;34m(filename_or_obj, engine, chunks, cache, decode_cf, mask_and_scale, decode_times, decode_timedelta, use_cftime, concat_characters, decode_coords, drop_variables, inline_array, chunked_array_type, from_array_kwargs, backend_kwargs, **kwargs)\u001b[0m\n\u001b[0;32m    561\u001b[0m decoders \u001b[39m=\u001b[39m _resolve_decoders_kwargs(\n\u001b[0;32m    562\u001b[0m     decode_cf,\n\u001b[0;32m    563\u001b[0m     open_backend_dataset_parameters\u001b[39m=\u001b[39mbackend\u001b[39m.\u001b[39mopen_dataset_parameters,\n\u001b[1;32m   (...)\u001b[0m\n\u001b[0;32m    569\u001b[0m     decode_coords\u001b[39m=\u001b[39mdecode_coords,\n\u001b[0;32m    570\u001b[0m )\n\u001b[0;32m    572\u001b[0m overwrite_encoded_chunks \u001b[39m=\u001b[39m kwargs\u001b[39m.\u001b[39mpop(\u001b[39m\"\u001b[39m\u001b[39moverwrite_encoded_chunks\u001b[39m\u001b[39m\"\u001b[39m, \u001b[39mNone\u001b[39;00m)\n\u001b[1;32m--> 573\u001b[0m backend_ds \u001b[39m=\u001b[39m backend\u001b[39m.\u001b[39;49mopen_dataset(\n\u001b[0;32m    574\u001b[0m     filename_or_obj,\n\u001b[0;32m    575\u001b[0m     drop_variables\u001b[39m=\u001b[39;49mdrop_variables,\n\u001b[0;32m    576\u001b[0m     \u001b[39m*\u001b[39;49m\u001b[39m*\u001b[39;49mdecoders,\n\u001b[0;32m    577\u001b[0m     \u001b[39m*\u001b[39;49m\u001b[39m*\u001b[39;49mkwargs,\n\u001b[0;32m    578\u001b[0m )\n\u001b[0;32m    579\u001b[0m ds \u001b[39m=\u001b[39m _dataset_from_backend_dataset(\n\u001b[0;32m    580\u001b[0m     backend_ds,\n\u001b[0;32m    581\u001b[0m     filename_or_obj,\n\u001b[1;32m   (...)\u001b[0m\n\u001b[0;32m    591\u001b[0m     \u001b[39m*\u001b[39m\u001b[39m*\u001b[39mkwargs,\n\u001b[0;32m    592\u001b[0m )\n\u001b[0;32m    593\u001b[0m \u001b[39mreturn\u001b[39;00m ds\n",
      "File \u001b[1;32mc:\\Users\\Luc\\projects\\pyagnps\\.venv\\Lib\\site-packages\\xarray\\backends\\store.py:58\u001b[0m, in \u001b[0;36mStoreBackendEntrypoint.open_dataset\u001b[1;34m(self, filename_or_obj, mask_and_scale, decode_times, concat_characters, decode_coords, drop_variables, use_cftime, decode_timedelta)\u001b[0m\n\u001b[0;32m     44\u001b[0m encoding \u001b[39m=\u001b[39m filename_or_obj\u001b[39m.\u001b[39mget_encoding()\n\u001b[0;32m     46\u001b[0m \u001b[39mvars\u001b[39m, attrs, coord_names \u001b[39m=\u001b[39m conventions\u001b[39m.\u001b[39mdecode_cf_variables(\n\u001b[0;32m     47\u001b[0m     \u001b[39mvars\u001b[39m,\n\u001b[0;32m     48\u001b[0m     attrs,\n\u001b[1;32m   (...)\u001b[0m\n\u001b[0;32m     55\u001b[0m     decode_timedelta\u001b[39m=\u001b[39mdecode_timedelta,\n\u001b[0;32m     56\u001b[0m )\n\u001b[1;32m---> 58\u001b[0m ds \u001b[39m=\u001b[39m Dataset(\u001b[39mvars\u001b[39;49m, attrs\u001b[39m=\u001b[39;49mattrs)\n\u001b[0;32m     59\u001b[0m ds \u001b[39m=\u001b[39m ds\u001b[39m.\u001b[39mset_coords(coord_names\u001b[39m.\u001b[39mintersection(\u001b[39mvars\u001b[39m))\n\u001b[0;32m     60\u001b[0m ds\u001b[39m.\u001b[39mset_close(filename_or_obj\u001b[39m.\u001b[39mclose)\n",
      "File \u001b[1;32mc:\\Users\\Luc\\projects\\pyagnps\\.venv\\Lib\\site-packages\\xarray\\core\\dataset.py:688\u001b[0m, in \u001b[0;36mDataset.__init__\u001b[1;34m(self, data_vars, coords, attrs)\u001b[0m\n\u001b[0;32m    685\u001b[0m \u001b[39mif\u001b[39;00m \u001b[39misinstance\u001b[39m(coords, Dataset):\n\u001b[0;32m    686\u001b[0m     coords \u001b[39m=\u001b[39m coords\u001b[39m.\u001b[39m_variables\n\u001b[1;32m--> 688\u001b[0m variables, coord_names, dims, indexes, _ \u001b[39m=\u001b[39m merge_data_and_coords(\n\u001b[0;32m    689\u001b[0m     data_vars, coords\n\u001b[0;32m    690\u001b[0m )\n\u001b[0;32m    692\u001b[0m \u001b[39mself\u001b[39m\u001b[39m.\u001b[39m_attrs \u001b[39m=\u001b[39m \u001b[39mdict\u001b[39m(attrs) \u001b[39mif\u001b[39;00m attrs \u001b[39mis\u001b[39;00m \u001b[39mnot\u001b[39;00m \u001b[39mNone\u001b[39;00m \u001b[39melse\u001b[39;00m \u001b[39mNone\u001b[39;00m\n\u001b[0;32m    693\u001b[0m \u001b[39mself\u001b[39m\u001b[39m.\u001b[39m_close \u001b[39m=\u001b[39m \u001b[39mNone\u001b[39;00m\n",
      "File \u001b[1;32mc:\\Users\\Luc\\projects\\pyagnps\\.venv\\Lib\\site-packages\\xarray\\core\\dataset.py:417\u001b[0m, in \u001b[0;36mmerge_data_and_coords\u001b[1;34m(data_vars, coords)\u001b[0m\n\u001b[0;32m    413\u001b[0m     coords \u001b[39m=\u001b[39m create_coords_with_default_indexes(coords, data_vars)\n\u001b[0;32m    415\u001b[0m \u001b[39m# exclude coords from alignment (all variables in a Coordinates object should\u001b[39;00m\n\u001b[0;32m    416\u001b[0m \u001b[39m# already be aligned together) and use coordinates' indexes to align data_vars\u001b[39;00m\n\u001b[1;32m--> 417\u001b[0m \u001b[39mreturn\u001b[39;00m merge_core(\n\u001b[0;32m    418\u001b[0m     [data_vars, coords],\n\u001b[0;32m    419\u001b[0m     compat\u001b[39m=\u001b[39;49m\u001b[39m\"\u001b[39;49m\u001b[39mbroadcast_equals\u001b[39;49m\u001b[39m\"\u001b[39;49m,\n\u001b[0;32m    420\u001b[0m     join\u001b[39m=\u001b[39;49m\u001b[39m\"\u001b[39;49m\u001b[39mouter\u001b[39;49m\u001b[39m\"\u001b[39;49m,\n\u001b[0;32m    421\u001b[0m     explicit_coords\u001b[39m=\u001b[39;49m\u001b[39mtuple\u001b[39;49m(coords),\n\u001b[0;32m    422\u001b[0m     indexes\u001b[39m=\u001b[39;49mcoords\u001b[39m.\u001b[39;49mxindexes,\n\u001b[0;32m    423\u001b[0m     priority_arg\u001b[39m=\u001b[39;49m\u001b[39m1\u001b[39;49m,\n\u001b[0;32m    424\u001b[0m     skip_align_args\u001b[39m=\u001b[39;49m[\u001b[39m1\u001b[39;49m],\n\u001b[0;32m    425\u001b[0m )\n",
      "File \u001b[1;32mc:\\Users\\Luc\\projects\\pyagnps\\.venv\\Lib\\site-packages\\xarray\\core\\merge.py:717\u001b[0m, in \u001b[0;36mmerge_core\u001b[1;34m(objects, compat, join, combine_attrs, priority_arg, explicit_coords, indexes, fill_value, skip_align_args)\u001b[0m\n\u001b[0;32m    714\u001b[0m \u001b[39mfor\u001b[39;00m pos, obj \u001b[39min\u001b[39;00m skip_align_objs:\n\u001b[0;32m    715\u001b[0m     aligned\u001b[39m.\u001b[39minsert(pos, obj)\n\u001b[1;32m--> 717\u001b[0m collected \u001b[39m=\u001b[39m collect_variables_and_indexes(aligned, indexes\u001b[39m=\u001b[39;49mindexes)\n\u001b[0;32m    718\u001b[0m prioritized \u001b[39m=\u001b[39m _get_priority_vars_and_indexes(aligned, priority_arg, compat\u001b[39m=\u001b[39mcompat)\n\u001b[0;32m    719\u001b[0m variables, out_indexes \u001b[39m=\u001b[39m merge_collected(\n\u001b[0;32m    720\u001b[0m     collected, prioritized, compat\u001b[39m=\u001b[39mcompat, combine_attrs\u001b[39m=\u001b[39mcombine_attrs\n\u001b[0;32m    721\u001b[0m )\n",
      "File \u001b[1;32mc:\\Users\\Luc\\projects\\pyagnps\\.venv\\Lib\\site-packages\\xarray\\core\\merge.py:358\u001b[0m, in \u001b[0;36mcollect_variables_and_indexes\u001b[1;34m(list_of_mappings, indexes)\u001b[0m\n\u001b[0;32m    355\u001b[0m     indexes_\u001b[39m.\u001b[39mpop(name, \u001b[39mNone\u001b[39;00m)\n\u001b[0;32m    356\u001b[0m     append_all(coords_, indexes_)\n\u001b[1;32m--> 358\u001b[0m variable \u001b[39m=\u001b[39m as_variable(variable, name\u001b[39m=\u001b[39;49mname)\n\u001b[0;32m    359\u001b[0m \u001b[39mif\u001b[39;00m name \u001b[39min\u001b[39;00m indexes:\n\u001b[0;32m    360\u001b[0m     append(name, variable, indexes[name])\n",
      "File \u001b[1;32mc:\\Users\\Luc\\projects\\pyagnps\\.venv\\Lib\\site-packages\\xarray\\core\\variable.py:162\u001b[0m, in \u001b[0;36mas_variable\u001b[1;34m(obj, name)\u001b[0m\n\u001b[0;32m    155\u001b[0m     \u001b[39mraise\u001b[39;00m \u001b[39mTypeError\u001b[39;00m(\n\u001b[0;32m    156\u001b[0m         \u001b[39mf\u001b[39m\u001b[39m\"\u001b[39m\u001b[39mVariable \u001b[39m\u001b[39m{\u001b[39;00mname\u001b[39m!r}\u001b[39;00m\u001b[39m: unable to convert object into a variable without an \u001b[39m\u001b[39m\"\u001b[39m\n\u001b[0;32m    157\u001b[0m         \u001b[39mf\u001b[39m\u001b[39m\"\u001b[39m\u001b[39mexplicit list of dimensions: \u001b[39m\u001b[39m{\u001b[39;00mobj\u001b[39m!r}\u001b[39;00m\u001b[39m\"\u001b[39m\n\u001b[0;32m    158\u001b[0m     )\n\u001b[0;32m    160\u001b[0m \u001b[39mif\u001b[39;00m name \u001b[39mis\u001b[39;00m \u001b[39mnot\u001b[39;00m \u001b[39mNone\u001b[39;00m \u001b[39mand\u001b[39;00m name \u001b[39min\u001b[39;00m obj\u001b[39m.\u001b[39mdims \u001b[39mand\u001b[39;00m obj\u001b[39m.\u001b[39mndim \u001b[39m==\u001b[39m \u001b[39m1\u001b[39m:\n\u001b[0;32m    161\u001b[0m     \u001b[39m# automatically convert the Variable into an Index\u001b[39;00m\n\u001b[1;32m--> 162\u001b[0m     obj \u001b[39m=\u001b[39m obj\u001b[39m.\u001b[39;49mto_index_variable()\n\u001b[0;32m    164\u001b[0m \u001b[39mreturn\u001b[39;00m obj\n",
      "File \u001b[1;32mc:\\Users\\Luc\\projects\\pyagnps\\.venv\\Lib\\site-packages\\xarray\\core\\variable.py:632\u001b[0m, in \u001b[0;36mVariable.to_index_variable\u001b[1;34m(self)\u001b[0m\n\u001b[0;32m    630\u001b[0m \u001b[39mdef\u001b[39;00m \u001b[39mto_index_variable\u001b[39m(\u001b[39mself\u001b[39m) \u001b[39m-\u001b[39m\u001b[39m>\u001b[39m IndexVariable:\n\u001b[0;32m    631\u001b[0m \u001b[39m    \u001b[39m\u001b[39m\"\"\"Return this variable as an xarray.IndexVariable\"\"\"\u001b[39;00m\n\u001b[1;32m--> 632\u001b[0m     \u001b[39mreturn\u001b[39;00m IndexVariable(\n\u001b[0;32m    633\u001b[0m         \u001b[39mself\u001b[39;49m\u001b[39m.\u001b[39;49m_dims, \u001b[39mself\u001b[39;49m\u001b[39m.\u001b[39;49m_data, \u001b[39mself\u001b[39;49m\u001b[39m.\u001b[39;49m_attrs, encoding\u001b[39m=\u001b[39;49m\u001b[39mself\u001b[39;49m\u001b[39m.\u001b[39;49m_encoding, fastpath\u001b[39m=\u001b[39;49m\u001b[39mTrue\u001b[39;49;00m\n\u001b[0;32m    634\u001b[0m     )\n",
      "File \u001b[1;32mc:\\Users\\Luc\\projects\\pyagnps\\.venv\\Lib\\site-packages\\xarray\\core\\variable.py:2903\u001b[0m, in \u001b[0;36mIndexVariable.__init__\u001b[1;34m(self, dims, data, attrs, encoding, fastpath)\u001b[0m\n\u001b[0;32m   2901\u001b[0m \u001b[39m# Unlike in Variable, always eagerly load values into memory\u001b[39;00m\n\u001b[0;32m   2902\u001b[0m \u001b[39mif\u001b[39;00m \u001b[39mnot\u001b[39;00m \u001b[39misinstance\u001b[39m(\u001b[39mself\u001b[39m\u001b[39m.\u001b[39m_data, PandasIndexingAdapter):\n\u001b[1;32m-> 2903\u001b[0m     \u001b[39mself\u001b[39m\u001b[39m.\u001b[39m_data \u001b[39m=\u001b[39m PandasIndexingAdapter(\u001b[39mself\u001b[39;49m\u001b[39m.\u001b[39;49m_data)\n",
      "File \u001b[1;32mc:\\Users\\Luc\\projects\\pyagnps\\.venv\\Lib\\site-packages\\xarray\\core\\indexing.py:1481\u001b[0m, in \u001b[0;36mPandasIndexingAdapter.__init__\u001b[1;34m(self, array, dtype)\u001b[0m\n\u001b[0;32m   1478\u001b[0m \u001b[39mdef\u001b[39;00m \u001b[39m__init__\u001b[39m(\u001b[39mself\u001b[39m, array: pd\u001b[39m.\u001b[39mIndex, dtype: DTypeLike \u001b[39m=\u001b[39m \u001b[39mNone\u001b[39;00m):\n\u001b[0;32m   1479\u001b[0m     \u001b[39mfrom\u001b[39;00m \u001b[39mxarray\u001b[39;00m\u001b[39m.\u001b[39;00m\u001b[39mcore\u001b[39;00m\u001b[39m.\u001b[39;00m\u001b[39mindexes\u001b[39;00m \u001b[39mimport\u001b[39;00m safe_cast_to_index\n\u001b[1;32m-> 1481\u001b[0m     \u001b[39mself\u001b[39m\u001b[39m.\u001b[39marray \u001b[39m=\u001b[39m safe_cast_to_index(array)\n\u001b[0;32m   1483\u001b[0m     \u001b[39mif\u001b[39;00m dtype \u001b[39mis\u001b[39;00m \u001b[39mNone\u001b[39;00m:\n\u001b[0;32m   1484\u001b[0m         \u001b[39mself\u001b[39m\u001b[39m.\u001b[39m_dtype \u001b[39m=\u001b[39m get_valid_numpy_dtype(array)\n",
      "File \u001b[1;32mc:\\Users\\Luc\\projects\\pyagnps\\.venv\\Lib\\site-packages\\xarray\\core\\indexes.py:469\u001b[0m, in \u001b[0;36msafe_cast_to_index\u001b[1;34m(array)\u001b[0m\n\u001b[0;32m    459\u001b[0m             emit_user_level_warning(\n\u001b[0;32m    460\u001b[0m                 (\n\u001b[0;32m    461\u001b[0m                     \u001b[39m\"\u001b[39m\u001b[39m`pandas.Index` does not support the `float16` dtype.\u001b[39m\u001b[39m\"\u001b[39m\n\u001b[1;32m   (...)\u001b[0m\n\u001b[0;32m    465\u001b[0m                 category\u001b[39m=\u001b[39m\u001b[39mDeprecationWarning\u001b[39;00m,\n\u001b[0;32m    466\u001b[0m             )\n\u001b[0;32m    467\u001b[0m             kwargs[\u001b[39m\"\u001b[39m\u001b[39mdtype\u001b[39m\u001b[39m\"\u001b[39m] \u001b[39m=\u001b[39m \u001b[39m\"\u001b[39m\u001b[39mfloat64\u001b[39m\u001b[39m\"\u001b[39m\n\u001b[1;32m--> 469\u001b[0m     index \u001b[39m=\u001b[39m pd\u001b[39m.\u001b[39mIndex(np\u001b[39m.\u001b[39;49masarray(array), \u001b[39m*\u001b[39m\u001b[39m*\u001b[39mkwargs)\n\u001b[0;32m    471\u001b[0m \u001b[39mreturn\u001b[39;00m _maybe_cast_to_cftimeindex(index)\n",
      "File \u001b[1;32mc:\\Users\\Luc\\projects\\pyagnps\\.venv\\Lib\\site-packages\\xarray\\core\\indexing.py:474\u001b[0m, in \u001b[0;36mExplicitlyIndexedNDArrayMixin.__array__\u001b[1;34m(self, dtype)\u001b[0m\n\u001b[0;32m    471\u001b[0m \u001b[39mdef\u001b[39;00m \u001b[39m__array__\u001b[39m(\u001b[39mself\u001b[39m, dtype: np\u001b[39m.\u001b[39mtyping\u001b[39m.\u001b[39mDTypeLike \u001b[39m=\u001b[39m \u001b[39mNone\u001b[39;00m) \u001b[39m-\u001b[39m\u001b[39m>\u001b[39m np\u001b[39m.\u001b[39mndarray:\n\u001b[0;32m    472\u001b[0m     \u001b[39m# This is necessary because we apply the indexing key in self.get_duck_array()\u001b[39;00m\n\u001b[0;32m    473\u001b[0m     \u001b[39m# Note this is the base class for all lazy indexing classes\u001b[39;00m\n\u001b[1;32m--> 474\u001b[0m     \u001b[39mreturn\u001b[39;00m np\u001b[39m.\u001b[39masarray(\u001b[39mself\u001b[39;49m\u001b[39m.\u001b[39;49mget_duck_array(), dtype\u001b[39m=\u001b[39mdtype)\n",
      "File \u001b[1;32mc:\\Users\\Luc\\projects\\pyagnps\\.venv\\Lib\\site-packages\\xarray\\core\\indexing.py:560\u001b[0m, in \u001b[0;36mLazilyIndexedArray.get_duck_array\u001b[1;34m(self)\u001b[0m\n\u001b[0;32m    555\u001b[0m \u001b[39m# self.array[self.key] is now a numpy array when\u001b[39;00m\n\u001b[0;32m    556\u001b[0m \u001b[39m# self.array is a BackendArray subclass\u001b[39;00m\n\u001b[0;32m    557\u001b[0m \u001b[39m# and self.key is BasicIndexer((slice(None, None, None),))\u001b[39;00m\n\u001b[0;32m    558\u001b[0m \u001b[39m# so we need the explicit check for ExplicitlyIndexed\u001b[39;00m\n\u001b[0;32m    559\u001b[0m \u001b[39mif\u001b[39;00m \u001b[39misinstance\u001b[39m(array, ExplicitlyIndexed):\n\u001b[1;32m--> 560\u001b[0m     array \u001b[39m=\u001b[39m array\u001b[39m.\u001b[39;49mget_duck_array()\n\u001b[0;32m    561\u001b[0m \u001b[39mreturn\u001b[39;00m _wrap_numpy_scalars(array)\n",
      "File \u001b[1;32mc:\\Users\\Luc\\projects\\pyagnps\\.venv\\Lib\\site-packages\\xarray\\coding\\variables.py:74\u001b[0m, in \u001b[0;36m_ElementwiseFunctionArray.get_duck_array\u001b[1;34m(self)\u001b[0m\n\u001b[0;32m     73\u001b[0m \u001b[39mdef\u001b[39;00m \u001b[39mget_duck_array\u001b[39m(\u001b[39mself\u001b[39m):\n\u001b[1;32m---> 74\u001b[0m     \u001b[39mreturn\u001b[39;00m \u001b[39mself\u001b[39m\u001b[39m.\u001b[39mfunc(\u001b[39mself\u001b[39;49m\u001b[39m.\u001b[39;49marray\u001b[39m.\u001b[39;49mget_duck_array())\n",
      "File \u001b[1;32mc:\\Users\\Luc\\projects\\pyagnps\\.venv\\Lib\\site-packages\\xarray\\coding\\variables.py:74\u001b[0m, in \u001b[0;36m_ElementwiseFunctionArray.get_duck_array\u001b[1;34m(self)\u001b[0m\n\u001b[0;32m     73\u001b[0m \u001b[39mdef\u001b[39;00m \u001b[39mget_duck_array\u001b[39m(\u001b[39mself\u001b[39m):\n\u001b[1;32m---> 74\u001b[0m     \u001b[39mreturn\u001b[39;00m \u001b[39mself\u001b[39m\u001b[39m.\u001b[39mfunc(\u001b[39mself\u001b[39;49m\u001b[39m.\u001b[39;49marray\u001b[39m.\u001b[39;49mget_duck_array())\n",
      "File \u001b[1;32mc:\\Users\\Luc\\projects\\pyagnps\\.venv\\Lib\\site-packages\\xarray\\core\\indexing.py:554\u001b[0m, in \u001b[0;36mLazilyIndexedArray.get_duck_array\u001b[1;34m(self)\u001b[0m\n\u001b[0;32m    553\u001b[0m \u001b[39mdef\u001b[39;00m \u001b[39mget_duck_array\u001b[39m(\u001b[39mself\u001b[39m):\n\u001b[1;32m--> 554\u001b[0m     array \u001b[39m=\u001b[39m \u001b[39mself\u001b[39;49m\u001b[39m.\u001b[39;49marray[\u001b[39mself\u001b[39;49m\u001b[39m.\u001b[39;49mkey]\n\u001b[0;32m    555\u001b[0m     \u001b[39m# self.array[self.key] is now a numpy array when\u001b[39;00m\n\u001b[0;32m    556\u001b[0m     \u001b[39m# self.array is a BackendArray subclass\u001b[39;00m\n\u001b[0;32m    557\u001b[0m     \u001b[39m# and self.key is BasicIndexer((slice(None, None, None),))\u001b[39;00m\n\u001b[0;32m    558\u001b[0m     \u001b[39m# so we need the explicit check for ExplicitlyIndexed\u001b[39;00m\n\u001b[0;32m    559\u001b[0m     \u001b[39mif\u001b[39;00m \u001b[39misinstance\u001b[39m(array, ExplicitlyIndexed):\n",
      "File \u001b[1;32mc:\\Users\\Luc\\projects\\pyagnps\\.venv\\Lib\\site-packages\\xarray\\backends\\pydap_.py:47\u001b[0m, in \u001b[0;36mPydapArrayWrapper.__getitem__\u001b[1;34m(self, key)\u001b[0m\n\u001b[0;32m     46\u001b[0m \u001b[39mdef\u001b[39;00m \u001b[39m__getitem__\u001b[39m(\u001b[39mself\u001b[39m, key):\n\u001b[1;32m---> 47\u001b[0m     \u001b[39mreturn\u001b[39;00m indexing\u001b[39m.\u001b[39;49mexplicit_indexing_adapter(\n\u001b[0;32m     48\u001b[0m         key, \u001b[39mself\u001b[39;49m\u001b[39m.\u001b[39;49mshape, indexing\u001b[39m.\u001b[39;49mIndexingSupport\u001b[39m.\u001b[39;49mBASIC, \u001b[39mself\u001b[39;49m\u001b[39m.\u001b[39;49m_getitem\n\u001b[0;32m     49\u001b[0m     )\n",
      "File \u001b[1;32mc:\\Users\\Luc\\projects\\pyagnps\\.venv\\Lib\\site-packages\\xarray\\core\\indexing.py:861\u001b[0m, in \u001b[0;36mexplicit_indexing_adapter\u001b[1;34m(key, shape, indexing_support, raw_indexing_method)\u001b[0m\n\u001b[0;32m    839\u001b[0m \u001b[39m\u001b[39m\u001b[39m\"\"\"Support explicit indexing by delegating to a raw indexing method.\u001b[39;00m\n\u001b[0;32m    840\u001b[0m \n\u001b[0;32m    841\u001b[0m \u001b[39mOuter and/or vectorized indexers are supported by indexing a second time\u001b[39;00m\n\u001b[1;32m   (...)\u001b[0m\n\u001b[0;32m    858\u001b[0m \u001b[39mIndexing result, in the form of a duck numpy-array.\u001b[39;00m\n\u001b[0;32m    859\u001b[0m \u001b[39m\"\"\"\u001b[39;00m\n\u001b[0;32m    860\u001b[0m raw_key, numpy_indices \u001b[39m=\u001b[39m decompose_indexer(key, shape, indexing_support)\n\u001b[1;32m--> 861\u001b[0m result \u001b[39m=\u001b[39m raw_indexing_method(raw_key\u001b[39m.\u001b[39;49mtuple)\n\u001b[0;32m    862\u001b[0m \u001b[39mif\u001b[39;00m numpy_indices\u001b[39m.\u001b[39mtuple:\n\u001b[0;32m    863\u001b[0m     \u001b[39m# index the loaded np.ndarray\u001b[39;00m\n\u001b[0;32m    864\u001b[0m     result \u001b[39m=\u001b[39m NumpyIndexingAdapter(result)[numpy_indices]\n",
      "File \u001b[1;32mc:\\Users\\Luc\\projects\\pyagnps\\.venv\\Lib\\site-packages\\xarray\\backends\\pydap_.py:55\u001b[0m, in \u001b[0;36mPydapArrayWrapper._getitem\u001b[1;34m(self, key)\u001b[0m\n\u001b[0;32m     51\u001b[0m \u001b[39mdef\u001b[39;00m \u001b[39m_getitem\u001b[39m(\u001b[39mself\u001b[39m, key):\n\u001b[0;32m     52\u001b[0m     \u001b[39m# pull the data from the array attribute if possible, to avoid\u001b[39;00m\n\u001b[0;32m     53\u001b[0m     \u001b[39m# downloading coordinate data twice\u001b[39;00m\n\u001b[0;32m     54\u001b[0m     array \u001b[39m=\u001b[39m \u001b[39mgetattr\u001b[39m(\u001b[39mself\u001b[39m\u001b[39m.\u001b[39marray, \u001b[39m\"\u001b[39m\u001b[39marray\u001b[39m\u001b[39m\"\u001b[39m, \u001b[39mself\u001b[39m\u001b[39m.\u001b[39marray)\n\u001b[1;32m---> 55\u001b[0m     result \u001b[39m=\u001b[39m robust_getitem(array, key, catch\u001b[39m=\u001b[39;49m\u001b[39mValueError\u001b[39;49;00m)\n\u001b[0;32m     56\u001b[0m     result \u001b[39m=\u001b[39m np\u001b[39m.\u001b[39masarray(result)\n\u001b[0;32m     57\u001b[0m     \u001b[39m# in some cases, pydap doesn't squeeze axes automatically like numpy\u001b[39;00m\n",
      "File \u001b[1;32mc:\\Users\\Luc\\projects\\pyagnps\\.venv\\Lib\\site-packages\\xarray\\backends\\common.py:151\u001b[0m, in \u001b[0;36mrobust_getitem\u001b[1;34m(array, key, catch, max_retries, initial_delay)\u001b[0m\n\u001b[0;32m    149\u001b[0m \u001b[39mfor\u001b[39;00m n \u001b[39min\u001b[39;00m \u001b[39mrange\u001b[39m(max_retries \u001b[39m+\u001b[39m \u001b[39m1\u001b[39m):\n\u001b[0;32m    150\u001b[0m     \u001b[39mtry\u001b[39;00m:\n\u001b[1;32m--> 151\u001b[0m         \u001b[39mreturn\u001b[39;00m array[key]\n\u001b[0;32m    152\u001b[0m     \u001b[39mexcept\u001b[39;00m catch:\n\u001b[0;32m    153\u001b[0m         \u001b[39mif\u001b[39;00m n \u001b[39m==\u001b[39m max_retries:\n",
      "File \u001b[1;32mc:\\Users\\Luc\\projects\\pyagnps\\.venv\\Lib\\site-packages\\pydap\\model.py:324\u001b[0m, in \u001b[0;36mBaseType.__getitem__\u001b[1;34m(self, index)\u001b[0m\n\u001b[0;32m    322\u001b[0m \u001b[39mdef\u001b[39;00m \u001b[39m__getitem__\u001b[39m(\u001b[39mself\u001b[39m, index):\n\u001b[0;32m    323\u001b[0m     out \u001b[39m=\u001b[39m copy\u001b[39m.\u001b[39mcopy(\u001b[39mself\u001b[39m)\n\u001b[1;32m--> 324\u001b[0m     out\u001b[39m.\u001b[39mdata \u001b[39m=\u001b[39m \u001b[39mself\u001b[39;49m\u001b[39m.\u001b[39;49m_get_data_index(index)\n\u001b[0;32m    325\u001b[0m     \u001b[39mif\u001b[39;00m \u001b[39mtype\u001b[39m(\u001b[39mself\u001b[39m\u001b[39m.\u001b[39mdata)\u001b[39m.\u001b[39m\u001b[39m__name__\u001b[39m \u001b[39m==\u001b[39m \u001b[39m'\u001b[39m\u001b[39mBaseProxyDap4\u001b[39m\u001b[39m'\u001b[39m:\n\u001b[0;32m    326\u001b[0m         out\u001b[39m.\u001b[39mattributes[\u001b[39m'\u001b[39m\u001b[39mchecksum\u001b[39m\u001b[39m'\u001b[39m] \u001b[39m=\u001b[39m \u001b[39mself\u001b[39m\u001b[39m.\u001b[39mdata\u001b[39m.\u001b[39mchecksum\n",
      "File \u001b[1;32mc:\\Users\\Luc\\projects\\pyagnps\\.venv\\Lib\\site-packages\\pydap\\model.py:355\u001b[0m, in \u001b[0;36mBaseType._get_data_index\u001b[1;34m(self, index)\u001b[0m\n\u001b[0;32m    353\u001b[0m     \u001b[39mreturn\u001b[39;00m np\u001b[39m.\u001b[39mvectorize(decode_np_strings)(\u001b[39mself\u001b[39m\u001b[39m.\u001b[39m_data[index])\n\u001b[0;32m    354\u001b[0m \u001b[39melse\u001b[39;00m:\n\u001b[1;32m--> 355\u001b[0m     \u001b[39mreturn\u001b[39;00m \u001b[39mself\u001b[39;49m\u001b[39m.\u001b[39;49m_data[index]\n",
      "File \u001b[1;32mc:\\Users\\Luc\\projects\\pyagnps\\.venv\\Lib\\site-packages\\pydap\\handlers\\dap.py:253\u001b[0m, in \u001b[0;36mBaseProxyDap2.__getitem__\u001b[1;34m(self, index)\u001b[0m\n\u001b[0;32m    250\u001b[0m logger\u001b[39m.\u001b[39minfo(\u001b[39m\"\u001b[39m\u001b[39mFetching URL: \u001b[39m\u001b[39m%s\u001b[39;00m\u001b[39m\"\u001b[39m \u001b[39m%\u001b[39m url)\n\u001b[0;32m    251\u001b[0m r \u001b[39m=\u001b[39m pydap\u001b[39m.\u001b[39mnet\u001b[39m.\u001b[39mGET(url, \u001b[39mself\u001b[39m\u001b[39m.\u001b[39mapplication, \u001b[39mself\u001b[39m\u001b[39m.\u001b[39msession, timeout\u001b[39m=\u001b[39m\u001b[39mself\u001b[39m\u001b[39m.\u001b[39mtimeout, verify\u001b[39m=\u001b[39m\u001b[39mself\u001b[39m\u001b[39m.\u001b[39mverify)\n\u001b[1;32m--> 253\u001b[0m pydap\u001b[39m.\u001b[39;49mnet\u001b[39m.\u001b[39;49mraise_for_status(r)\n\u001b[0;32m    254\u001b[0m dds, data \u001b[39m=\u001b[39m safe_dds_and_data(r, \u001b[39mself\u001b[39m\u001b[39m.\u001b[39muser_charset)\n\u001b[0;32m    256\u001b[0m \u001b[39m# Parse received dataset:\u001b[39;00m\n",
      "File \u001b[1;32mc:\\Users\\Luc\\projects\\pyagnps\\.venv\\Lib\\site-packages\\pydap\\net.py:52\u001b[0m, in \u001b[0;36mraise_for_status\u001b[1;34m(response)\u001b[0m\n\u001b[0;32m     46\u001b[0m \u001b[39mexcept\u001b[39;00m \u001b[39mAttributeError\u001b[39;00m:\n\u001b[0;32m     47\u001b[0m     \u001b[39m# With this status_code, response.text could\u001b[39;00m\n\u001b[0;32m     48\u001b[0m     \u001b[39m# be ill-defined. If the redirect does not set\u001b[39;00m\n\u001b[0;32m     49\u001b[0m     \u001b[39m# an encoding (i.e. response.charset is None).\u001b[39;00m\n\u001b[0;32m     50\u001b[0m     \u001b[39m# Set the text to empty string:\u001b[39;00m\n\u001b[0;32m     51\u001b[0m     text \u001b[39m=\u001b[39m \u001b[39m'\u001b[39m\u001b[39m'\u001b[39m\n\u001b[1;32m---> 52\u001b[0m \u001b[39mraise\u001b[39;00m HTTPError(\n\u001b[0;32m     53\u001b[0m     detail\u001b[39m=\u001b[39m(response\u001b[39m.\u001b[39mstatus \u001b[39m+\u001b[39m \u001b[39m'\u001b[39m\u001b[39m\\n\u001b[39;00m\u001b[39m'\u001b[39m \u001b[39m+\u001b[39m text \u001b[39m+\u001b[39m \u001b[39m'\u001b[39m\u001b[39m\\n\u001b[39;00m\u001b[39m'\u001b[39m \u001b[39m+\u001b[39m\n\u001b[0;32m     54\u001b[0m             \u001b[39m'\u001b[39m\u001b[39mThis is redirect error. These should not usually raise \u001b[39m\u001b[39m'\u001b[39m \u001b[39m+\u001b[39m\n\u001b[0;32m     55\u001b[0m             \u001b[39m'\u001b[39m\u001b[39man error in pydap beacuse redirects are handled \u001b[39m\u001b[39m'\u001b[39m \u001b[39m+\u001b[39m\n\u001b[0;32m     56\u001b[0m             \u001b[39m'\u001b[39m\u001b[39mimplicitly. If it failed it is likely due to a \u001b[39m\u001b[39m'\u001b[39m \u001b[39m+\u001b[39m\n\u001b[0;32m     57\u001b[0m             \u001b[39m'\u001b[39m\u001b[39mcircular redirect.\u001b[39m\u001b[39m'\u001b[39m),\n\u001b[0;32m     58\u001b[0m     headers\u001b[39m=\u001b[39mresponse\u001b[39m.\u001b[39mheaders,\n\u001b[0;32m     59\u001b[0m     comment\u001b[39m=\u001b[39mresponse\u001b[39m.\u001b[39mbody)\n",
      "\u001b[1;31mHTTPError\u001b[0m: 302 Found\n<!DOCTYPE HTML PUBLIC \"-//IETF//DTD HTML 2.0//EN\">\n<html><head>\n<title>302 Found</title>\n</head><body>\n<h1>Found</h1>\n<p>The document has moved <a href=\"https://urs.earthdata.nasa.gov/oauth/authorize/?scope=uid&amp;app_type=401&amp;client_id=e2WVk8Pw6weeLUKZYOxvTQ&amp;response_type=code&amp;redirect_uri=https%3A%2F%2Fhydro1.gesdisc.eosdis.nasa.gov%2Fdata-redirect&amp;state=aHR0cHM6Ly9oeWRybzEuZ2VzZGlzYy5lb3NkaXMubmFzYS5nb3Yvb3BlbmRhcC9oeXJheC9OTERBUy9OTERBU19OT0FIMDEyNV9ILjIuMC8xOTk3LzAxMi9OTERBU19OT0FIMDEyNV9ILkExOTk3MDExMi4wNDAwLjAyMC5uYy5kb2RzP2xvbiU1QjA6MTo0NjMlNUQ\">here</a>.</p>\n</body></html>\n\nThis is redirect error. These should not usually raise an error in pydap beacuse redirects are handled implicitly. If it failed it is likely due to a circular redirect."
     ]
    }
   ],
   "source": [
    "store = xr.backends.PydapDataStore.open(url, session=session)\n",
    "ds = xr.open_dataset(store)"
   ]
  }
 ],
 "metadata": {
  "kernelspec": {
   "display_name": ".venv",
   "language": "python",
   "name": "python3"
  },
  "language_info": {
   "codemirror_mode": {
    "name": "ipython",
    "version": 3
   },
   "file_extension": ".py",
   "mimetype": "text/x-python",
   "name": "python",
   "nbconvert_exporter": "python",
   "pygments_lexer": "ipython3",
   "version": "3.11.4"
  }
 },
 "nbformat": 4,
 "nbformat_minor": 2
}
