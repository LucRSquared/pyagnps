{
 "cells": [
  {
   "cell_type": "markdown",
   "metadata": {},
   "source": [
    "# TopAGNPS watershed delineation quality control\n",
    "\n",
    "- After TopAGNPS has delineated a watershed, the final result is checked for quality control:\n",
    "    - Cells coverage vs. initial THUC boundary\n",
    "    - Check if delineation reached the edge of the DEM"
   ]
  },
  {
   "cell_type": "code",
   "execution_count": 14,
   "metadata": {},
   "outputs": [],
   "source": [
    "import json\n",
    "import geopandas as gpd\n",
    "\n",
    "from pyagnps import topagnps, utils\n",
    "from pyagnps.utils import log_to_file"
   ]
  },
  {
   "cell_type": "markdown",
   "metadata": {},
   "source": [
    "## Paths to TopAGNPS runs and THUC shapefile"
   ]
  },
  {
   "cell_type": "code",
   "execution_count": 12,
   "metadata": {},
   "outputs": [],
   "source": [
    "path_to_thucs = 'C:/Users/Luc/projects/pyagnps/inputs/thucs/tophuc_S_40000.gpkg'\n",
    "\n",
    "CSA = 10 # Critical Source Area in ha\n",
    "MSCL = 250 # Minimum Stream Channel Length in m\n",
    "RESOLUTION = 30 # Resolution of the DEM in m\n",
    "BUFFER = 500 # Buffer around the thuc in m\n",
    "\n",
    "path_to_TOPAGNPS_bin = '/aims-nas/luc/bins/TopAGNPS_v6.00.b.026_release_64-bit_Linux' # absolute or with respect to a sub directory in path_to_dir\n",
    "path_to_thucs = '/aims-nas/luc/data/tophuc_S_M_40000_closed_holes_with_container_thuc_merged_bbox_area_first_kept.gpkg'\n",
    "root_dir = '/aims-nas/luc/thuc_runs_40k_SM/'\n",
    "dir_runs_name = f'40000_SM_res_{RESOLUTION}_csa_{CSA}_mscl_{MSCL}_buff_{BUFFER}' # Name of the directory where the runs will be stored\n",
    "\n",
    "thuc_dir_path = f'{root_dir}/{dir_runs_name}/'\n",
    "thucid_dir_name = f'thuc_{thuc_id}_{dir_runs_name}'\n",
    "thuc_topagnps_path = f'{thuc_dir_path}/{thucid_dir_name}'\n",
    "\n",
    "path_to_qc_dir = f'{root_dir}/QualityControl/{dir_runs_name}'\n",
    "\n",
    "thucs = gpd.read_file(path_to_thucs)"
   ]
  },
  {
   "cell_type": "code",
   "execution_count": 3,
   "metadata": {},
   "outputs": [
    {
     "data": {
      "text/html": [
       "<div>\n",
       "<style scoped>\n",
       "    .dataframe tbody tr th:only-of-type {\n",
       "        vertical-align: middle;\n",
       "    }\n",
       "\n",
       "    .dataframe tbody tr th {\n",
       "        vertical-align: top;\n",
       "    }\n",
       "\n",
       "    .dataframe thead th {\n",
       "        text-align: right;\n",
       "    }\n",
       "</style>\n",
       "<table border=\"1\" class=\"dataframe\">\n",
       "  <thead>\n",
       "    <tr style=\"text-align: right;\">\n",
       "      <th></th>\n",
       "      <th>tophucid</th>\n",
       "      <th>drainage_area_sqkm</th>\n",
       "      <th>outlethuc12</th>\n",
       "      <th>outlethuc12_hutype</th>\n",
       "      <th>receivinghuc12</th>\n",
       "      <th>contained_hucs</th>\n",
       "      <th>num_contained_hucs</th>\n",
       "      <th>foreign_inflows</th>\n",
       "      <th>num_foreign_inflows</th>\n",
       "      <th>tophucid_bbox_container</th>\n",
       "      <th>totophuc</th>\n",
       "      <th>bbox_area_sqkm</th>\n",
       "      <th>geometry</th>\n",
       "    </tr>\n",
       "  </thead>\n",
       "  <tbody>\n",
       "    <tr>\n",
       "      <th>4203</th>\n",
       "      <td>4209</td>\n",
       "      <td>34193.84</td>\n",
       "      <td>190303031108</td>\n",
       "      <td>S</td>\n",
       "      <td>190303060803</td>\n",
       "      <td>190303010107,190303011601,190303030104,1903030...</td>\n",
       "      <td>303</td>\n",
       "      <td>190303011505</td>\n",
       "      <td>1</td>\n",
       "      <td>None</td>\n",
       "      <td>OUTSIDE</td>\n",
       "      <td>82027.339141</td>\n",
       "      <td>POLYGON ((-158.11651 58.75992, -158.11674 58.7...</td>\n",
       "    </tr>\n",
       "  </tbody>\n",
       "</table>\n",
       "</div>"
      ],
      "text/plain": [
       "     tophucid  drainage_area_sqkm   outlethuc12 outlethuc12_hutype  \\\n",
       "4203     4209            34193.84  190303031108                  S   \n",
       "\n",
       "     receivinghuc12                                     contained_hucs  \\\n",
       "4203   190303060803  190303010107,190303011601,190303030104,1903030...   \n",
       "\n",
       "      num_contained_hucs foreign_inflows  num_foreign_inflows  \\\n",
       "4203                 303    190303011505                    1   \n",
       "\n",
       "     tophucid_bbox_container totophuc  bbox_area_sqkm  \\\n",
       "4203                    None  OUTSIDE    82027.339141   \n",
       "\n",
       "                                               geometry  \n",
       "4203  POLYGON ((-158.11651 58.75992, -158.11674 58.7...  "
      ]
     },
     "execution_count": 3,
     "metadata": {},
     "output_type": "execute_result"
    }
   ],
   "source": [
    "thuc_id = '4209'\n",
    "\n",
    "thuc_select = thucs[thucs['tophucid']==thuc_id]\n",
    "thuc_select"
   ]
  },
  {
   "cell_type": "markdown",
   "metadata": {},
   "source": [
    "## Specification of the folder containing the TopAGNPS delineations and the name of the delineation run"
   ]
  },
  {
   "cell_type": "code",
   "execution_count": 4,
   "metadata": {},
   "outputs": [],
   "source": [
    "path_to_cell_IDs_asc = f'{thuc_topagnps_path}/AnnAGNPS_Cell_IDs.asc'\n",
    "\n",
    "path_to_topagnps_wrn = f'{thuc_topagnps_path}/TopAGNPS_wrn.CSV'"
   ]
  },
  {
   "cell_type": "code",
   "execution_count": 5,
   "metadata": {},
   "outputs": [],
   "source": [
    "results = topagnps.quality_control_areas_vs_boundary(path_to_cell_IDs_asc, thuc_select)"
   ]
  },
  {
   "cell_type": "code",
   "execution_count": 7,
   "metadata": {},
   "outputs": [],
   "source": [
    "touch_edges = topagnps.check_topagnps_wrn_log(path_to_topagnps_wrn)\n",
    "results['touching_edges'] = touch_edges"
   ]
  },
  {
   "cell_type": "code",
   "execution_count": 8,
   "metadata": {},
   "outputs": [
    {
     "data": {
      "text/plain": [
       "{'total_cells_area_sqm': 35095540236.724976,\n",
       " 'total_boundary_area_sqm': 31535840576.78877,\n",
       " 'cells_missed_area_sqm': 209237441.6908982,\n",
       " 'beyond_boundary_cells_area_sqm': 3768937101.626805,\n",
       " 'intersection_area_sqm': 31326603135.097797,\n",
       " 'fraction_boundary_covered': 0.9933650907074608,\n",
       " 'fraction_boundary_missed': 0.006634909292539182,\n",
       " 'touching_edges': []}"
      ]
     },
     "execution_count": 8,
     "metadata": {},
     "output_type": "execute_result"
    }
   ],
   "source": [
    "results"
   ]
  },
  {
   "cell_type": "code",
   "execution_count": 15,
   "metadata": {},
   "outputs": [],
   "source": [
    "log_to_file(f'{path_to_qc_dir}/{thuc_id}_res_{RESOLUTION}_csa_{CSA}_mscl_{MSCL}.json', json.dumps(results, indent=2))"
   ]
  }
 ],
 "metadata": {
  "kernelspec": {
   "display_name": "venv",
   "language": "python",
   "name": "python3"
  },
  "language_info": {
   "codemirror_mode": {
    "name": "ipython",
    "version": 3
   },
   "file_extension": ".py",
   "mimetype": "text/x-python",
   "name": "python",
   "nbconvert_exporter": "python",
   "pygments_lexer": "ipython3",
   "version": "3.11.2"
  },
  "orig_nbformat": 4,
  "vscode": {
   "interpreter": {
    "hash": "6e381e352425f7be97697f5d6bbee721555cfa223544665c5e374719179fed50"
   }
  }
 },
 "nbformat": 4,
 "nbformat_minor": 2
}
