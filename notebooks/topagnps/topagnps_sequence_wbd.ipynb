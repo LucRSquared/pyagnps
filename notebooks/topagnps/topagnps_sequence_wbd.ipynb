{
 "cells": [
  {
   "cell_type": "markdown",
   "metadata": {},
   "source": [
    "# TopAGNPS run sequence\n",
    "\n",
    "- This notebook executes the commands to:\n",
    "    - Run the preprocessing step of TopAGNPS from presribed boundary\n",
    "    - Identify the outlet\n",
    "    - Finish the computation"
   ]
  },
  {
   "cell_type": "code",
   "execution_count": 1,
   "metadata": {},
   "outputs": [],
   "source": [
    "# import os\n",
    "# os.environ['USE_PYGEOS'] = '0'\n",
    "import geopandas as gpd\n",
    "\n",
    "from pyagnps import topagnps\n"
   ]
  },
  {
   "cell_type": "markdown",
   "metadata": {},
   "source": [
    "## Define paths and select geometry for DEM selection"
   ]
  },
  {
   "cell_type": "code",
   "execution_count": 2,
   "metadata": {},
   "outputs": [],
   "source": [
    "\n",
    "root_dir = 'C:/Users/Luc/projects/pyagnps/outputs/topagnps/'\n",
    "\n",
    "run_dir_name = 'thuc_1139'\n",
    "\n",
    "path_to_shapefile = 'C:/Users/Luc/projects/pyagnps/inputs/topagnps/johnson_creek_long_creek/johnshon_long_creek_boundary.zip'\n",
    "\n",
    "path_to_thucs = 'C:/Users/Luc/projects/pyagnps/inputs/thucs/tophuc_S_M_40000_closed_holes_with_container_thuc_merged_bbox_area_first_kept.gpkg'"
   ]
  },
  {
   "cell_type": "code",
   "execution_count": 3,
   "metadata": {},
   "outputs": [],
   "source": [
    "geom = gpd.read_file(path_to_shapefile)\n",
    "geom = geom[geom['AREA'] == geom['AREA'].max()].reset_index()"
   ]
  },
  {
   "cell_type": "code",
   "execution_count": 4,
   "metadata": {},
   "outputs": [],
   "source": [
    "thucs = gpd.read_file(path_to_thucs)\n",
    "thuc_id = '1139'\n",
    "\n",
    "geom = thucs[thucs['tophucid']==thuc_id]"
   ]
  },
  {
   "cell_type": "markdown",
   "metadata": {},
   "source": [
    "## Download/Read DEM and write to `.asc` file"
   ]
  },
  {
   "cell_type": "code",
   "execution_count": 8,
   "metadata": {},
   "outputs": [],
   "source": [
    "import importlib\n",
    "importlib.reload(topagnps);\n",
    "\n",
    "path_to_dir = topagnps.create_topagnps_directory(root_dir, run_dir_name)\n",
    "\n",
    "path_to_asc = f'{path_to_dir}/thuc_{thuc_id}_res_30_m.asc'\n",
    "# dem, path_to_asc = topagnps.download_dem(geom, path_to_dir, name=run_dir_name, resolution_m=30, buffer_m=500)\n",
    "# dem, path_to_asc = topagnps.get_dem_from_raster(geom, path_to_input_raster, path_to_dir, name=thucid_dir_name, resolution_m=10, buffer_m=500, keeptif=True)"
   ]
  },
  {
   "cell_type": "markdown",
   "metadata": {},
   "source": [
    "## Define `TOPAGNPS.XML` control file"
   ]
  },
  {
   "cell_type": "markdown",
   "metadata": {},
   "source": [
    "Define the parameters for the preprocessing step"
   ]
  },
  {
   "cell_type": "code",
   "execution_count": 9,
   "metadata": {},
   "outputs": [],
   "source": [
    "dem_filename = path_to_asc.rsplit('/',1)[-1] # Part of the string after the last / = \"thuc_1173_rest_10_m.asc\"\n",
    "\n",
    "topagnpsXML = {'DEMPROC': 2,\n",
    "               'FORMAT': 0,\n",
    "               'CSA': 10,\n",
    "               'MSCL': 250,\n",
    "               'KEEPFILES': 1,\n",
    "               'FILENAME': dem_filename}\n",
    "\n",
    "topagnps.create_topagnps_xml_control_file(topagnpsXML, path_to_dir+'/TOPAGNPS.XML')"
   ]
  },
  {
   "cell_type": "markdown",
   "metadata": {},
   "source": [
    "## Run TopAGNPS (pre-processing step)"
   ]
  },
  {
   "cell_type": "code",
   "execution_count": 10,
   "metadata": {},
   "outputs": [],
   "source": [
    "# path_to_TOPAGNPS_bin = '../../../src/bins/TopAGNPS_v6.00.b.017_release_64-bit_Windows.exe' # absolute or with respect to a sub directory in path_to_dir\n",
    "path_to_TOPAGNPS_bin = 'C:/Users/Luc/projects/pyagnps/src/bins/TopAGNPS_v6.00.b.026_release_64-bit_Windows.exe'\n",
    "\n",
    "topagnps.run_topagnps(path_to_dir, path_to_TOPAGNPS_bin, memtrack=False)"
   ]
  },
  {
   "cell_type": "markdown",
   "metadata": {},
   "source": [
    "## Find outlet using `UPAREA.ASC` file and the t-huc geometry"
   ]
  },
  {
   "cell_type": "code",
   "execution_count": 11,
   "metadata": {},
   "outputs": [
    {
     "name": "stdout",
     "output_type": "stream",
     "text": [
      "309680.81265638664 4095283.453645436 4253 595\n",
      "EPSG:32616\n"
     ]
    }
   ],
   "source": [
    "xout, yout, rowout, colout, raster_crs = topagnps.find_outlet_uparea_shape_intersection(path_to_dir+'/UPAREA.ASC', geom)\n",
    "print(xout, yout, rowout, colout)\n",
    "print(raster_crs)"
   ]
  },
  {
   "cell_type": "markdown",
   "metadata": {},
   "source": [
    "## Finish computation"
   ]
  },
  {
   "cell_type": "code",
   "execution_count": null,
   "metadata": {},
   "outputs": [],
   "source": [
    "# topagnpsXML = {'DEMPROC': 0,\n",
    "#                'FORMAT': 0,\n",
    "#                'CSA': 10,\n",
    "#                'MSCL': 250,\n",
    "#                'KEEPFILES': 1,\n",
    "#                'OUTROW': rowout,\n",
    "#                'OUTCOL': colout,\n",
    "#                'READOUT': 1,\n",
    "#                'FILENAME': dem_filename}\n",
    "\n",
    "topagnpsXML = {'DEMPROC': 0,\n",
    "               'FORMAT': 0,\n",
    "               'CSA': 10,\n",
    "               'MSCL': 250,\n",
    "               'KEEPFILES': 1,\n",
    "               'OUTROW': rowout,\n",
    "               'OUTCOL': colout,\n",
    "               'READOUT': 1,\n",
    "               'FILENAME': 'RELIEF_INP.ASC'}\n",
    "\n",
    "topagnps.create_topagnps_xml_control_file(topagnpsXML, path_to_dir+'/TOPAGNPS.XML')\n",
    "topagnps.run_topagnps(path_to_dir, path_to_TOPAGNPS_bin)"
   ]
  }
 ],
 "metadata": {
  "kernelspec": {
   "display_name": "pyagnps",
   "language": "python",
   "name": "python3"
  },
  "language_info": {
   "codemirror_mode": {
    "name": "ipython",
    "version": 3
   },
   "file_extension": ".py",
   "mimetype": "text/x-python",
   "name": "python",
   "nbconvert_exporter": "python",
   "pygments_lexer": "ipython3",
   "version": "3.10.6"
  },
  "orig_nbformat": 4,
  "vscode": {
   "interpreter": {
    "hash": "37752bae382788ba21ac34794a64f75d413ac70376ad909676c173e7f43b872d"
   }
  }
 },
 "nbformat": 4,
 "nbformat_minor": 2
}
