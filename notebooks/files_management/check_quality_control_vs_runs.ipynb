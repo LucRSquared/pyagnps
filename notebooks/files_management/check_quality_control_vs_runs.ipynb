{
 "cells": [
  {
   "cell_type": "code",
   "execution_count": 1,
   "metadata": {},
   "outputs": [],
   "source": [
    "import os\n",
    "import pandas as pd"
   ]
  },
  {
   "cell_type": "code",
   "execution_count": 2,
   "metadata": {},
   "outputs": [],
   "source": [
    "CSA = 10 # Critical Source Area in ha\n",
    "MSCL = 250 # Minimum Stream Channel Length in m\n",
    "RESOLUTION = 30 # Resolution of the DEM in m\n",
    "BUFFER = 500 # Buffer around the thuc in m"
   ]
  },
  {
   "cell_type": "code",
   "execution_count": 3,
   "metadata": {},
   "outputs": [],
   "source": [
    "root_dir = '/aims-nas/luc/thuc_runs_40k_SM/'\n",
    "dir_runs_name = f'40000_SM_res_{RESOLUTION}_csa_{CSA}_mscl_{MSCL}_buff_{BUFFER}' # Name of the directory where the runs will be stored\n",
    "\n",
    "qc_dir = os.path.join(root_dir,'QualityControl', dir_runs_name)\n",
    "thuc_dirs = os.path.join(root_dir, dir_runs_name)\n"
   ]
  },
  {
   "cell_type": "code",
   "execution_count": 4,
   "metadata": {},
   "outputs": [],
   "source": [
    "# List files\n",
    "qc_files = os.listdir(qc_dir)\n",
    "\n"
   ]
  },
  {
   "cell_type": "code",
   "execution_count": 5,
   "metadata": {},
   "outputs": [],
   "source": [
    "thuc_dirs_all = os.listdir(thuc_dirs)"
   ]
  },
  {
   "cell_type": "code",
   "execution_count": 6,
   "metadata": {},
   "outputs": [],
   "source": [
    "thucs_with_qc = set([name[0:4] for name in qc_files])"
   ]
  },
  {
   "cell_type": "code",
   "execution_count": 7,
   "metadata": {},
   "outputs": [
    {
     "data": {
      "text/plain": [
       "4671"
      ]
     },
     "execution_count": 7,
     "metadata": {},
     "output_type": "execute_result"
    }
   ],
   "source": [
    "len(thucs_with_qc)"
   ]
  },
  {
   "cell_type": "code",
   "execution_count": null,
   "metadata": {},
   "outputs": [],
   "source": []
  },
  {
   "cell_type": "code",
   "execution_count": 8,
   "metadata": {},
   "outputs": [],
   "source": [
    "success_thuc_dirs = []\n",
    "failed_thuc_dirs = []\n",
    "\n",
    "for root, dirs, files in os.walk(thuc_dirs):\n",
    "\n",
    "    dir_name = os.path.basename(root)\n",
    "\n",
    "    if not(dir_name.startswith('thuc_')):\n",
    "        continue\n",
    "\n",
    "    if not(files):\n",
    "        continue # probably being computed at the moment\n",
    "\n",
    "    elif 'AnnAGNPS_Cell_Data_Section.csv' in files:\n",
    "\n",
    "        if dir_name.startswith('thuc_'):\n",
    "            success_thuc_dirs.append(dir_name[5:9])\n",
    "\n",
    "    elif dir_name != dir_runs_name:\n",
    "        failed_thuc_dirs.append(dir_name[5:9])\n"
   ]
  },
  {
   "cell_type": "code",
   "execution_count": 9,
   "metadata": {},
   "outputs": [],
   "source": [
    "success_thucs = set(success_thuc_dirs)\n",
    "failed_thucs = set(failed_thuc_dirs)"
   ]
  },
  {
   "cell_type": "code",
   "execution_count": 10,
   "metadata": {},
   "outputs": [
    {
     "name": "stdout",
     "output_type": "stream",
     "text": [
      "Successful THUCs:  4671 / 4800\n",
      "Failed THUCs:  4 -> {'1139', '0453', '4646', '4637'}\n"
     ]
    }
   ],
   "source": [
    "print('Successful THUCs: ', len(success_thucs),'/ 4800')\n",
    "print('Failed THUCs: ', len(failed_thucs), '->', failed_thucs)"
   ]
  },
  {
   "cell_type": "code",
   "execution_count": 11,
   "metadata": {},
   "outputs": [],
   "source": [
    "path_to_thuc_runlist = os.path.join(root_dir,'LOGS','lmrb.csv')\n",
    "\n",
    "lmrb = pd.read_csv(path_to_thuc_runlist, dtype=object)\n",
    "lmrb = lmrb['thuclist'].to_list()\n",
    "lmrb = set(lmrb)"
   ]
  },
  {
   "cell_type": "code",
   "execution_count": 12,
   "metadata": {},
   "outputs": [
    {
     "data": {
      "text/plain": [
       "154"
      ]
     },
     "execution_count": 12,
     "metadata": {},
     "output_type": "execute_result"
    }
   ],
   "source": [
    "len(lmrb)"
   ]
  },
  {
   "cell_type": "code",
   "execution_count": 13,
   "metadata": {},
   "outputs": [],
   "source": [
    "lmrb_and_success = lmrb.intersection(success_thucs)"
   ]
  },
  {
   "cell_type": "code",
   "execution_count": 14,
   "metadata": {},
   "outputs": [],
   "source": [
    "lmrb_not_success = lmrb - success_thucs"
   ]
  },
  {
   "cell_type": "code",
   "execution_count": 15,
   "metadata": {},
   "outputs": [
    {
     "data": {
      "text/plain": [
       "{'1139'}"
      ]
     },
     "execution_count": 15,
     "metadata": {},
     "output_type": "execute_result"
    }
   ],
   "source": [
    "lmrb_not_success"
   ]
  }
 ],
 "metadata": {
  "kernelspec": {
   "display_name": "venv",
   "language": "python",
   "name": "python3"
  },
  "language_info": {
   "codemirror_mode": {
    "name": "ipython",
    "version": 3
   },
   "file_extension": ".py",
   "mimetype": "text/x-python",
   "name": "python",
   "nbconvert_exporter": "python",
   "pygments_lexer": "ipython3",
   "version": "3.9.2"
  },
  "orig_nbformat": 4,
  "vscode": {
   "interpreter": {
    "hash": "6e381e352425f7be97697f5d6bbee721555cfa223544665c5e374719179fed50"
   }
  }
 },
 "nbformat": 4,
 "nbformat_minor": 2
}
