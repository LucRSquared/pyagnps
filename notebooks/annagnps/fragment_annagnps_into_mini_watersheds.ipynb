{
 "cells": [
  {
   "cell_type": "code",
   "execution_count": 1,
   "metadata": {},
   "outputs": [],
   "source": [
    "from pathlib import Path\n",
    "import copy\n",
    "import pandas as pd\n",
    "\n",
    "from tqdm import tqdm\n",
    "\n",
    "import pyagnps"
   ]
  },
  {
   "cell_type": "markdown",
   "metadata": {},
   "source": [
    "### Assuming we already have a folder with a full set of input files"
   ]
  },
  {
   "cell_type": "code",
   "execution_count": 2,
   "metadata": {},
   "outputs": [],
   "source": [
    "# p_og_annagnps = Path(\"C:/Users/Luc/projects/AnnAGNPS/AnnAGNPS_simulations_by_AIMS/pelahatchie_creek_and_bay_NLDAS2_2006_2016\")\n",
    "# p_og_annagnps = Path(\"C:/Users/Luc/projects/AnnAGNPS/AnnAGNPS_simulations_by_AIMS/TESTS_1055_NESTED/Iowa_1055_Reach_30366\")\n",
    "# p_og_annagnps = Path(\"C:/Users/Luc/projects/AnnAGNPS/AnnAGNPS_simulations_by_AIMS/TESTS_1055_NESTED/Iowa_1055_Reach_29996\")\n",
    "# p_og_annagnps = Path(\"C:/Users/Luc/projects/AnnAGNPS/AnnAGNPS_simulations_by_AIMS/TESTS_1055_NESTED/Iowa_1055_Reach_28857\")\n",
    "p_og_annagnps = Path(\"C:/Users/Luc/projects/AnnAGNPS/AnnAGNPS_simulations_by_AIMS/TESTS_1055_NESTED/Iowa_1055_Reach_3\")\n",
    "p_og_master = p_og_annagnps / 'annagnps_master.csv'"
   ]
  },
  {
   "cell_type": "code",
   "execution_count": 3,
   "metadata": {},
   "outputs": [],
   "source": [
    "df_og_master = pd.read_csv(p_og_master)"
   ]
  },
  {
   "cell_type": "code",
   "execution_count": 4,
   "metadata": {},
   "outputs": [],
   "source": [
    "og_files = {key:p_og_annagnps / Path(val) for key, val in zip(df_og_master['Data Section ID'], df_og_master['File Name'])}"
   ]
  },
  {
   "cell_type": "code",
   "execution_count": 5,
   "metadata": {},
   "outputs": [
    {
     "data": {
      "text/plain": [
       "{'AnnAGNPS ID': WindowsPath('C:/Users/Luc/projects/AnnAGNPS/AnnAGNPS_simulations_by_AIMS/TESTS_1055_NESTED/Iowa_1055_Reach_3/simulation/annaid.csv'),\n",
       " 'Cell Data': WindowsPath('C:/Users/Luc/projects/AnnAGNPS/AnnAGNPS_simulations_by_AIMS/TESTS_1055_NESTED/Iowa_1055_Reach_3/watershed/cell_data_section.csv'),\n",
       " 'Crop Data': WindowsPath('C:/Users/Luc/projects/AnnAGNPS/AnnAGNPS_simulations_by_AIMS/TESTS_1055_NESTED/Iowa_1055_Reach_3/general/crop_data.csv'),\n",
       " 'Crop Growth Data': WindowsPath('C:/Users/Luc/projects/AnnAGNPS/AnnAGNPS_simulations_by_AIMS/TESTS_1055_NESTED/Iowa_1055_Reach_3/general/crop_growth.csv'),\n",
       " 'Global IDs Factors and Flags Data': WindowsPath('C:/Users/Luc/projects/AnnAGNPS/AnnAGNPS_simulations_by_AIMS/TESTS_1055_NESTED/Iowa_1055_Reach_3/simulation/globfac.csv'),\n",
       " 'Management Field Data': WindowsPath('C:/Users/Luc/projects/AnnAGNPS/AnnAGNPS_simulations_by_AIMS/TESTS_1055_NESTED/Iowa_1055_Reach_3/general/management_field.csv'),\n",
       " 'Management Operation Data': WindowsPath('C:/Users/Luc/projects/AnnAGNPS/AnnAGNPS_simulations_by_AIMS/TESTS_1055_NESTED/Iowa_1055_Reach_3/general/management_oper.csv'),\n",
       " 'Management Schedule Data': WindowsPath('C:/Users/Luc/projects/AnnAGNPS/AnnAGNPS_simulations_by_AIMS/TESTS_1055_NESTED/Iowa_1055_Reach_3/general/management_schedule.csv'),\n",
       " 'Non-Crop Data': WindowsPath('C:/Users/Luc/projects/AnnAGNPS/AnnAGNPS_simulations_by_AIMS/TESTS_1055_NESTED/Iowa_1055_Reach_3/general/non_crop.csv'),\n",
       " 'Reach Data': WindowsPath('C:/Users/Luc/projects/AnnAGNPS/AnnAGNPS_simulations_by_AIMS/TESTS_1055_NESTED/Iowa_1055_Reach_3/watershed/reach_data_section.csv'),\n",
       " 'Runoff Curve Number Data': WindowsPath('C:/Users/Luc/projects/AnnAGNPS/AnnAGNPS_simulations_by_AIMS/TESTS_1055_NESTED/Iowa_1055_Reach_3/general/runoffcurve.csv'),\n",
       " 'Simulation Period Data': WindowsPath('C:/Users/Luc/projects/AnnAGNPS/AnnAGNPS_simulations_by_AIMS/TESTS_1055_NESTED/Iowa_1055_Reach_3/simulation/sim_period.csv'),\n",
       " 'Soil Data': WindowsPath('C:/Users/Luc/projects/AnnAGNPS/AnnAGNPS_simulations_by_AIMS/TESTS_1055_NESTED/Iowa_1055_Reach_3/general/soil_data.csv'),\n",
       " 'Soil Layer Data': WindowsPath('C:/Users/Luc/projects/AnnAGNPS/AnnAGNPS_simulations_by_AIMS/TESTS_1055_NESTED/Iowa_1055_Reach_3/general/soil_layers_data.csv'),\n",
       " 'Watershed Data': WindowsPath('C:/Users/Luc/projects/AnnAGNPS/AnnAGNPS_simulations_by_AIMS/TESTS_1055_NESTED/Iowa_1055_Reach_3/watershed/watershed_data.csv'),\n",
       " 'Output Options - Global': WindowsPath('C:/Users/Luc/projects/AnnAGNPS/AnnAGNPS_simulations_by_AIMS/TESTS_1055_NESTED/Iowa_1055_Reach_3/simulation/outopts_global.csv'),\n",
       " 'Output Options - AA': WindowsPath('C:/Users/Luc/projects/AnnAGNPS/AnnAGNPS_simulations_by_AIMS/TESTS_1055_NESTED/Iowa_1055_Reach_3/simulation/outopts_aa.csv'),\n",
       " 'Output Options - TBL': WindowsPath('C:/Users/Luc/projects/AnnAGNPS/AnnAGNPS_simulations_by_AIMS/TESTS_1055_NESTED/Iowa_1055_Reach_3/simulation/outopts_tbl.csv'),\n",
       " 'CLIMATE DATA - DAILY': WindowsPath('C:/Users/Luc/projects/AnnAGNPS/AnnAGNPS_simulations_by_AIMS/TESTS_1055_NESTED/Iowa_1055_Reach_3/climate/climate_daily.csv'),\n",
       " 'CLIMATE DATA - STATION': WindowsPath('C:/Users/Luc/projects/AnnAGNPS/AnnAGNPS_simulations_by_AIMS/TESTS_1055_NESTED/Iowa_1055_Reach_3/climate/climate_station.csv')}"
      ]
     },
     "execution_count": 5,
     "metadata": {},
     "output_type": "execute_result"
    }
   ],
   "source": [
    "og_files"
   ]
  },
  {
   "cell_type": "code",
   "execution_count": 6,
   "metadata": {},
   "outputs": [],
   "source": [
    "# Things that need to be particularized\n",
    "df_og_reaches      = pd.read_csv(og_files['Reach Data'], low_memory=False)\n",
    "df_og_cells        = pd.read_csv(og_files['Cell Data'])\n",
    "\n",
    "# Things that could be shared if they are not too big (and they generally aren't)\n",
    "df_soil            = pd.read_csv(og_files['Soil Data'])\n",
    "df_soil_layers     = pd.read_csv(og_files['Soil Layer Data'])\n",
    "\n",
    "df_mgmt_field      = pd.read_csv(og_files['Management Field Data'])\n",
    "df_mgmt_oper       = pd.read_csv(og_files['Management Operation Data'])\n",
    "df_mgmt_schedule   = pd.read_csv(og_files['Management Schedule Data'])\n",
    "\n",
    "# Do some reformatting\n",
    "df_mgmt_oper = pyagnps.annagnps.format_mgmt_operation_for_output(df_mgmt_oper)\n",
    "df_mgmt_schedule = pyagnps.annagnps.format_mgmt_schedule_for_output(df_mgmt_schedule)\n",
    "\n",
    "df_crop            = pd.read_csv(og_files['Crop Data'])\n",
    "df_crop_growth     = pd.read_csv(og_files['Crop Growth Data'])\n",
    "df_non_crop        = pd.read_csv(og_files['Non-Crop Data'])\n",
    "\n",
    "df_roc             = pd.read_csv(og_files['Runoff Curve Number Data'])\n",
    "\n",
    "# Things that are shared\n",
    "df_globalfac       = pd.read_csv(og_files['Global IDs Factors and Flags Data'])\n",
    "df_out_opts_aa     = pd.read_csv(og_files['Output Options - AA'])\n",
    "df_out_opts_tbl    = pd.read_csv(og_files['Output Options - TBL'])\n",
    "df_out_opts_global = pd.read_csv(og_files['Output Options - Global'])\n",
    "df_watershed_data  = pd.read_csv(og_files['Watershed Data'])\n",
    "df_sim_period      = pd.read_csv(og_files['Simulation Period Data'])\n",
    "df_annaid          = pd.read_csv(og_files['AnnAGNPS ID'])\n",
    "\n",
    "p_og_climate_dir = p_og_annagnps / 'climate' # Path to original climate files\n"
   ]
  },
  {
   "cell_type": "markdown",
   "metadata": {},
   "source": [
    "### Setup fragmented simulation directory"
   ]
  },
  {
   "cell_type": "code",
   "execution_count": 7,
   "metadata": {},
   "outputs": [
    {
     "data": {
      "text/plain": [
       "'Iowa_1055_Reach_3'"
      ]
     },
     "execution_count": 7,
     "metadata": {},
     "output_type": "execute_result"
    }
   ],
   "source": [
    "p_og_annagnps.name"
   ]
  },
  {
   "cell_type": "code",
   "execution_count": 8,
   "metadata": {},
   "outputs": [],
   "source": [
    "# master_output_dir = Path(\"C:/Users/Luc/projects/AnnAGNPS/AnnAGNPS_simulations_by_AIMS/pelahatchie_creek_and_bay_NLDAS2_2006_2016_fragmented\")\n",
    "master_output_dir = Path(\"C:/Users/Luc/projects/AnnAGNPS/AnnAGNPS_simulations_by_AIMS/TESTS_1055_NESTED_fragmented\") / p_og_annagnps.name\n",
    "master_output_dir.mkdir(exist_ok=True, parents=True)\n",
    "\n",
    "# Folder that will contain shared data\n",
    "master_output_dir_shared = master_output_dir / 'shared'\n",
    "master_output_dir_shared.mkdir(exist_ok=True)\n",
    "\n",
    "# Folder that will contain all the mini watersheds\n",
    "mini_watersheds_dir = master_output_dir / 'mini_watersheds'\n",
    "mini_watersheds_dir.mkdir(exist_ok=True)"
   ]
  },
  {
   "cell_type": "markdown",
   "metadata": {},
   "source": [
    "#### Copy shared files and setup new master file"
   ]
  },
  {
   "cell_type": "code",
   "execution_count": 9,
   "metadata": {},
   "outputs": [],
   "source": [
    "new_master_file_template = {}\n",
    "\n",
    "# Iterable containing DataFrame names and corresponding filenames\n",
    "dataframes_and_filenames = [\n",
    "    (\"AnnAGNPS ID\",                       df_annaid,          \"annaid.csv\"),\n",
    "    # (\"Soil Data\",                         df_soil,            \"soil_data.csv\"),\n",
    "    # (\"Soil Layer Data\",                   df_soil_layers,     \"soil_layers_data.csv\"),\n",
    "    (\"Management Field Data\",             df_mgmt_field,      \"management_field.csv\"),\n",
    "    (\"Management Operation Data\",         df_mgmt_oper,       \"management_oper.csv\"),\n",
    "    (\"Management Schedule Data\",          df_mgmt_schedule,   \"management_schedule.csv\"),\n",
    "    (\"Crop Data\",                         df_crop,            \"crop_data.csv\"),\n",
    "    (\"Crop Growth Data\",                  df_crop_growth,     \"crop_growth.csv\"),\n",
    "    (\"Non-Crop Data\",                     df_non_crop,        \"non_crop.csv\"),\n",
    "    (\"Runoff curve Number Data\",          df_roc,             \"runoffcurve.csv\"),\n",
    "    (\"Global IDs Factors and Flags Data\", df_globalfac,       \"globfac.csv\"),\n",
    "    (\"Output Options - AA\",               df_out_opts_aa,     \"outopts_aa.csv\"),\n",
    "    (\"Output Options - TBL\",              df_out_opts_tbl,    \"outopts_tbl.csv\"),\n",
    "    (\"Output Options - Global\",           df_out_opts_global, \"outopts_global.csv\"),\n",
    "    (\"Watershed Data\",                    df_watershed_data,  \"watershed_data.csv\"),\n",
    "    (\"Simulation Period Data\",            df_sim_period,      \"sim_period.csv\"),\n",
    "]\n",
    "\n",
    "dummy_sim_dir = mini_watersheds_dir / 'dummy_reach'\n",
    "\n",
    "for master_key, df_name, filename in dataframes_and_filenames:\n",
    "    df = df_name  # Access DataFrame using its name\n",
    "    new_path = master_output_dir_shared / filename\n",
    "\n",
    "    new_master_file_template[master_key] = \"./\" + str(pyagnps.utils.get_relative_path(dummy_sim_dir,new_path)).replace(\"\\\\\",\"/\")\n",
    "    df.to_csv(new_path, index=False)"
   ]
  },
  {
   "cell_type": "code",
   "execution_count": 10,
   "metadata": {},
   "outputs": [],
   "source": [
    "# Copy climate files\n",
    "shared_climate_dir = master_output_dir_shared / 'climate'\n",
    "shared_climate_dir.mkdir(exist_ok=True)\n",
    "pyagnps.utils.copy_files_from_dir_to_dir(p_og_climate_dir, shared_climate_dir);\n",
    "new_master_file_template['CLIMATE DATA - DAILY'] = \"./\" + str(pyagnps.utils.get_relative_path(dummy_sim_dir,shared_climate_dir / 'climate_daily.csv')).replace(\"\\\\\",\"/\")\n",
    "new_master_file_template['CLIMATE DATA - STATION'] = \"./\" + str(pyagnps.utils.get_relative_path(dummy_sim_dir,shared_climate_dir / 'climate_station.csv')).replace(\"\\\\\",\"/\")"
   ]
  },
  {
   "cell_type": "code",
   "execution_count": 11,
   "metadata": {},
   "outputs": [
    {
     "data": {
      "text/plain": [
       "{'AnnAGNPS ID': './../../shared/annaid.csv',\n",
       " 'Management Field Data': './../../shared/management_field.csv',\n",
       " 'Management Operation Data': './../../shared/management_oper.csv',\n",
       " 'Management Schedule Data': './../../shared/management_schedule.csv',\n",
       " 'Crop Data': './../../shared/crop_data.csv',\n",
       " 'Crop Growth Data': './../../shared/crop_growth.csv',\n",
       " 'Non-Crop Data': './../../shared/non_crop.csv',\n",
       " 'Runoff curve Number Data': './../../shared/runoffcurve.csv',\n",
       " 'Global IDs Factors and Flags Data': './../../shared/globfac.csv',\n",
       " 'Output Options - AA': './../../shared/outopts_aa.csv',\n",
       " 'Output Options - TBL': './../../shared/outopts_tbl.csv',\n",
       " 'Output Options - Global': './../../shared/outopts_global.csv',\n",
       " 'Watershed Data': './../../shared/watershed_data.csv',\n",
       " 'Simulation Period Data': './../../shared/sim_period.csv',\n",
       " 'CLIMATE DATA - DAILY': './../../shared/climate/climate_daily.csv',\n",
       " 'CLIMATE DATA - STATION': './../../shared/climate/climate_station.csv'}"
      ]
     },
     "execution_count": 11,
     "metadata": {},
     "output_type": "execute_result"
    }
   ],
   "source": [
    "new_master_file_template"
   ]
  },
  {
   "cell_type": "markdown",
   "metadata": {},
   "source": [
    "### Making a specific reach and cell data section to treat every reach individually"
   ]
  },
  {
   "cell_type": "code",
   "execution_count": 12,
   "metadata": {},
   "outputs": [],
   "source": [
    "def make_mini_watershed_reach_cell_data_section(reach_id, df_og_reaches, df_og_cells, df_soil, df_soil_layers, annagnps_master_template_dict, mini_watersheds_dir):\n",
    "    mini_watershed = mini_watersheds_dir / f\"reach_{reach_id:010.0f}\"\n",
    "\n",
    "    if mini_watershed.exists():\n",
    "        return\n",
    "    else:\n",
    "        mini_watershed.mkdir(exist_ok=True)\n",
    "    \n",
    "    df_og_reaches = df_og_reaches[df_og_reaches['length']!=0]\n",
    "    \n",
    "    dfr = df_og_reaches[df_og_reaches['reach_id'].eq(reach_id)]\n",
    "    dfr_valid = pyagnps.annagnps.make_df_reaches_valid(dfr)\n",
    "\n",
    "    df_contributing_cells = df_og_cells[df_og_cells['reach_id']==reach_id]\n",
    "\n",
    "    path_to_cells = mini_watershed / 'cell_data_section.csv'\n",
    "    path_to_reaches = mini_watershed / 'reach_data_section.csv'\n",
    "    path_to_soil_data = mini_watershed / 'soil_data.csv'\n",
    "    path_to_soil_layers_data = mini_watershed / 'soil_layers_data.csv'\n",
    "\n",
    "    annagnps_master = copy.deepcopy(annagnps_master_template_dict)\n",
    "    annagnps_master['Reach Data'] = './reach_data_section.csv'\n",
    "    annagnps_master['Cell Data'] = './cell_data_section.csv'\n",
    "    annagnps_master['Soil Data'] = './soil_data.csv'\n",
    "    annagnps_master['Soil Layer Data'] = './soil_layers_data.csv'\n",
    "\n",
    "\n",
    "    if (num_cells:=df_contributing_cells.shape[0]) == 3:\n",
    "        # This is a source reach we don't need to do anything special\n",
    "        pass\n",
    "\n",
    "    elif num_cells <= 2:\n",
    "        # Copy first cell and append at the end:\n",
    "        first_cell = df_contributing_cells.iloc[0].copy(deep=True).to_frame().T\n",
    "        first_cell['cell_id'] = 0\n",
    "        first_cell['cell_area'] = 1e-4\n",
    "        first_cell['mgmt_field_id'] = \"Water\"\n",
    "        first_cell['reach_location_code'] = 0\n",
    "        df_contributing_cells = pd.concat([df_contributing_cells, first_cell]).reset_index(drop=True)\n",
    "\n",
    "    else:\n",
    "        raise Exception(f\"Invalid number of cells ({num_cells}) for reach {reach_id}\")\n",
    "    \n",
    "    dfr_valid = dfr_valid.apply(pd.to_numeric, errors='ignore')\n",
    "    df_contributing_cells = df_contributing_cells.apply(pd.to_numeric, errors='ignore')\n",
    "\n",
    "    # Make specific soil data sections\n",
    "    specific_soils = df_contributing_cells['soil_id'].to_list()\n",
    "    df_soil_specific = df_soil[df_soil['Soil_ID'].isin(specific_soils)]\n",
    "    df_soil_layers_specific = df_soil_layers[df_soil_layers['Soil_ID'].isin(specific_soils)]\n",
    "\n",
    "    df_soil_specific.to_csv(path_to_soil_data, index=False, float_format='%1.5f')\n",
    "    df_soil_layers_specific.to_csv(path_to_soil_layers_data, index=False, float_format='%1.5f')\n",
    "\n",
    "    dfr_valid.to_csv(path_to_reaches, index=False, float_format='%1.5f')\n",
    "    df_contributing_cells.to_csv(path_to_cells, index=False, float_format='%1.5f')\n",
    "\n",
    "    df_master = pd.DataFrame({\n",
    "        'Data Section ID': annagnps_master.keys(),\n",
    "        'File Name': annagnps_master.values()})\n",
    "\n",
    "    df_master.to_csv(mini_watershed / 'annagnps_master.csv', index=False)\n",
    "\n",
    "    annagnps_fil = mini_watershed / 'AnnAGNPS.fil'\n",
    "    annagnps_fil.write_text('annagnps_master.csv');"
   ]
  },
  {
   "cell_type": "code",
   "execution_count": 13,
   "metadata": {},
   "outputs": [
    {
     "name": "stderr",
     "output_type": "stream",
     "text": [
      "  0%|          | 0/256952 [00:00<?, ?it/s]"
     ]
    },
    {
     "name": "stderr",
     "output_type": "stream",
     "text": [
      "100%|██████████| 256952/256952 [1:56:42<00:00, 36.69it/s]  \n"
     ]
    }
   ],
   "source": [
    "df_og_reaches = df_og_reaches[df_og_reaches['length']!=0]\n",
    "\n",
    "for reach_id in tqdm(df_og_reaches['reach_id'], total=df_og_reaches.shape[0]):\n",
    "    make_mini_watershed_reach_cell_data_section(reach_id, df_og_reaches, df_og_cells, df_soil, df_soil_layers, new_master_file_template, mini_watersheds_dir)"
   ]
  }
 ],
 "metadata": {
  "kernelspec": {
   "display_name": ".venv",
   "language": "python",
   "name": "python3"
  },
  "language_info": {
   "codemirror_mode": {
    "name": "ipython",
    "version": 3
   },
   "file_extension": ".py",
   "mimetype": "text/x-python",
   "name": "python",
   "nbconvert_exporter": "python",
   "pygments_lexer": "ipython3",
   "version": "3.11.4"
  }
 },
 "nbformat": 4,
 "nbformat_minor": 2
}
