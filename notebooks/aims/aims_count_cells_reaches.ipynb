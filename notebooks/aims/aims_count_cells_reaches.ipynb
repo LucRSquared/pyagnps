{
 "cells": [
  {
   "cell_type": "code",
   "execution_count": 20,
   "metadata": {},
   "outputs": [],
   "source": [
    "from pathlib import Path\n",
    "import json\n",
    "import pandas as pd\n",
    "from sqlalchemy import URL, create_engine, text as sql_text\n",
    "from tqdm import tqdm"
   ]
  },
  {
   "cell_type": "code",
   "execution_count": 21,
   "metadata": {},
   "outputs": [],
   "source": [
    "credentials = Path('../../inputs/db_credentials.json')\n",
    "with open(credentials, 'r') as f:\n",
    "    credentials = json.load(f)\n",
    "\n",
    "user     = credentials['user']\n",
    "password = credentials['password']\n",
    "host     = credentials['host']\n",
    "port     = credentials['port']\n",
    "database = credentials['database']"
   ]
  },
  {
   "cell_type": "code",
   "execution_count": 22,
   "metadata": {},
   "outputs": [],
   "source": [
    "url_object = URL.create(\n",
    "    \"postgresql\",\n",
    "    username=user,\n",
    "    password=password,\n",
    "    host=host,\n",
    "    port=port,\n",
    "    database=database\n",
    ")\n",
    "\n",
    "# create a SQLAlchemy engine object\n",
    "engine = create_engine(url_object)"
   ]
  },
  {
   "cell_type": "markdown",
   "metadata": {},
   "source": [
    "Count cells and reaches per THUC"
   ]
  },
  {
   "cell_type": "code",
   "execution_count": 23,
   "metadata": {},
   "outputs": [
    {
     "name": "stderr",
     "output_type": "stream",
     "text": [
      "  0%|          | 0/4801 [00:00<?, ?it/s]"
     ]
    },
    {
     "name": "stdout",
     "output_type": "stream",
     "text": [
      "(psycopg2.errors.UndefinedTable) relation \"thuc_0000_annagnps_cell_data_section\" does not exist\n",
      "LINE 1: SELECT cell_id FROM thuc_0000_annagnps_cell_data_section\n",
      "                            ^\n",
      "\n",
      "[SQL: SELECT cell_id FROM thuc_0000_annagnps_cell_data_section]\n",
      "(Background on this error at: https://sqlalche.me/e/20/f405)\n"
     ]
    },
    {
     "name": "stderr",
     "output_type": "stream",
     "text": [
      " 25%|██▌       | 1217/4801 [05:25<30:08,  1.98it/s]  "
     ]
    },
    {
     "name": "stdout",
     "output_type": "stream",
     "text": [
      "(psycopg2.errors.UndefinedTable) relation \"thuc_1217_annagnps_cell_data_section\" does not exist\n",
      "LINE 1: SELECT cell_id FROM thuc_1217_annagnps_cell_data_section\n",
      "                            ^\n",
      "\n",
      "[SQL: SELECT cell_id FROM thuc_1217_annagnps_cell_data_section]\n",
      "(Background on this error at: https://sqlalche.me/e/20/f405)\n",
      "(psycopg2.errors.UndefinedTable) relation \"thuc_1218_annagnps_cell_data_section\" does not exist\n",
      "LINE 1: SELECT cell_id FROM thuc_1218_annagnps_cell_data_section\n",
      "                            ^\n",
      "\n",
      "[SQL: SELECT cell_id FROM thuc_1218_annagnps_cell_data_section]\n",
      "(Background on this error at: https://sqlalche.me/e/20/f405)\n",
      "(psycopg2.errors.UndefinedTable) relation \"thuc_1219_annagnps_cell_data_section\" does not exist\n",
      "LINE 1: SELECT cell_id FROM thuc_1219_annagnps_cell_data_section\n",
      "                            ^\n",
      "\n",
      "[SQL: SELECT cell_id FROM thuc_1219_annagnps_cell_data_section]\n",
      "(Background on this error at: https://sqlalche.me/e/20/f405)\n",
      "(psycopg2.errors.UndefinedTable) relation \"thuc_1220_annagnps_cell_data_section\" does not exist\n",
      "LINE 1: SELECT cell_id FROM thuc_1220_annagnps_cell_data_section\n",
      "                            ^\n",
      "\n",
      "[SQL: SELECT cell_id FROM thuc_1220_annagnps_cell_data_section]\n",
      "(Background on this error at: https://sqlalche.me/e/20/f405)\n",
      "(psycopg2.errors.UndefinedTable) relation \"thuc_1221_annagnps_cell_data_section\" does not exist\n",
      "LINE 1: SELECT cell_id FROM thuc_1221_annagnps_cell_data_section\n",
      "                            ^\n",
      "\n",
      "[SQL: SELECT cell_id FROM thuc_1221_annagnps_cell_data_section]\n",
      "(Background on this error at: https://sqlalche.me/e/20/f405)\n"
     ]
    },
    {
     "name": "stderr",
     "output_type": "stream",
     "text": [
      " 93%|█████████▎| 4466/4801 [13:41<00:18, 18.30it/s]  "
     ]
    },
    {
     "name": "stdout",
     "output_type": "stream",
     "text": [
      "(psycopg2.errors.UndefinedTable) relation \"thuc_4463_annagnps_cell_data_section\" does not exist\n",
      "LINE 1: SELECT cell_id FROM thuc_4463_annagnps_cell_data_section\n",
      "                            ^\n",
      "\n",
      "[SQL: SELECT cell_id FROM thuc_4463_annagnps_cell_data_section]\n",
      "(Background on this error at: https://sqlalche.me/e/20/f405)\n"
     ]
    },
    {
     "name": "stderr",
     "output_type": "stream",
     "text": [
      "100%|██████████| 4801/4801 [14:44<00:00,  5.43it/s]\n"
     ]
    }
   ],
   "source": [
    "thuc = []\n",
    "num_cells = []\n",
    "num_reaches = []\n",
    "\n",
    "for thuc_id in tqdm(range(4800+1)):\n",
    "\n",
    "    thuc.append(thuc_id)\n",
    "\n",
    "    query_cell  = f\"SELECT cell_id FROM thuc_{thuc_id:04}_annagnps_cell_data_section\"\n",
    "    query_reach = f\"SELECT reach_id FROM thuc_{thuc_id:04}_annagnps_reach_data_section\"\n",
    "\n",
    "    with engine.connect() as conn:\n",
    "\n",
    "        try:\n",
    "\n",
    "            df_cell = pd.read_sql_query(sql=sql_text(query_cell), con=conn)\n",
    "            df_reach = pd.read_sql_query(sql=sql_text(query_reach), con=conn)\n",
    "\n",
    "            num_cells.append(df_cell.shape[0])\n",
    "            num_reaches.append(df_reach.shape[0])\n",
    "\n",
    "        except Exception as e:\n",
    "            print(e)\n",
    "            num_cells.append(None)\n",
    "            num_reaches.append(None)\n",
    "            continue\n",
    "\n",
    "df_thucs = pd.DataFrame(\n",
    "    {\"THUC_ID\": thuc,\n",
    "     \"NUM_CELLS\": num_cells,\n",
    "     \"NUM_REACHES\": num_reaches}\n",
    ")"
   ]
  },
  {
   "cell_type": "code",
   "execution_count": 24,
   "metadata": {},
   "outputs": [
    {
     "data": {
      "text/html": [
       "<div>\n",
       "<style scoped>\n",
       "    .dataframe tbody tr th:only-of-type {\n",
       "        vertical-align: middle;\n",
       "    }\n",
       "\n",
       "    .dataframe tbody tr th {\n",
       "        vertical-align: top;\n",
       "    }\n",
       "\n",
       "    .dataframe thead th {\n",
       "        text-align: right;\n",
       "    }\n",
       "</style>\n",
       "<table border=\"1\" class=\"dataframe\">\n",
       "  <thead>\n",
       "    <tr style=\"text-align: right;\">\n",
       "      <th></th>\n",
       "      <th>THUC_ID</th>\n",
       "      <th>NUM_CELLS</th>\n",
       "      <th>NUM_REACHES</th>\n",
       "    </tr>\n",
       "  </thead>\n",
       "  <tbody>\n",
       "    <tr>\n",
       "      <th>0</th>\n",
       "      <td>0</td>\n",
       "      <td>NaN</td>\n",
       "      <td>NaN</td>\n",
       "    </tr>\n",
       "    <tr>\n",
       "      <th>1</th>\n",
       "      <td>1</td>\n",
       "      <td>146491.0</td>\n",
       "      <td>62291.0</td>\n",
       "    </tr>\n",
       "    <tr>\n",
       "      <th>2</th>\n",
       "      <td>2</td>\n",
       "      <td>3555.0</td>\n",
       "      <td>1461.0</td>\n",
       "    </tr>\n",
       "    <tr>\n",
       "      <th>3</th>\n",
       "      <td>3</td>\n",
       "      <td>205997.0</td>\n",
       "      <td>85561.0</td>\n",
       "    </tr>\n",
       "    <tr>\n",
       "      <th>4</th>\n",
       "      <td>4</td>\n",
       "      <td>173992.0</td>\n",
       "      <td>72114.0</td>\n",
       "    </tr>\n",
       "    <tr>\n",
       "      <th>...</th>\n",
       "      <td>...</td>\n",
       "      <td>...</td>\n",
       "      <td>...</td>\n",
       "    </tr>\n",
       "    <tr>\n",
       "      <th>4796</th>\n",
       "      <td>4796</td>\n",
       "      <td>126.0</td>\n",
       "      <td>52.0</td>\n",
       "    </tr>\n",
       "    <tr>\n",
       "      <th>4797</th>\n",
       "      <td>4797</td>\n",
       "      <td>182.0</td>\n",
       "      <td>74.0</td>\n",
       "    </tr>\n",
       "    <tr>\n",
       "      <th>4798</th>\n",
       "      <td>4798</td>\n",
       "      <td>381.0</td>\n",
       "      <td>156.0</td>\n",
       "    </tr>\n",
       "    <tr>\n",
       "      <th>4799</th>\n",
       "      <td>4799</td>\n",
       "      <td>596.0</td>\n",
       "      <td>244.0</td>\n",
       "    </tr>\n",
       "    <tr>\n",
       "      <th>4800</th>\n",
       "      <td>4800</td>\n",
       "      <td>118.0</td>\n",
       "      <td>48.0</td>\n",
       "    </tr>\n",
       "  </tbody>\n",
       "</table>\n",
       "<p>4801 rows × 3 columns</p>\n",
       "</div>"
      ],
      "text/plain": [
       "      THUC_ID  NUM_CELLS  NUM_REACHES\n",
       "0           0        NaN          NaN\n",
       "1           1   146491.0      62291.0\n",
       "2           2     3555.0       1461.0\n",
       "3           3   205997.0      85561.0\n",
       "4           4   173992.0      72114.0\n",
       "...       ...        ...          ...\n",
       "4796     4796      126.0         52.0\n",
       "4797     4797      182.0         74.0\n",
       "4798     4798      381.0        156.0\n",
       "4799     4799      596.0        244.0\n",
       "4800     4800      118.0         48.0\n",
       "\n",
       "[4801 rows x 3 columns]"
      ]
     },
     "execution_count": 24,
     "metadata": {},
     "output_type": "execute_result"
    }
   ],
   "source": [
    "df_thucs"
   ]
  },
  {
   "cell_type": "code",
   "execution_count": 30,
   "metadata": {},
   "outputs": [
    {
     "data": {
      "text/plain": [
       "35413465.0"
      ]
     },
     "execution_count": 30,
     "metadata": {},
     "output_type": "execute_result"
    }
   ],
   "source": [
    "# df_thucs.loc[df_thucs[\"THUC_ID\"]==1148,\"NUM_REACHES\"].sum()\n",
    "df_thucs[\"NUM_REACHES\"].sum()\n"
   ]
  },
  {
   "cell_type": "code",
   "execution_count": 38,
   "metadata": {},
   "outputs": [],
   "source": [
    "df_thucs = df_thucs.dropna()"
   ]
  },
  {
   "cell_type": "code",
   "execution_count": 39,
   "metadata": {},
   "outputs": [
    {
     "name": "stderr",
     "output_type": "stream",
     "text": [
      "C:\\Users\\Luc\\AppData\\Local\\Temp\\ipykernel_32564\\3883765403.py:1: SettingWithCopyWarning: \n",
      "A value is trying to be set on a copy of a slice from a DataFrame.\n",
      "Try using .loc[row_indexer,col_indexer] = value instead\n",
      "\n",
      "See the caveats in the documentation: https://pandas.pydata.org/pandas-docs/stable/user_guide/indexing.html#returning-a-view-versus-a-copy\n",
      "  df_thucs[\"NUM_REACHES\"] = df_thucs[\"NUM_REACHES\"].apply(int)\n",
      "C:\\Users\\Luc\\AppData\\Local\\Temp\\ipykernel_32564\\3883765403.py:2: SettingWithCopyWarning: \n",
      "A value is trying to be set on a copy of a slice from a DataFrame.\n",
      "Try using .loc[row_indexer,col_indexer] = value instead\n",
      "\n",
      "See the caveats in the documentation: https://pandas.pydata.org/pandas-docs/stable/user_guide/indexing.html#returning-a-view-versus-a-copy\n",
      "  df_thucs[\"NUM_CELLS\"] = df_thucs[\"NUM_CELLS\"].apply(int)\n"
     ]
    }
   ],
   "source": [
    "df_thucs[\"NUM_REACHES\"] = df_thucs[\"NUM_REACHES\"].apply(int)\n",
    "df_thucs[\"NUM_CELLS\"] = df_thucs[\"NUM_CELLS\"].apply(int)"
   ]
  },
  {
   "cell_type": "code",
   "execution_count": 35,
   "metadata": {},
   "outputs": [],
   "source": [
    "df_thucs[\"THUC_ID\"] = df_thucs[\"THUC_ID\"].apply(str).str.zfill(4)"
   ]
  },
  {
   "cell_type": "code",
   "execution_count": 40,
   "metadata": {},
   "outputs": [],
   "source": [
    "df_thucs.to_csv('../../outputs/topagnps/aims_cells_reaches.csv', index=False)"
   ]
  },
  {
   "cell_type": "code",
   "execution_count": 41,
   "metadata": {},
   "outputs": [
    {
     "data": {
      "text/html": [
       "<div>\n",
       "<style scoped>\n",
       "    .dataframe tbody tr th:only-of-type {\n",
       "        vertical-align: middle;\n",
       "    }\n",
       "\n",
       "    .dataframe tbody tr th {\n",
       "        vertical-align: top;\n",
       "    }\n",
       "\n",
       "    .dataframe thead th {\n",
       "        text-align: right;\n",
       "    }\n",
       "</style>\n",
       "<table border=\"1\" class=\"dataframe\">\n",
       "  <thead>\n",
       "    <tr style=\"text-align: right;\">\n",
       "      <th></th>\n",
       "      <th>NUM_CELLS</th>\n",
       "      <th>NUM_REACHES</th>\n",
       "    </tr>\n",
       "  </thead>\n",
       "  <tbody>\n",
       "    <tr>\n",
       "      <th>count</th>\n",
       "      <td>4794.000000</td>\n",
       "      <td>4794.000000</td>\n",
       "    </tr>\n",
       "    <tr>\n",
       "      <th>mean</th>\n",
       "      <td>17886.913433</td>\n",
       "      <td>7387.039007</td>\n",
       "    </tr>\n",
       "    <tr>\n",
       "      <th>std</th>\n",
       "      <td>63172.403159</td>\n",
       "      <td>26140.037981</td>\n",
       "    </tr>\n",
       "    <tr>\n",
       "      <th>min</th>\n",
       "      <td>2.000000</td>\n",
       "      <td>2.000000</td>\n",
       "    </tr>\n",
       "    <tr>\n",
       "      <th>25%</th>\n",
       "      <td>504.000000</td>\n",
       "      <td>210.000000</td>\n",
       "    </tr>\n",
       "    <tr>\n",
       "      <th>50%</th>\n",
       "      <td>1065.000000</td>\n",
       "      <td>441.000000</td>\n",
       "    </tr>\n",
       "    <tr>\n",
       "      <th>75%</th>\n",
       "      <td>3834.000000</td>\n",
       "      <td>1589.750000</td>\n",
       "    </tr>\n",
       "    <tr>\n",
       "      <th>max</th>\n",
       "      <td>763057.000000</td>\n",
       "      <td>328460.000000</td>\n",
       "    </tr>\n",
       "  </tbody>\n",
       "</table>\n",
       "</div>"
      ],
      "text/plain": [
       "           NUM_CELLS    NUM_REACHES\n",
       "count    4794.000000    4794.000000\n",
       "mean    17886.913433    7387.039007\n",
       "std     63172.403159   26140.037981\n",
       "min         2.000000       2.000000\n",
       "25%       504.000000     210.000000\n",
       "50%      1065.000000     441.000000\n",
       "75%      3834.000000    1589.750000\n",
       "max    763057.000000  328460.000000"
      ]
     },
     "execution_count": 41,
     "metadata": {},
     "output_type": "execute_result"
    }
   ],
   "source": [
    "df_thucs.describe()"
   ]
  },
  {
   "cell_type": "code",
   "execution_count": 44,
   "metadata": {},
   "outputs": [
    {
     "name": "stdout",
     "output_type": "stream",
     "text": [
      "On AIMS there are 4794 T-HUCs, totaling 85749863 cells and 35413465 reaches\n"
     ]
    }
   ],
   "source": [
    "tot_cells = df_thucs[\"NUM_CELLS\"].sum()\n",
    "tot_reaches = df_thucs[\"NUM_REACHES\"].sum()\n",
    "\n",
    "print(f\"On AIMS there are {df_thucs.shape[0]} T-HUCs, totaling {tot_cells:.0f} cells and {tot_reaches:.0f} reaches\")"
   ]
  },
  {
   "cell_type": "code",
   "execution_count": 45,
   "metadata": {},
   "outputs": [
    {
     "name": "stderr",
     "output_type": "stream",
     "text": [
      "C:\\Users\\Luc\\AppData\\Local\\Temp\\ipykernel_32564\\3309034549.py:1: SettingWithCopyWarning: \n",
      "A value is trying to be set on a copy of a slice from a DataFrame.\n",
      "Try using .loc[row_indexer,col_indexer] = value instead\n",
      "\n",
      "See the caveats in the documentation: https://pandas.pydata.org/pandas-docs/stable/user_guide/indexing.html#returning-a-view-versus-a-copy\n",
      "  df_thucs[\"C2R\"] = df_thucs[\"NUM_CELLS\"]/df_thucs[\"NUM_REACHES\"]\n"
     ]
    }
   ],
   "source": [
    "df_thucs[\"C2R\"] = df_thucs[\"NUM_CELLS\"]/df_thucs[\"NUM_REACHES\"]"
   ]
  },
  {
   "cell_type": "code",
   "execution_count": 48,
   "metadata": {},
   "outputs": [
    {
     "data": {
      "text/plain": [
       "count    4794.000000\n",
       "mean        2.402489\n",
       "std         0.097271\n",
       "min         0.750000\n",
       "25%         2.375000\n",
       "50%         2.424851\n",
       "75%         2.456262\n",
       "max         2.496732\n",
       "Name: C2R, dtype: float64"
      ]
     },
     "execution_count": 48,
     "metadata": {},
     "output_type": "execute_result"
    }
   ],
   "source": [
    "df_thucs[\"C2R\"].describe()"
   ]
  }
 ],
 "metadata": {
  "kernelspec": {
   "display_name": ".venv",
   "language": "python",
   "name": "python3"
  },
  "language_info": {
   "codemirror_mode": {
    "name": "ipython",
    "version": 3
   },
   "file_extension": ".py",
   "mimetype": "text/x-python",
   "name": "python",
   "nbconvert_exporter": "python",
   "pygments_lexer": "ipython3",
   "version": "3.11.4"
  },
  "orig_nbformat": 4
 },
 "nbformat": 4,
 "nbformat_minor": 2
}
