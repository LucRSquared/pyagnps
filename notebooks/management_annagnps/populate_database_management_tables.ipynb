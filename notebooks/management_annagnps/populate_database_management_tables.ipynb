{
 "cells": [
  {
   "cell_type": "code",
   "execution_count": 1,
   "metadata": {},
   "outputs": [],
   "source": [
    "from pathlib import Path\n",
    "import json\n",
    "import pandas as pd\n",
    "from sqlalchemy import URL, create_engine, text as sql_text"
   ]
  },
  {
   "cell_type": "code",
   "execution_count": 2,
   "metadata": {},
   "outputs": [],
   "source": [
    "credentials = Path('../../inputs/db_credentials.json')\n",
    "with open(credentials, 'r') as f:\n",
    "    credentials = json.load(f)\n",
    "\n",
    "user     = credentials['user']\n",
    "password = credentials['password']\n",
    "host     = credentials['host']\n",
    "port     = credentials['port']\n",
    "database = credentials['database']\n",
    "\n",
    "# Create db connection object\n",
    "url_object = URL.create(\n",
    "    \"postgresql\",\n",
    "    username=user,\n",
    "    password=password,\n",
    "    host=host,\n",
    "    port=port,\n",
    "    database=database\n",
    ")\n",
    "\n",
    "# create a SQLAlchemy engine object\n",
    "engine = create_engine(url_object)"
   ]
  },
  {
   "cell_type": "code",
   "execution_count": 65,
   "metadata": {},
   "outputs": [],
   "source": [
    "# root_dir = Path('C:/Users/Luc/projects/pyagnps/inputs/soil/ALL_US_v3_SSURGO_STATSGO2_RSS')\n",
    "root_dir = Path('C:/Users/Luc/projects/pyagnps/inputs/management/templates')\n",
    "\n",
    "df_crop = pd.read_csv(root_dir / 'AnnAGNPS_Crop_Data.csv')\n",
    "df_crop_growth = pd.read_csv(root_dir / 'AnnAGNPS_Crop_Growth_Data.csv')\n",
    "df_non_crop = pd.read_csv(root_dir / 'AnnAGNPS_Non_Crop_Data.csv')\n",
    "\n",
    "df_mgmt_field = pd.read_csv(root_dir / 'AnnAGNPS_Management_Field_Data.csv')\n",
    "df_mgmt_oper = pd.read_csv(root_dir / 'AnnAGNPS_Management_Operation_Data.csv')\n",
    "df_mgmt_schd = pd.read_csv(root_dir / 'AnnAGNPS_Management_Schedule_Data.csv')\n",
    "\n",
    "df_roc = pd.read_csv(root_dir / 'Runoff_Curve_Number_Data.csv')\n",
    "\n",
    "tbl_name_crop = 'annagnps_crop'\n",
    "tbl_name_crop_growth = 'annagnps_crop_growth'\n",
    "tbl_name_non_crop = 'annagnps_non_crop'\n",
    "\n",
    "tbl_name_mgmt_field = 'annagnps_mgmt_field'\n",
    "tbl_name_mgmt_oper = 'annagnps_mgmt_oper'\n",
    "tbl_name_mgmt_schd = 'annagnps_mgmt_schd'\n",
    "\n",
    "tbl_name_roc = 'annagnps_runoff_curve'\n",
    "\n",
    "\n",
    "df_ann_id = pd.read_csv(root_dir / 'AnnAGNPS_ID.csv').fillna('')\n",
    "\n",
    "df_opts_aa = pd.read_csv(root_dir / 'Output_Options_AA.csv').fillna('')\n",
    "df_opts_global = pd.read_csv(root_dir / 'Output_Options_Global.csv').fillna('')\n",
    "df_opts_tbl = pd.read_csv(root_dir / 'Output_Options_tbl.csv').fillna('')"
   ]
  },
  {
   "cell_type": "code",
   "execution_count": 69,
   "metadata": {},
   "outputs": [],
   "source": [
    "DEFAULT_ANNAGNPS_ID = [\n",
    "    ('Version', 6.0),\n",
    "    ('Input_Units', 1),\n",
    "    ('Output_Units', 1),\n",
    "    ('CCHE1D_Output_Units', float('nan')),\n",
    "    ('Screen_Output_Units', float('nan'))\n",
    "]\n",
    "\n",
    "columns, vals = zip(*DEFAULT_ANNAGNPS_ID)\n",
    "\n",
    "pd.DataFrame([vals], columns=columns).to_csv('prout.csv',index=False)"
   ]
  },
  {
   "cell_type": "code",
   "execution_count": 66,
   "metadata": {},
   "outputs": [
    {
     "data": {
      "text/plain": [
       "[('Version', 6.0),\n",
       " ('Input_Units', 1),\n",
       " ('Output_Units', 1),\n",
       " ('CCHE1D_Output_Units', ''),\n",
       " ('Screen_Output_Units', '')]"
      ]
     },
     "execution_count": 66,
     "metadata": {},
     "output_type": "execute_result"
    }
   ],
   "source": [
    "df = df_ann_id\n",
    "\n",
    "list(zip(df.columns, df.iloc[0]))\n",
    "\n",
    "# print(df.to_dict(orient='split'))\n",
    "\n",
    "# print(df.to_dict(orient='split')['columns'])\n",
    "# print(df.to_dict(orient='split')['data'])"
   ]
  },
  {
   "cell_type": "code",
   "execution_count": 57,
   "metadata": {},
   "outputs": [
    {
     "data": {
      "text/plain": [
       "[('Reserved', ''),\n",
       " ('Reserved.1', ''),\n",
       " ('Reserved.2', ''),\n",
       " ('Reserved.3', ''),\n",
       " ('Reserved.4', ''),\n",
       " ('Reserved.5', ''),\n",
       " ('AA_Gullies_Erosion', ''),\n",
       " ('Reserved.6', ''),\n",
       " ('Reserved.7', ''),\n",
       " ('AA_N_Ld_Mass', ''),\n",
       " ('AA_N_Ld_Ratio', ''),\n",
       " ('AA_N_Ld_UA', ''),\n",
       " ('AA_N_Yld_Mass', ''),\n",
       " ('AA_N_Yld_Ratio', ''),\n",
       " ('AA_N_Yld_UA', ''),\n",
       " ('AA_OC_Ld_Mass', ''),\n",
       " ('AA_OC_Ld_Ratio', ''),\n",
       " ('AA_OC_Ld_UA', ''),\n",
       " ('AA_OC_Yld_Mass', ''),\n",
       " ('AA_OC_Yld_Ratio', ''),\n",
       " ('AA_OC_Yld_UA', ''),\n",
       " ('Reserved.8', ''),\n",
       " ('Reserved.9', ''),\n",
       " ('Reserved.10', ''),\n",
       " ('Reserved.11', ''),\n",
       " ('Reserved.12', ''),\n",
       " ('Reserved.13', ''),\n",
       " ('AA_P_Ld_Mass', ''),\n",
       " ('AA_P_Ld_Ratio', ''),\n",
       " ('AA_P_Ld_UA', ''),\n",
       " ('AA_P_Yld_Mass', ''),\n",
       " ('AA_P_Yld_Ratio', ''),\n",
       " ('AA_P_Yld_UA', ''),\n",
       " ('Reserved.14', ''),\n",
       " ('Reserved.15', ''),\n",
       " ('Reserved.16', ''),\n",
       " ('AA_Sed_Eros_Mass', ''),\n",
       " ('AA_Sed_Eros_Ratio', ''),\n",
       " ('AA_Sed_Eros_UA', 'T'),\n",
       " ('AA_Sed_Ld_Mass', ''),\n",
       " ('AA_Sed_Ld_Ratio', ''),\n",
       " ('AA_Sed_Ld_UA', ''),\n",
       " ('AA_Sed_Yld_Mass', ''),\n",
       " ('AA_Sed_Yld_Ratio', ''),\n",
       " ('AA_Sed_Yld_UA', 'T'),\n",
       " ('AA_Wtr_Ld_Mass', ''),\n",
       " ('AA_Wtr_Ld_Ratio', ''),\n",
       " ('AA_Wtr_Ld_UA', ''),\n",
       " ('AA_Wtr_Yld_Mass', ''),\n",
       " ('AA_Wtr_Yld_Ratio', ''),\n",
       " ('AA_Wtr_Yld_UA', 'T')]"
      ]
     },
     "execution_count": 57,
     "metadata": {},
     "output_type": "execute_result"
    }
   ],
   "source": []
  },
  {
   "cell_type": "markdown",
   "metadata": {},
   "source": [
    "## Populate database with tables"
   ]
  },
  {
   "cell_type": "markdown",
   "metadata": {},
   "source": [
    "Populate `annagnps_crop` table"
   ]
  },
  {
   "cell_type": "code",
   "execution_count": 4,
   "metadata": {},
   "outputs": [],
   "source": [
    "# create a new table in the database\n",
    "with engine.connect() as conn:\n",
    "    # start a transaction\n",
    "    trans = conn.begin()\n",
    "\n",
    "    try:\n",
    "        # create a table with the same column names and data types as the DataFrame\n",
    "        df_crop.to_sql(name=tbl_name_crop, con=conn, index=False, if_exists='replace')\n",
    "\n",
    "        # commit the transaction if there were no errors\n",
    "        trans.commit()\n",
    "\n",
    "    except Exception as e:\n",
    "        # rollback the transaction if there was an error\n",
    "        trans.rollback()\n",
    "        raise e"
   ]
  },
  {
   "cell_type": "markdown",
   "metadata": {},
   "source": [
    "Populate `annagnps_crop_growth` table"
   ]
  },
  {
   "cell_type": "code",
   "execution_count": 5,
   "metadata": {},
   "outputs": [],
   "source": [
    "# create a new table in the database\n",
    "with engine.connect() as conn:\n",
    "    # start a transaction\n",
    "    trans = conn.begin()\n",
    "\n",
    "    try:\n",
    "        # create a table with the same column names and data types as the DataFrame\n",
    "        df_crop_growth.to_sql(name=tbl_name_crop_growth, con=conn, index=False, if_exists='replace')\n",
    "\n",
    "        # commit the transaction if there were no errors\n",
    "        trans.commit()\n",
    "\n",
    "    except Exception as e:\n",
    "        # rollback the transaction if there was an error\n",
    "        trans.rollback()\n",
    "        raise e"
   ]
  },
  {
   "cell_type": "markdown",
   "metadata": {},
   "source": [
    "Populate `annagnps_non_crop` table"
   ]
  },
  {
   "cell_type": "code",
   "execution_count": 6,
   "metadata": {},
   "outputs": [],
   "source": [
    "# create a new table in the database\n",
    "with engine.connect() as conn:\n",
    "    # start a transaction\n",
    "    trans = conn.begin()\n",
    "\n",
    "    try:\n",
    "        # create a table with the same column names and data types as the DataFrame\n",
    "        df_non_crop.to_sql(name=tbl_name_non_crop, con=conn, index=False, if_exists='replace')\n",
    "\n",
    "        # commit the transaction if there were no errors\n",
    "        trans.commit()\n",
    "\n",
    "    except Exception as e:\n",
    "        # rollback the transaction if there was an error\n",
    "        trans.rollback()\n",
    "        raise e"
   ]
  },
  {
   "cell_type": "markdown",
   "metadata": {},
   "source": [
    "Populate `annagnps_mgmt_field` table"
   ]
  },
  {
   "cell_type": "code",
   "execution_count": 7,
   "metadata": {},
   "outputs": [],
   "source": [
    "# create a new table in the database\n",
    "with engine.connect() as conn:\n",
    "    # start a transaction\n",
    "    trans = conn.begin()\n",
    "\n",
    "    try:\n",
    "        # create a table with the same column names and data types as the DataFrame\n",
    "        df_mgmt_field.to_sql(name=tbl_name_mgmt_field, con=conn, index=False, if_exists='replace')\n",
    "\n",
    "        # commit the transaction if there were no errors\n",
    "        trans.commit()\n",
    "\n",
    "    except Exception as e:\n",
    "        # rollback the transaction if there was an error\n",
    "        trans.rollback()\n",
    "        raise e"
   ]
  },
  {
   "cell_type": "markdown",
   "metadata": {},
   "source": [
    "Populate `annagnps_mgmt_oper` table"
   ]
  },
  {
   "cell_type": "code",
   "execution_count": 8,
   "metadata": {},
   "outputs": [],
   "source": [
    "# create a new table in the database\n",
    "with engine.connect() as conn:\n",
    "    # start a transaction\n",
    "    trans = conn.begin()\n",
    "\n",
    "    try:\n",
    "        # create a table with the same column names and data types as the DataFrame\n",
    "        df_mgmt_oper.to_sql(name=tbl_name_mgmt_oper, con=conn, index=False, if_exists='replace')\n",
    "\n",
    "        # commit the transaction if there were no errors\n",
    "        trans.commit()\n",
    "\n",
    "    except Exception as e:\n",
    "        # rollback the transaction if there was an error\n",
    "        trans.rollback()\n",
    "        raise e"
   ]
  },
  {
   "cell_type": "markdown",
   "metadata": {},
   "source": [
    "Populate `annagnps_mgmt_schd` table"
   ]
  },
  {
   "cell_type": "code",
   "execution_count": 9,
   "metadata": {},
   "outputs": [],
   "source": [
    "# create a new table in the database\n",
    "with engine.connect() as conn:\n",
    "    # start a transaction\n",
    "    trans = conn.begin()\n",
    "\n",
    "    try:\n",
    "        # create a table with the same column names and data types as the DataFrame\n",
    "        df_mgmt_schd.to_sql(name=tbl_name_mgmt_schd, con=conn, index=False, if_exists='replace')\n",
    "\n",
    "        # commit the transaction if there were no errors\n",
    "        trans.commit()\n",
    "\n",
    "    except Exception as e:\n",
    "        # rollback the transaction if there was an error\n",
    "        trans.rollback()\n",
    "        raise e"
   ]
  },
  {
   "cell_type": "markdown",
   "metadata": {},
   "source": [
    "Populate `annagnps_runoff_curve` table"
   ]
  },
  {
   "cell_type": "code",
   "execution_count": 10,
   "metadata": {},
   "outputs": [],
   "source": [
    "# create a new table in the database\n",
    "with engine.connect() as conn:\n",
    "    # start a transaction\n",
    "    trans = conn.begin()\n",
    "\n",
    "    try:\n",
    "        # create a table with the same column names and data types as the DataFrame\n",
    "        df_roc.to_sql(name=tbl_name_roc, con=conn, index=False, if_exists='replace')\n",
    "\n",
    "        # commit the transaction if there were no errors\n",
    "        trans.commit()\n",
    "\n",
    "    except Exception as e:\n",
    "        # rollback the transaction if there was an error\n",
    "        trans.rollback()\n",
    "        raise e"
   ]
  },
  {
   "attachments": {},
   "cell_type": "markdown",
   "metadata": {},
   "source": [
    "## Check that it worked"
   ]
  },
  {
   "cell_type": "code",
   "execution_count": 11,
   "metadata": {},
   "outputs": [],
   "source": [
    "mgmt_tables = [\n",
    "'annagnps_crop',\n",
    "'annagnps_crop_growth',\n",
    "'annagnps_non_crop',\n",
    "'annagnps_mgmt_field',\n",
    "'annagnps_mgmt_oper',\n",
    "'annagnps_mgmt_schd',\n",
    "'annagnps_runoff_curve'\n",
    "]"
   ]
  },
  {
   "cell_type": "code",
   "execution_count": 20,
   "metadata": {},
   "outputs": [
    {
     "data": {
      "text/html": [
       "<div>\n",
       "<style scoped>\n",
       "    .dataframe tbody tr th:only-of-type {\n",
       "        vertical-align: middle;\n",
       "    }\n",
       "\n",
       "    .dataframe tbody tr th {\n",
       "        vertical-align: top;\n",
       "    }\n",
       "\n",
       "    .dataframe thead th {\n",
       "        text-align: right;\n",
       "    }\n",
       "</style>\n",
       "<table border=\"1\" class=\"dataframe\">\n",
       "  <thead>\n",
       "    <tr style=\"text-align: right;\">\n",
       "      <th></th>\n",
       "      <th>Curve_Number_ID</th>\n",
       "      <th>CN_A</th>\n",
       "      <th>CN_B</th>\n",
       "      <th>CN_C</th>\n",
       "      <th>CN_D</th>\n",
       "    </tr>\n",
       "  </thead>\n",
       "  <tbody>\n",
       "    <tr>\n",
       "      <th>0</th>\n",
       "      <td>Open_Space_(Poor)</td>\n",
       "      <td>68.0</td>\n",
       "      <td>79.0</td>\n",
       "      <td>86.0</td>\n",
       "      <td>89.0</td>\n",
       "    </tr>\n",
       "    <tr>\n",
       "      <th>1</th>\n",
       "      <td>Open_Space_(Fair)</td>\n",
       "      <td>49.0</td>\n",
       "      <td>69.0</td>\n",
       "      <td>79.0</td>\n",
       "      <td>84.0</td>\n",
       "    </tr>\n",
       "    <tr>\n",
       "      <th>2</th>\n",
       "      <td>Open_Space_(Good)</td>\n",
       "      <td>39.0</td>\n",
       "      <td>61.0</td>\n",
       "      <td>74.0</td>\n",
       "      <td>80.0</td>\n",
       "    </tr>\n",
       "    <tr>\n",
       "      <th>3</th>\n",
       "      <td>Impervious</td>\n",
       "      <td>98.0</td>\n",
       "      <td>98.0</td>\n",
       "      <td>98.0</td>\n",
       "      <td>98.0</td>\n",
       "    </tr>\n",
       "    <tr>\n",
       "      <th>4</th>\n",
       "      <td>Roads_(Paved)</td>\n",
       "      <td>98.0</td>\n",
       "      <td>98.0</td>\n",
       "      <td>98.0</td>\n",
       "      <td>98.0</td>\n",
       "    </tr>\n",
       "    <tr>\n",
       "      <th>...</th>\n",
       "      <td>...</td>\n",
       "      <td>...</td>\n",
       "      <td>...</td>\n",
       "      <td>...</td>\n",
       "      <td>...</td>\n",
       "    </tr>\n",
       "    <tr>\n",
       "      <th>76</th>\n",
       "      <td>Rangeland_(Sagebrush_Fair)</td>\n",
       "      <td>30.0</td>\n",
       "      <td>51.0</td>\n",
       "      <td>63.0</td>\n",
       "      <td>70.0</td>\n",
       "    </tr>\n",
       "    <tr>\n",
       "      <th>77</th>\n",
       "      <td>Rangeland_(Sagebrush_Good)</td>\n",
       "      <td>30.0</td>\n",
       "      <td>35.0</td>\n",
       "      <td>47.0</td>\n",
       "      <td>55.0</td>\n",
       "    </tr>\n",
       "    <tr>\n",
       "      <th>78</th>\n",
       "      <td>Rangeland_(Desert_Shrub_Poor)</td>\n",
       "      <td>63.0</td>\n",
       "      <td>77.0</td>\n",
       "      <td>85.0</td>\n",
       "      <td>88.0</td>\n",
       "    </tr>\n",
       "    <tr>\n",
       "      <th>79</th>\n",
       "      <td>Rangeland_(Desert_Shrub_Fair)</td>\n",
       "      <td>55.0</td>\n",
       "      <td>72.0</td>\n",
       "      <td>81.0</td>\n",
       "      <td>86.0</td>\n",
       "    </tr>\n",
       "    <tr>\n",
       "      <th>80</th>\n",
       "      <td>Rangeland_(Desert_Shrub_Good)</td>\n",
       "      <td>49.0</td>\n",
       "      <td>68.0</td>\n",
       "      <td>79.0</td>\n",
       "      <td>84.0</td>\n",
       "    </tr>\n",
       "  </tbody>\n",
       "</table>\n",
       "<p>81 rows × 5 columns</p>\n",
       "</div>"
      ],
      "text/plain": [
       "                  Curve_Number_ID  CN_A  CN_B  CN_C  CN_D\n",
       "0               Open_Space_(Poor)  68.0  79.0  86.0  89.0\n",
       "1               Open_Space_(Fair)  49.0  69.0  79.0  84.0\n",
       "2               Open_Space_(Good)  39.0  61.0  74.0  80.0\n",
       "3                      Impervious  98.0  98.0  98.0  98.0\n",
       "4                   Roads_(Paved)  98.0  98.0  98.0  98.0\n",
       "..                            ...   ...   ...   ...   ...\n",
       "76     Rangeland_(Sagebrush_Fair)  30.0  51.0  63.0  70.0\n",
       "77     Rangeland_(Sagebrush_Good)  30.0  35.0  47.0  55.0\n",
       "78  Rangeland_(Desert_Shrub_Poor)  63.0  77.0  85.0  88.0\n",
       "79  Rangeland_(Desert_Shrub_Fair)  55.0  72.0  81.0  86.0\n",
       "80  Rangeland_(Desert_Shrub_Good)  49.0  68.0  79.0  84.0\n",
       "\n",
       "[81 rows x 5 columns]"
      ]
     },
     "execution_count": 20,
     "metadata": {},
     "output_type": "execute_result"
    }
   ],
   "source": [
    "query = f\"SELECT * FROM {mgmt_tables[6]} LIMIT 100\"\n",
    "\n",
    "with engine.connect() as conn:\n",
    "\n",
    "    try:\n",
    "\n",
    "        df_check = pd.read_sql_query(sql=sql_text(query), con=conn)\n",
    "\n",
    "    except Exception as e:\n",
    "\n",
    "        raise e\n",
    "    \n",
    "df_check"
   ]
  }
 ],
 "metadata": {
  "kernelspec": {
   "display_name": "venv",
   "language": "python",
   "name": "python3"
  },
  "language_info": {
   "codemirror_mode": {
    "name": "ipython",
    "version": 3
   },
   "file_extension": ".py",
   "mimetype": "text/x-python",
   "name": "python",
   "nbconvert_exporter": "python",
   "pygments_lexer": "ipython3",
   "version": "3.11.4"
  },
  "orig_nbformat": 4
 },
 "nbformat": 4,
 "nbformat_minor": 2
}
