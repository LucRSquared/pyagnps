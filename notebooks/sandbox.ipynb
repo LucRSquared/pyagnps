{
 "cells": [
  {
   "cell_type": "code",
   "execution_count": 4,
   "metadata": {},
   "outputs": [],
   "source": [
    "import sys\n",
    "import os\n",
    "# import pyagnps"
   ]
  },
  {
   "cell_type": "code",
   "execution_count": 9,
   "metadata": {},
   "outputs": [
    {
     "data": {
      "text/plain": [
       "'Luc-NCCHE-XPS.nat.olemiss.edu'"
      ]
     },
     "execution_count": 9,
     "metadata": {},
     "output_type": "execute_result"
    }
   ],
   "source": [
    "import socket\n",
    "\n",
    "socket.getfqdn()"
   ]
  },
  {
   "cell_type": "code",
   "execution_count": 11,
   "metadata": {},
   "outputs": [
    {
     "data": {
      "text/plain": [
       "False"
      ]
     },
     "execution_count": 11,
     "metadata": {},
     "output_type": "execute_result"
    }
   ],
   "source": [
    "'True' == True"
   ]
  },
  {
   "cell_type": "code",
   "execution_count": 7,
   "metadata": {},
   "outputs": [],
   "source": [
    "from pyagnps.utils import log_to_file\n",
    "\n",
    "log_to_file(\"bonjour.log\", \"bonjour\")"
   ]
  },
  {
   "cell_type": "code",
   "execution_count": 7,
   "metadata": {},
   "outputs": [],
   "source": [
    "import geopandas as gpd\n",
    "import json\n",
    "from pathlib import Path\n",
    "\n",
    "from sqlalchemy import create_engine, URL"
   ]
  },
  {
   "cell_type": "code",
   "execution_count": 3,
   "metadata": {},
   "outputs": [],
   "source": [
    "gdf = gpd.read_file(\"../inputs/climate/NLDAS2_GRID_CENTROIDS_epsg4326.gpkg\")"
   ]
  },
  {
   "cell_type": "code",
   "execution_count": 12,
   "metadata": {},
   "outputs": [],
   "source": [
    "gdf = gdf.rename(columns={\"nldas2_grid_ID\": \"station_id\"})"
   ]
  },
  {
   "cell_type": "code",
   "execution_count": 13,
   "metadata": {},
   "outputs": [
    {
     "data": {
      "text/html": [
       "<div>\n",
       "<style scoped>\n",
       "    .dataframe tbody tr th:only-of-type {\n",
       "        vertical-align: middle;\n",
       "    }\n",
       "\n",
       "    .dataframe tbody tr th {\n",
       "        vertical-align: top;\n",
       "    }\n",
       "\n",
       "    .dataframe thead th {\n",
       "        text-align: right;\n",
       "    }\n",
       "</style>\n",
       "<table border=\"1\" class=\"dataframe\">\n",
       "  <thead>\n",
       "    <tr style=\"text-align: right;\">\n",
       "      <th></th>\n",
       "      <th>station_id</th>\n",
       "      <th>geometry</th>\n",
       "    </tr>\n",
       "  </thead>\n",
       "  <tbody>\n",
       "    <tr>\n",
       "      <th>0</th>\n",
       "      <td>103473</td>\n",
       "      <td>POINT (-124.93750 52.93750)</td>\n",
       "    </tr>\n",
       "    <tr>\n",
       "      <th>1</th>\n",
       "      <td>103474</td>\n",
       "      <td>POINT (-124.81250 52.93750)</td>\n",
       "    </tr>\n",
       "    <tr>\n",
       "      <th>2</th>\n",
       "      <td>103475</td>\n",
       "      <td>POINT (-124.68750 52.93750)</td>\n",
       "    </tr>\n",
       "    <tr>\n",
       "      <th>3</th>\n",
       "      <td>103476</td>\n",
       "      <td>POINT (-124.56250 52.93750)</td>\n",
       "    </tr>\n",
       "    <tr>\n",
       "      <th>4</th>\n",
       "      <td>103477</td>\n",
       "      <td>POINT (-124.43750 52.93750)</td>\n",
       "    </tr>\n",
       "    <tr>\n",
       "      <th>...</th>\n",
       "      <td>...</td>\n",
       "      <td>...</td>\n",
       "    </tr>\n",
       "    <tr>\n",
       "      <th>103931</th>\n",
       "      <td>460</td>\n",
       "      <td>POINT (-67.56250 25.06250)</td>\n",
       "    </tr>\n",
       "    <tr>\n",
       "      <th>103932</th>\n",
       "      <td>461</td>\n",
       "      <td>POINT (-67.43750 25.06250)</td>\n",
       "    </tr>\n",
       "    <tr>\n",
       "      <th>103933</th>\n",
       "      <td>462</td>\n",
       "      <td>POINT (-67.31250 25.06250)</td>\n",
       "    </tr>\n",
       "    <tr>\n",
       "      <th>103934</th>\n",
       "      <td>463</td>\n",
       "      <td>POINT (-67.18750 25.06250)</td>\n",
       "    </tr>\n",
       "    <tr>\n",
       "      <th>103935</th>\n",
       "      <td>464</td>\n",
       "      <td>POINT (-67.06250 25.06250)</td>\n",
       "    </tr>\n",
       "  </tbody>\n",
       "</table>\n",
       "<p>103936 rows × 2 columns</p>\n",
       "</div>"
      ],
      "text/plain": [
       "        station_id                     geometry\n",
       "0           103473  POINT (-124.93750 52.93750)\n",
       "1           103474  POINT (-124.81250 52.93750)\n",
       "2           103475  POINT (-124.68750 52.93750)\n",
       "3           103476  POINT (-124.56250 52.93750)\n",
       "4           103477  POINT (-124.43750 52.93750)\n",
       "...            ...                          ...\n",
       "103931         460   POINT (-67.56250 25.06250)\n",
       "103932         461   POINT (-67.43750 25.06250)\n",
       "103933         462   POINT (-67.31250 25.06250)\n",
       "103934         463   POINT (-67.18750 25.06250)\n",
       "103935         464   POINT (-67.06250 25.06250)\n",
       "\n",
       "[103936 rows x 2 columns]"
      ]
     },
     "execution_count": 13,
     "metadata": {},
     "output_type": "execute_result"
    }
   ],
   "source": [
    "gdf"
   ]
  },
  {
   "cell_type": "code",
   "execution_count": 18,
   "metadata": {},
   "outputs": [],
   "source": [
    "path_to_creds_menderes = Path(\"../inputs/db_credentials.json\")\n",
    "\n",
    "with open(path_to_creds_menderes, \"r\") as f:\n",
    "    creds = json.load(f)\n",
    "\n",
    "\n",
    "db_url = URL.create(\n",
    "                \"postgresql\",\n",
    "                username=creds['user'],\n",
    "                password=creds['password'],\n",
    "                host=creds['host'],\n",
    "                port=creds['port'],\n",
    "                database=creds['database']\n",
    "                )\n",
    "\n",
    "\n",
    "engine = create_engine(db_url)"
   ]
  },
  {
   "cell_type": "code",
   "execution_count": null,
   "metadata": {},
   "outputs": [],
   "source": []
  },
  {
   "cell_type": "code",
   "execution_count": 19,
   "metadata": {},
   "outputs": [],
   "source": [
    "# Populate database with table called \"nldas2_grid_centroids\" using to_postgis()\n",
    "\n",
    "gdf.to_postgis(\"nldas2_grid_centroids\", engine, if_exists=\"replace\", index=False)"
   ]
  }
 ],
 "metadata": {
  "kernelspec": {
   "display_name": ".venv",
   "language": "python",
   "name": "python3"
  },
  "language_info": {
   "codemirror_mode": {
    "name": "ipython",
    "version": 3
   },
   "file_extension": ".py",
   "mimetype": "text/x-python",
   "name": "python",
   "nbconvert_exporter": "python",
   "pygments_lexer": "ipython3",
   "version": "3.11.4"
  }
 },
 "nbformat": 4,
 "nbformat_minor": 2
}
